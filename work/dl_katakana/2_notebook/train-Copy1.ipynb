{
 "cells": [
  {
   "cell_type": "markdown",
   "metadata": {
    "id": "suXTNAk4G5kK"
   },
   "source": [
    "# 学習方法の例"
   ]
  },
  {
   "cell_type": "code",
   "execution_count": 2,
   "metadata": {
    "id": "EcSRey7kG5kN"
   },
   "outputs": [],
   "source": [
    "import numpy as np\n",
    "import pandas as pd\n",
    "import matplotlib.pyplot as plt\n",
    "from sklearn.model_selection import train_test_split\n",
    "import pickle"
   ]
  },
  {
   "cell_type": "code",
   "execution_count": 3,
   "metadata": {},
   "outputs": [],
   "source": [
    "import mlflow\n",
    "import mlflow.sklearn"
   ]
  },
  {
   "cell_type": "code",
   "execution_count": 4,
   "metadata": {
    "id": "NjgMMNjMG9OG"
   },
   "outputs": [],
   "source": [
    "# import numpy as np\n",
    "# import pandas as pd\n",
    "# import matplotlib.pyplot as plt\n",
    "# from sklearn.model_selection import train_test_split\n",
    "# import pickle\n",
    "\n",
    "# try:\n",
    "#     from google.colab import files\n",
    "#     print('Google Colab. 上での実行です')\n",
    "#     print('「ファイルを選択」から、2_notebook/commonのlayers.pyを選択し、アップロードしてください')\n",
    "#     print('===========')\n",
    "#     files.upload()\n",
    "#     !mkdir common\n",
    "#     !mv *.py ./common\n",
    "#     print('次に 1_dataのtrain_data.npy、train_label.npyを選択し、アップロードしてください')\n",
    "#     print('===========')\n",
    "#     files.upload()\n",
    "#     !mkdir ../1_data\n",
    "#     !mv *.npy ../1_data\n",
    "# except:\n",
    "#     print('ローカル環境での実行です')\n",
    "\n",
    "\n",
    "# from common.layers import TwoLayerNet"
   ]
  },
  {
   "cell_type": "markdown",
   "metadata": {
    "id": "6jNYs1jSG5kP"
   },
   "source": [
    "## データを読む1"
   ]
  },
  {
   "cell_type": "code",
   "execution_count": 5,
   "metadata": {
    "id": "Jiax0u85G5kQ",
    "outputId": "f5bfd234-b39a-4ddf-a984-b62328e9386a"
   },
   "outputs": [
    {
     "name": "stdout",
     "output_type": "stream",
     "text": [
      "train_data.shape= (3000, 1, 28, 28)\n",
      "train_label.shape= (3000, 15)\n"
     ]
    }
   ],
   "source": [
    "train_data = np.load(\"../1_data/train_data.npy\")\n",
    "train_label = np.load(\"../1_data/train_label.npy\")\n",
    "print(\"train_data.shape=\", train_data.shape)\n",
    "print(\"train_label.shape=\", train_label.shape)"
   ]
  },
  {
   "cell_type": "code",
   "execution_count": 6,
   "metadata": {
    "id": "F6gBvz1YG5kS",
    "scrolled": true
   },
   "outputs": [],
   "source": [
    "# 正規化\n",
    "train_data = (train_data - train_data.min()) / train_data.max()\n",
    "train_data = train_data.astype('float32')\n",
    "# print(train_data)"
   ]
  },
  {
   "cell_type": "code",
   "execution_count": 7,
   "metadata": {
    "id": "yBgs1R8CG5kT",
    "outputId": "5cbdd0fb-ce3d-4ff4-8736-0bf4a43ab41a"
   },
   "outputs": [
    {
     "name": "stdout",
     "output_type": "stream",
     "text": [
      "train_data.shape= (3000, 784)\n"
     ]
    }
   ],
   "source": [
    "# 配列形式変更\n",
    "train_data = train_data.reshape(-1, 28*28)\n",
    "print(\"train_data.shape=\", train_data.shape)"
   ]
  },
  {
   "cell_type": "markdown",
   "metadata": {
    "id": "PMtlHat9G5kT"
   },
   "source": [
    "## trainとtestに分割する"
   ]
  },
  {
   "cell_type": "code",
   "execution_count": 8,
   "metadata": {
    "id": "BOHX-5ZbG5kT",
    "outputId": "b9dfda79-4f11-4c28-a30d-3f29a1ff9f4a",
    "scrolled": true
   },
   "outputs": [
    {
     "name": "stdout",
     "output_type": "stream",
     "text": [
      "(2100, 784) (900, 784)\n"
     ]
    }
   ],
   "source": [
    "X_train_all, X_test, y_train_all, y_test = train_test_split(train_data, train_label, \n",
    "                                                    test_size=0.3, random_state=1234,\n",
    "                                                    shuffle=True\n",
    "                                                   )\n",
    "\n",
    "print(X_train_all.shape, X_test.shape)"
   ]
  },
  {
   "cell_type": "code",
   "execution_count": 9,
   "metadata": {},
   "outputs": [
    {
     "name": "stdout",
     "output_type": "stream",
     "text": [
      "(2100, 784) (900, 784)\n",
      "(2100, 15) (900, 15)\n"
     ]
    }
   ],
   "source": [
    "# データを間引く\n",
    "# X_train = X_train_all[:1000,:]\n",
    "# y_train = y_train_all[:1000,:]\n",
    "X_train = X_train_all\n",
    "y_train = y_train_all\n",
    "print(X_train.shape, X_test.shape)\n",
    "print(y_train.shape, y_test.shape)"
   ]
  },
  {
   "cell_type": "markdown",
   "metadata": {
    "id": "Dp3kesqKG5kU"
   },
   "source": [
    "## 学習"
   ]
  },
  {
   "cell_type": "code",
   "execution_count": 10,
   "metadata": {},
   "outputs": [],
   "source": [
    "# 勾配の比較方法。当面使わないので抜粋してコメントアウト\n",
    "#             # 勾配の計算\n",
    "#             grads = tnet.gradient(x_, y_)\n",
    "\n",
    "#     #         # 勾配の比較（通常はコメントアウト）\n",
    "#     #         # diffの値がほぼゼロであれば誤差逆伝播法が正しく実装できている\n",
    "#     #         grad_numerical = tnet.numerical_gradient(x_, y_)\n",
    "#     #         for key in grad_numerical.keys():\n",
    "#     #             diff = np.average(np.abs(grads[key] - grad_numerical[key]))\n",
    "#     #             print(key + \":\" + str(diff))\n",
    "    \n",
    "#     #         break    \n"
   ]
  },
  {
   "cell_type": "code",
   "execution_count": 18,
   "metadata": {
    "id": "bEt3oqDdG5kU",
    "outputId": "f9be0492-2d6b-4d41-c005-8c54b018ffa0"
   },
   "outputs": [],
   "source": [
    "from common.layers import TwoLayerNet\n",
    "def model_train(epochs, batch_size, lr):\n",
    "    # 繰り返し回数\n",
    "    xsize = X_train.shape[0]\n",
    "    iter_num = np.ceil(xsize / batch_size).astype(int)\n",
    "\n",
    "    # 2層NNのオブジェクト生成\n",
    "    tnet = TwoLayerNet(input_size=28*28, hidden_size=10, output_size=15)\n",
    "\n",
    "    train_loss = []; test_loss = []; train_accuracy = []; test_accuracy = []\n",
    "\n",
    "    for epoch in range(epochs):\n",
    "        if np.mod(epoch,10)==0 : print(\"**epoch=%s\"%epoch)\n",
    "\n",
    "        # シャッフル\n",
    "        idx = np.arange(xsize)\n",
    "        np.random.shuffle(idx)\n",
    "\n",
    "        for it in range(iter_num):\n",
    "            \"\"\"\n",
    "            ランダムなミニバッチを順番に取り出す\n",
    "            \"\"\"\n",
    "            mask = idx[batch_size*it : batch_size*(it+1)]\n",
    "\n",
    "            # ミニバッチの生成\n",
    "            x_ = X_train[mask]\n",
    "            y_ = y_train[mask]\n",
    "            \n",
    "            # 勾配の計算\n",
    "            grads = tnet.gradient(x_, y_)\n",
    "\n",
    "            # パラメータの更新\n",
    "            for key in tnet.params.keys():\n",
    "                tnet.params[key] -= lr * grads[key]\n",
    "\n",
    "        # 訓練データおよびテストデータにおけるlossを記録\n",
    "        train_loss.append(tnet.loss(X_train,  y_train)); test_loss.append(tnet.loss(X_test, y_test))\n",
    "\n",
    "        # 訓練データおよびテストデータにおける精度を記録\n",
    "        train_accuracy.append(tnet.accuracy(X_train, y_train)); test_accuracy.append(tnet.accuracy(X_test, y_test))\n",
    "        \n",
    "    return tnet, train_accuracy, test_accuracy, train_loss, test_loss"
   ]
  },
  {
   "cell_type": "code",
   "execution_count": 22,
   "metadata": {},
   "outputs": [
    {
     "name": "stdout",
     "output_type": "stream",
     "text": [
      "**epoch=0\n",
      "**epoch=10\n",
      "**epoch=20\n",
      "**epoch=30\n",
      "0.8122222222222222\n",
      "[0.07, 0.06444444444444444, 0.10777777777777778, 0.17222222222222222, 0.25666666666666665, 0.32, 0.43, 0.43222222222222223, 0.5444444444444444, 0.5655555555555556, 0.5533333333333333, 0.6444444444444445, 0.5988888888888889, 0.6822222222222222, 0.6688888888888889, 0.7444444444444445, 0.6577777777777778, 0.7566666666666667, 0.8011111111111111, 0.71, 0.7711111111111111, 0.7711111111111111, 0.8177777777777778, 0.84, 0.8211111111111111, 0.7955555555555556, 0.7977777777777778, 0.7733333333333333, 0.8511111111111112, 0.7955555555555556, 0.81, 0.8444444444444444, 0.8322222222222222, 0.84, 0.74, 0.8477777777777777, 0.8111111111111111, 0.7777777777777778, 0.8155555555555556, 0.8122222222222222]\n"
     ]
    }
   ],
   "source": [
    "# mlflowなし\n",
    "epochs = 40 #200\n",
    "batch_size = 16#32\n",
    "lr = 0.01\n",
    "\n",
    "tnet, train_accuracy, test_accuracy, train_loss, test_loss = model_train(epochs, batch_size, lr)\n",
    "print(test_accuracy[-1])\n",
    "print(test_accuracy)"
   ]
  },
  {
   "cell_type": "code",
   "execution_count": 24,
   "metadata": {},
   "outputs": [
    {
     "name": "stdout",
     "output_type": "stream",
     "text": [
      "**epoch=0\n",
      "**epoch=10\n",
      "**epoch=20\n",
      "**epoch=30\n",
      "trial 0: batch_size=16, lr=0.01,　train_accuracy=0.856, test_accuracy=0.806\n"
     ]
    }
   ],
   "source": [
    "# mlflowに記録\n",
    "epochs = 40 #200\n",
    "batch_size = 16#32\n",
    "lr = 0.01\n",
    "\n",
    "# 管理IDを発行（コードの実行に対して）\n",
    "experiment_id = 0\n",
    "with mlflow.start_run(experiment_id=experiment_id):\n",
    "    trial = 0\n",
    "\n",
    "    tnet, train_acc, test_acc, train_loss, test_loss = model_train(epochs, batch_size, lr)\n",
    "\n",
    "    # 小数点以下３桁まで出力\n",
    "    print(f\"trial {trial}: batch_size={batch_size}, lr={lr},　train_accuracy={train_acc[-1]:.3}, test_accuracy={test_acc[-1]:.3}\")\n",
    "\n",
    "    # ハイパーパラメータ, 評価指標, 学習済みモデルをMLflowへ保存\n",
    "    mlflow.log_param(\"batch_size\", batch_size)\n",
    "    mlflow.log_param(\"lr\", lr)\n",
    "    mlflow.log_metric(\"train_accuracy\", train_accuracy[-1])\n",
    "    mlflow.log_metric(\"test_accuracy\", test_accuracy[-1])\n",
    "\n",
    "    mlflow.sklearn.log_model(tnet, \"model\")"
   ]
  },
  {
   "cell_type": "code",
   "execution_count": 25,
   "metadata": {},
   "outputs": [
    {
     "name": "stdout",
     "output_type": "stream",
     "text": [
      "**epoch=0\n",
      "**epoch=10\n",
      "**epoch=20\n",
      "**epoch=30\n",
      "trial 1: batch_size=16, lr=0.005,                       train_accuracy=0.835, test_accuracy=0.817\n",
      "**epoch=0\n",
      "**epoch=10\n",
      "**epoch=20\n",
      "**epoch=30\n",
      "trial 2: batch_size=16, lr=0.01,                       train_accuracy=0.898, test_accuracy=0.844\n",
      "**epoch=0\n",
      "**epoch=10\n",
      "**epoch=20\n",
      "**epoch=30\n",
      "trial 3: batch_size=32, lr=0.005,                       train_accuracy=0.658, test_accuracy=0.649\n",
      "**epoch=0\n",
      "**epoch=10\n",
      "**epoch=20\n",
      "**epoch=30\n",
      "trial 4: batch_size=32, lr=0.01,                       train_accuracy=0.845, test_accuracy=0.823\n"
     ]
    }
   ],
   "source": [
    "# mlflowに記録（グリッドサーチ）\n",
    "# 管理IDを発行（コードの実行に対して）\n",
    "experiment_id = 0\n",
    "with mlflow.start_run(experiment_id=experiment_id):\n",
    "    # ハイパーパラメータの試行水準\n",
    "    cand_batch_size = [16, 32]\n",
    "    cand_lr = [0.005, 0.01]\n",
    "\n",
    "    trial = 0\n",
    "    for batch_size in cand_batch_size:\n",
    "        for lr in cand_lr:\n",
    "            # 管理IDを発行（各パラメータ水準に対して）\n",
    "            with mlflow.start_run(experiment_id=experiment_id, nested=True):\n",
    "                trial += 1\n",
    "                tnet, train_accuracy, test_accuracy, train_loss, test_loss = model_train(epochs, batch_size, lr)\n",
    "                # model, mse, R2 = train(n_estimators, max_depth)\n",
    "                # 小数点以下３桁まで出力\n",
    "                print(f\"trial {trial}: batch_size={batch_size}, lr={lr}, \\\n",
    "                      train_accuracy={train_accuracy[-1]:.3}, test_accuracy={test_accuracy[-1]:.3}\")\n",
    "                # 追加箇所\n",
    "                # ハイパーパラメータ, 評価指標, 学習済みモデルをMLflowへ保存\n",
    "                mlflow.log_param(\"batch_size\", batch_size)\n",
    "                mlflow.log_param(\"lr\", lr)\n",
    "                mlflow.log_metric(\"train_accuracy\", train_accuracy[-1])\n",
    "                mlflow.log_metric(\"test_accuracy\", test_accuracy[-1])\n",
    "\n",
    "                mlflow.sklearn.log_model(tnet, \"model\")\n"
   ]
  },
  {
   "cell_type": "code",
   "execution_count": 26,
   "metadata": {
    "id": "dl_twU9IG5kV",
    "outputId": "4dd3b3a7-a66f-4652-c6d8-e2bd7719be69",
    "scrolled": true
   },
   "outputs": [
    {
     "data": {
      "image/png": "[encoded data removed]",
      "text/plain": [
       "<Figure size 640x480 with 1 Axes>"
      ]
     },
     "metadata": {},
     "output_type": "display_data"
    }
   ],
   "source": [
    "# lossのグラフ化\n",
    "df_log = pd.DataFrame({\"train_loss\":train_loss,\n",
    "             \"test_loss\":test_loss,\n",
    "             \"train_accuracy\":train_accuracy,\n",
    "             \"test_accuracy\":test_accuracy})\n",
    "df_log.plot(style=['r-', 'r--', 'b-', 'b--'])\n",
    "plt.ylabel(\"loss or accuracy\")\n",
    "plt.xlabel(\"epochs\")\n",
    "plt.show()"
   ]
  },
  {
   "cell_type": "markdown",
   "metadata": {
    "id": "d3scsx0UG5kV"
   },
   "source": [
    "## 学習済みモデルの出力"
   ]
  },
  {
   "cell_type": "code",
   "execution_count": 16,
   "metadata": {
    "id": "SgcWYUSzG5kW"
   },
   "outputs": [],
   "source": [
    "with open(\"katakana_model.pickle\", \"wb\") as f:\n",
    "    pickle.dump(tnet, f)"
   ]
  },
  {
   "cell_type": "markdown",
   "metadata": {
    "id": "e-_NUvirC9p6"
   },
   "source": [
    "- Google Colab. を使用している人は `katakana_model.pickle` のダウンロードを忘れないようにしよう\n",
    "  - 「識別精度算出ウェブサイト」への投稿に必要な情報であるため\n",
    "  - ファイルダウンロードの参考：https://blog.kikagaku.co.jp/google-colab-file#_Google_Colab"
   ]
  }
 ],
 "metadata": {
  "colab": {
   "collapsed_sections": [],
   "name": "train.ipynb",
   "provenance": []
  },
  "kernelspec": {
   "display_name": "Python 3 (ipykernel)",
   "language": "python",
   "name": "python3"
  },
  "language_info": {
   "codemirror_mode": {
    "name": "ipython",
    "version": 3
   },
   "file_extension": ".py",
   "mimetype": "text/x-python",
   "name": "python",
   "nbconvert_exporter": "python",
   "pygments_lexer": "ipython3",
   "version": "3.10.6"
  }
 },
 "nbformat": 4,
 "nbformat_minor": 4
}
