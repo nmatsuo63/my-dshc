{
 "cells": [
  {
   "cell_type": "markdown",
   "metadata": {
    "id": "r7tnwMpMGdQG"
   },
   "source": [
    "# numpy形式の画像データをpng形式の画像として出力する方法"
   ]
  },
  {
   "cell_type": "code",
   "execution_count": 1,
   "metadata": {
    "id": "AKnQutUuGiUP"
   },
   "outputs": [
    {
     "name": "stdout",
     "output_type": "stream",
     "text": [
      "ローカル環境での実行です\n"
     ]
    }
   ],
   "source": [
    "from PIL import Image\n",
    "import numpy as np\n",
    "import matplotlib.pyplot as plt\n",
    "from IPython.display import display\n",
    "import glob\n",
    "import os,sys\n",
    "from sklearn.preprocessing import LabelBinarizer\n",
    "\n",
    "dic_katakana = {\"a\":0,\"i\":1,\"u\":2,\"e\":3,\"o\":4,\"ka\":5,\"ki\":6,\"ku\":7,\"ke\":8,\"ko\":9,\"sa\":10,\"si\":11,\"su\":12,\"se\":13,\"so\":14}\n",
    "pixel = 28\n",
    "\n",
    "try:\n",
    "    from google.colab import files\n",
    "    print('Google Colab. 上での実行です')\n",
    "    print('「ファイルを選択」から、1_dataのtrain_data.npy、train_label.npyを選択し、アップロードしてください')\n",
    "    print('===========')\n",
    "    files.upload()\n",
    "    !mkdir ../1_data\n",
    "    !mv *.npy ../1_data\n",
    "except:\n",
    "    print('ローカル環境での実行です')\n",
    "\n"
   ]
  },
  {
   "cell_type": "markdown",
   "metadata": {
    "id": "O-Clg9XSGdQT"
   },
   "source": [
    "## データの読み込み"
   ]
  },
  {
   "cell_type": "code",
   "execution_count": 2,
   "metadata": {
    "id": "qLehnlasGdQU",
    "outputId": "f4d4a736-462f-4c06-cd92-3f8f5cdda631"
   },
   "outputs": [
    {
     "name": "stdout",
     "output_type": "stream",
     "text": [
      "(3000, 1, 28, 28)\n",
      "(3000, 15)\n"
     ]
    }
   ],
   "source": [
    "train_data = np.load(\"../1_data/train_data.npy\")\n",
    "train_label = np.load(\"../1_data/train_label.npy\")\n",
    "print(train_data.shape)\n",
    "print(train_label.shape)"
   ]
  },
  {
   "cell_type": "markdown",
   "metadata": {
    "id": "f4yaxyDVGdQV"
   },
   "source": [
    "## numpy形式の画像をpng形式で出力する方法"
   ]
  },
  {
   "cell_type": "code",
   "execution_count": 3,
   "metadata": {
    "id": "yZyxJdGWGdQW",
    "outputId": "ef2c589f-ae5f-473b-90e4-320ecfcd58f6",
    "scrolled": true
   },
   "outputs": [
    {
     "data": {
      "image/png": "[encoded data removed]",
      "text/plain": [
       "<Figure size 432x288 with 1 Axes>"
      ]
     },
     "metadata": {
      "needs_background": "light"
     },
     "output_type": "display_data"
    }
   ],
   "source": [
    "import matplotlib.pyplot as plt\n",
    "from matplotlib import cm\n",
    "\n",
    "ind = 0\n",
    "\n",
    "# 画像\n",
    "img = train_data[ind,:,:,:,]\n",
    "plt.imshow(img[0,:,:], cmap='gray')\n",
    "plt.show()\n",
    "\n",
    "# ラベル\n",
    "label_int = np.argmax(train_label [ind])\n",
    "for key, value in dic_katakana.items():\n",
    "    if value==label_int:\n",
    "        label_str = key\n",
    "        break\n",
    "\n",
    "# 出力\n",
    "img = Image.fromarray(np.uint8(img.reshape(28,28)))\n",
    "img.save(\"%s.png\"%label_str)"
   ]
  },
  {
   "cell_type": "markdown",
   "metadata": {
    "id": "DxV-Gnv7GdQX"
   },
   "source": [
    "### 出力したpng形式を読み込んでみる"
   ]
  },
  {
   "cell_type": "code",
   "execution_count": 4,
   "metadata": {
    "id": "vQ4XRS_5GdQY",
    "outputId": "7335c3dc-9d6c-4af9-e9df-02cb524bda99",
    "scrolled": true
   },
   "outputs": [
    {
     "name": "stdout",
     "output_type": "stream",
     "text": [
      "(1, 1, 28, 28)\n"
     ]
    },
    {
     "data": {
      "image/png": "[encoded data removed]",
      "text/plain": [
       "<Figure size 432x288 with 1 Axes>"
      ]
     },
     "metadata": {
      "needs_background": "light"
     },
     "output_type": "display_data"
    }
   ],
   "source": [
    "# ファイル名\n",
    "fname = \"%s.png\"%label_str\n",
    "\n",
    "# numpy形式に変換\n",
    "num_image = 1\n",
    "channel = 1 # グレースケール\n",
    "data = np.empty((num_image, channel, pixel, pixel))\n",
    "\n",
    "# カタカナ文字\n",
    "label_str = fname.split(\".png\")[0]\n",
    "label_int = dic_katakana[label_str]\n",
    "\n",
    "img_ = Image.open(fname)\n",
    "img_ = np.array(img_).astype(np.float32)\n",
    "data[0, 0, :] = img_\n",
    "\n",
    "print(data.shape)\n",
    "\n",
    "# 読み込んだ画像を表示する\n",
    "plt.imshow(data[0,0,:,:], cmap='gray')\n",
    "plt.show()"
   ]
  },
  {
   "cell_type": "code",
   "execution_count": 5,
   "metadata": {
    "id": "kNMtuKN4GdQZ",
    "outputId": "9e83a57c-bba1-49a4-f047-31178c0ca26e"
   },
   "outputs": [
    {
     "data": {
      "text/plain": [
       "(1, 1, 28, 28)"
      ]
     },
     "execution_count": 5,
     "metadata": {},
     "output_type": "execute_result"
    }
   ],
   "source": [
    "data.shape"
   ]
  },
  {
   "cell_type": "code",
   "execution_count": null,
   "metadata": {
    "id": "4f6SYIqLGdQa"
   },
   "outputs": [],
   "source": []
  }
 ],
 "metadata": {
  "anaconda-cloud": {},
  "colab": {
   "collapsed_sections": [],
   "name": "numpy_to_png.ipynb",
   "provenance": []
  },
  "kernelspec": {
   "display_name": "Python 3 (ipykernel)",
   "language": "python",
   "name": "python3"
  },
  "language_info": {
   "codemirror_mode": {
    "name": "ipython",
    "version": 3
   },
   "file_extension": ".py",
   "mimetype": "text/x-python",
   "name": "python",
   "nbconvert_exporter": "python",
   "pygments_lexer": "ipython3",
   "version": "3.10.6"
  }
 },
 "nbformat": 4,
 "nbformat_minor": 4
}
