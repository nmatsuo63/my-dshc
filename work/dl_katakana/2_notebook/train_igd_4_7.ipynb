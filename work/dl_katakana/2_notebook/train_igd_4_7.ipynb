{
 "cells": [
  {
   "cell_type": "markdown",
   "metadata": {
    "id": "suXTNAk4G5kK"
   },
   "source": [
    "# カタカナの画像認識モデル\n",
    "手書きカタカナ「アイウエオカキクケコサシスセソ」の15文字を高い精度で識別できるモデルを構築する"
   ]
  },
  {
   "cell_type": "code",
   "execution_count": 164,
   "metadata": {
    "id": "EcSRey7kG5kN"
   },
   "outputs": [],
   "source": [
    "import numpy as np\n",
    "import pandas as pd\n",
    "import matplotlib.pyplot as plt\n",
    "from sklearn.model_selection import train_test_split\n",
    "import pickle"
   ]
  },
  {
   "cell_type": "markdown",
   "metadata": {},
   "source": [
    "## MLFlow準備"
   ]
  },
  {
   "cell_type": "code",
   "execution_count": 165,
   "metadata": {},
   "outputs": [],
   "source": [
    "import os\n",
    "import configparser\n",
    "import mlflow\n",
    "import mlflow.sklearn\n",
    "# ローカルDB方式の場合に必要。今回はローカルGUI方式のため不要\n",
    "# import sqlite3"
   ]
  },
  {
   "cell_type": "code",
   "execution_count": 166,
   "metadata": {},
   "outputs": [
    {
     "data": {
      "text/plain": [
       "['./config.ini']"
      ]
     },
     "execution_count": 166,
     "metadata": {},
     "output_type": "execute_result"
    }
   ],
   "source": [
    "# MLFlowの設定ファイル読み込み\n",
    "cfg = configparser.ConfigParser()\n",
    "cfg.read('./config.ini', encoding='utf-8')\n",
    "# 各種パスを指定\n",
    "# DB_PATH = cfg['Path']['db_path']"
   ]
  },
  {
   "cell_type": "code",
   "execution_count": 167,
   "metadata": {},
   "outputs": [],
   "source": [
    "# %% エクスペリメントの作成\n",
    "# Artifactストレージの場所を指定\n",
    "ARTIFACT_LOCATION = cfg['Path']['artifact_location']\n",
    "# Experimentの生成\n",
    "EXPERIMENT_NAME = 'cnn_tuning'\n",
    "experiment = mlflow.get_experiment_by_name(EXPERIMENT_NAME)\n",
    "if experiment is None:  # 当該Experiment存在しないとき、新たに作成\n",
    "    experiment_id = mlflow.create_experiment(\n",
    "                            name=EXPERIMENT_NAME,\n",
    "                            artifact_location=ARTIFACT_LOCATION)\n",
    "else: # 当該Experiment存在するとき、IDを取得\n",
    "    experiment_id = experiment.experiment_id"
   ]
  },
  {
   "cell_type": "markdown",
   "metadata": {
    "id": "6jNYs1jSG5kP"
   },
   "source": [
    "## データを読む1"
   ]
  },
  {
   "cell_type": "code",
   "execution_count": 168,
   "metadata": {
    "id": "Jiax0u85G5kQ",
    "outputId": "f5bfd234-b39a-4ddf-a984-b62328e9386a"
   },
   "outputs": [
    {
     "name": "stdout",
     "output_type": "stream",
     "text": [
      "train_data.shape= (3000, 1, 28, 28)\n",
      "train_label.shape= (3000, 15)\n"
     ]
    }
   ],
   "source": [
    "train_data = np.load(\"../1_data/train_data.npy\")\n",
    "train_label = np.load(\"../1_data/train_label.npy\")\n",
    "print(\"train_data.shape=\", train_data.shape)\n",
    "print(\"train_label.shape=\", train_label.shape)"
   ]
  },
  {
   "cell_type": "code",
   "execution_count": 169,
   "metadata": {
    "id": "F6gBvz1YG5kS",
    "scrolled": true
   },
   "outputs": [],
   "source": [
    "# 正規化\n",
    "train_data = (train_data - train_data.min()) / train_data.max()\n",
    "train_data = train_data.astype('float32')\n",
    "# print(train_data)"
   ]
  },
  {
   "cell_type": "code",
   "execution_count": 170,
   "metadata": {
    "id": "yBgs1R8CG5kT",
    "outputId": "5cbdd0fb-ce3d-4ff4-8736-0bf4a43ab41a"
   },
   "outputs": [
    {
     "name": "stdout",
     "output_type": "stream",
     "text": [
      "train_data.shape= (3000, 784)\n"
     ]
    }
   ],
   "source": [
    "# 配列形式変更\n",
    "train_data = train_data.reshape(-1, 28*28)\n",
    "print(\"train_data.shape=\", train_data.shape)"
   ]
  },
  {
   "cell_type": "markdown",
   "metadata": {
    "id": "PMtlHat9G5kT"
   },
   "source": [
    "## trainとtestに分割する\n",
    "- 読み込んだtrainデータから、学習後の検証用のtestデータを除いておく。\n",
    "- random_stateやtest_sizeは変更しない。"
   ]
  },
  {
   "cell_type": "code",
   "execution_count": 171,
   "metadata": {
    "id": "BOHX-5ZbG5kT",
    "outputId": "b9dfda79-4f11-4c28-a30d-3f29a1ff9f4a",
    "scrolled": true
   },
   "outputs": [
    {
     "name": "stdout",
     "output_type": "stream",
     "text": [
      "(2100, 784) (900, 784)\n"
     ]
    }
   ],
   "source": [
    "X_train_all, X_test, y_train_all, y_test = train_test_split(train_data, train_label, \n",
    "                                                    test_size=0.3, random_state=1234,\n",
    "                                                    shuffle=True\n",
    "                                                   )\n",
    "\n",
    "print(X_train_all.shape, X_test.shape)"
   ]
  },
  {
   "cell_type": "code",
   "execution_count": 172,
   "metadata": {},
   "outputs": [],
   "source": [
    "# データを間引く場合はここで調整する\n",
    "X_train = X_train_all\n",
    "y_train = y_train_all"
   ]
  },
  {
   "cell_type": "markdown",
   "metadata": {},
   "source": [
    "- 訓練用データは2100個、検証用データは900個\n",
    "- 1枚1枚の画像は724(=28*28)の格子データ"
   ]
  },
  {
   "cell_type": "markdown",
   "metadata": {
    "tags": []
   },
   "source": [
    "## データ拡張\n",
    "** ここでAugmentorかImageDataGeneratorを実装する**\n",
    "テキストp131-133にどういったデータ拡張が向いているかの記載あり\n",
    "- 拡大・縮小、プーリングで吸収しきれない大幅な回転、変形（シアー、Perspective skew、Elastic distortion）、Random erasing\n",
    "- 拡張された画像の中に運用時に入力される画像にできるだけ近いものが含まれていることが重要\n",
    " - Augumentor（Perspective skew、Elastic Eistortion、Random erasing）\n",
    " - ImageDataGenerator（回転、シアー、拡大・縮小）"
   ]
  },
  {
   "cell_type": "code",
   "execution_count": 173,
   "metadata": {},
   "outputs": [
    {
     "data": {
      "text/plain": [
       "(784,)"
      ]
     },
     "execution_count": 173,
     "metadata": {},
     "output_type": "execute_result"
    }
   ],
   "source": [
    "# X_train[0].shape"
   ]
  },
  {
   "cell_type": "code",
   "execution_count": 174,
   "metadata": {},
   "outputs": [
    {
     "data": {
      "image/png": "[encoded data removed]",
      "text/plain": [
       "<Figure size 640x480 with 1 Axes>"
      ]
     },
     "metadata": {},
     "output_type": "display_data"
    },
    {
     "name": "stdout",
     "output_type": "stream",
     "text": [
      "(1, 28, 28)\n"
     ]
    }
   ],
   "source": [
    "# from matplotlib import cm\n",
    "# from PIL import Image\n",
    "# train_data = X_train.reshape(-1, 1, 28, 28)\n",
    "# train_label = y_train\n",
    "# # print(f'train_labelの形状：{train_label.shape}')\n",
    "# # print(f'train_label自体：{train_label}')\n",
    "# # label = onehot_to_str(train_label)\n",
    "# # print(len(label))\n",
    "# # print(type(label))\n",
    "# # print(f'label自体：{label}')\n",
    "# ind = 6 #この数字を変更するとカタカナが変化する\n",
    "\n",
    "# # 画像\n",
    "# img = train_data[ind,:,:,:,]\n",
    "# plt.imshow(img[0,:,:], cmap='gray')\n",
    "# plt.show()\n",
    "# print(img.shape)\n",
    "# # print(img)"
   ]
  },
  {
   "cell_type": "code",
   "execution_count": 175,
   "metadata": {},
   "outputs": [
    {
     "data": {
      "text/plain": [
       "(1, 28, 28)"
      ]
     },
     "execution_count": 175,
     "metadata": {},
     "output_type": "execute_result"
    }
   ],
   "source": [
    "# img.shape"
   ]
  },
  {
   "cell_type": "code",
   "execution_count": 176,
   "metadata": {},
   "outputs": [],
   "source": [
    "# # https://dev.classmethod.jp/articles/keras-image-data-generator/\n",
    "# from keras.preprocessing.image import ImageDataGenerator\n",
    "# def plot_augmentation_image(train_sample, params):\n",
    "\n",
    "#     # 同じ画像を16個複製する\n",
    "#     train_samples = np.repeat(train_sample.reshape((1, *train_sample.shape)), 16, axis=0)\n",
    "\n",
    "#     # 16個に対してparamsで与えられた変換を実施\n",
    "#     data_generator = ImageDataGenerator(**params)\n",
    "#     generator = data_generator.flow(train_samples, batch_size=16)\n",
    "\n",
    "#     # 変換後のデータを取得\n",
    "#     batch_x = generator.next()\n",
    "\n",
    "#     # 変換後はfloat32となっているため、uint8に変換\n",
    "#     batch_x = batch_x.astype(np.uint8)\n",
    "\n",
    "#     # 描画処理\n",
    "#     plt.figure(figsize=(10,10))\n",
    "#     for i in range(16):\n",
    "#         plt.subplot(4,4,i+1)\n",
    "#         # print(batch_x[i,0].shape)\n",
    "#         plt.imshow(batch_x[i,0], cmap='gray')\n",
    "#         plt.tick_params(labelbottom='off')\n",
    "#         plt.tick_params(labelleft='off')\n",
    "# # plt.imshow(img[0,:,:], cmap='gray')\n"
   ]
  },
  {
   "cell_type": "code",
   "execution_count": 177,
   "metadata": {},
   "outputs": [
    {
     "data": {
      "image/png": "[encoded data removed]",
      "text/plain": [
       "<Figure size 1000x1000 with 16 Axes>"
      ]
     },
     "metadata": {},
     "output_type": "display_data"
    }
   ],
   "source": [
    "# params = {\n",
    "#     'zoom_range': [0.5, 2.0]\n",
    "# }\n",
    "# plot_augmentation_image(img, params)\n"
   ]
  },
  {
   "cell_type": "code",
   "execution_count": 178,
   "metadata": {},
   "outputs": [],
   "source": [
    "# params = {\n",
    "#     'zoom_range': [0.5, 2.0],\n",
    "#     'rotation_range': 45,\n",
    "#     # 'vertical_flip': True,\n",
    "#     # 'horizontal_flip': True,\n",
    "#     # 'height_shift_range': 0.1,\n",
    "#     # 'width_shift_range': 0.1,\n",
    "#     'shear_range': 90,\n",
    "#     # 'channel_shift_range': 127\n",
    "# }\n",
    "# generator = ImageDataGenerator(**params)\n",
    "\n",
    "# # train_iter = generator.flow(x=train_images, y=train_labels)\n",
    "# train_iter = generator.flow(x=X_train.reshape(-1, 1, 28, 28), y=y_train)\n"
   ]
  },
  {
   "cell_type": "code",
   "execution_count": 179,
   "metadata": {},
   "outputs": [
    {
     "data": {
      "image/png": "[encoded data removed]",
      "text/plain": [
       "<Figure size 640x480 with 1 Axes>"
      ]
     },
     "metadata": {},
     "output_type": "display_data"
    }
   ],
   "source": [
    "# train_data = X_train.reshape(-1, 1, 28, 28)\n",
    "# train_label = y_train\n",
    "# ind = 6 #この数字を変更するとカタカナが変化する\n",
    "\n",
    "# # 画像\n",
    "# img = train_data[ind,:,:,:,]\n",
    "# plt.imshow(img[0,:,:], cmap='gray')\n",
    "# plt.show()\n"
   ]
  },
  {
   "cell_type": "markdown",
   "metadata": {},
   "source": [
    "下記のlabelはkeyだけをreturnするのでseとかになる。label化するのは後工程でOK"
   ]
  },
  {
   "cell_type": "code",
   "execution_count": null,
   "metadata": {},
   "outputs": [],
   "source": []
  },
  {
   "cell_type": "code",
   "execution_count": 180,
   "metadata": {},
   "outputs": [
    {
     "name": "stdout",
     "output_type": "stream",
     "text": [
      "trainの形状：(2100, 784)\n",
      "train_labelの形状：(2100, 15)\n",
      "testの形状：(900, 784)\n",
      "test_labelの形状：(900, 15)\n"
     ]
    }
   ],
   "source": [
    "# # train(訓練データ)とtest(検証用データ)の形状を確認する\n",
    "# print(f'trainの形状：{X_train.shape}')\n",
    "# print(f'train_labelの形状：{y_train.shape}')\n",
    "# print(f'testの形状：{X_test.shape}')\n",
    "# print(f'test_labelの形状：{y_test.shape}')"
   ]
  },
  {
   "cell_type": "code",
   "execution_count": null,
   "metadata": {},
   "outputs": [],
   "source": []
  },
  {
   "cell_type": "markdown",
   "metadata": {
    "id": "Dp3kesqKG5kU"
   },
   "source": [
    "## 学習"
   ]
  },
  {
   "cell_type": "markdown",
   "metadata": {
    "id": "bEt3oqDdG5kU",
    "outputId": "f9be0492-2d6b-4d41-c005-8c54b018ffa0",
    "tags": []
   },
   "source": [
    "### 配列形状の変形\n",
    "CNNの場合は(データ数、チャネル数、横方向、縦方向)とする"
   ]
  },
  {
   "cell_type": "code",
   "execution_count": 190,
   "metadata": {},
   "outputs": [],
   "source": [
    "train = X_train.reshape(-1, 1, 28, 28)\n",
    "test = X_test.reshape(-1, 1, 28, 28)"
   ]
  },
  {
   "cell_type": "code",
   "execution_count": 191,
   "metadata": {},
   "outputs": [
    {
     "name": "stdout",
     "output_type": "stream",
     "text": [
      "trainの形状：(2100, 1, 28, 28)\n",
      "testの形状：(900, 1, 28, 28)\n"
     ]
    }
   ],
   "source": [
    "print(f'trainの形状：{train.shape}')\n",
    "print(f'testの形状：{test.shape}')"
   ]
  },
  {
   "cell_type": "code",
   "execution_count": 192,
   "metadata": {},
   "outputs": [],
   "source": [
    "# https://dev.classmethod.jp/articles/keras-image-data-generator/\n",
    "from keras.preprocessing.image import ImageDataGenerator\n",
    "def plot_augmentation_image(train_sample, params):\n",
    "\n",
    "    # 同じ画像を16個複製する\n",
    "    train_samples = np.repeat(train_sample.reshape((1, *train_sample.shape)), 16, axis=0)\n",
    "\n",
    "    # 16個に対してparamsで与えられた変換を実施\n",
    "    data_generator = ImageDataGenerator(**params)\n",
    "    generator = data_generator.flow(train_samples, batch_size=16)\n",
    "\n",
    "    # 変換後のデータを取得\n",
    "    batch_x = generator.next()\n",
    "\n",
    "    # 変換後はfloat32となっているため、uint8に変換\n",
    "    batch_x = batch_x.astype(np.uint8)\n",
    "\n",
    "    # 描画処理\n",
    "    plt.figure(figsize=(10,10))\n",
    "    for i in range(16):\n",
    "        plt.subplot(4,4,i+1)\n",
    "        # print(batch_x[i,0].shape)\n",
    "        plt.imshow(batch_x[i,0], cmap='gray')\n",
    "        plt.tick_params(labelbottom='off')\n",
    "        plt.tick_params(labelleft='off')\n",
    "# plt.imshow(img[0,:,:], cmap='gray')\n"
   ]
  },
  {
   "cell_type": "code",
   "execution_count": 193,
   "metadata": {},
   "outputs": [
    {
     "name": "stdout",
     "output_type": "stream",
     "text": [
      "(2100, 1, 28, 28)\n",
      "(2100, 15)\n"
     ]
    }
   ],
   "source": [
    "# 水増し用のデータ作成\n",
    "train_tmp = train[:,:,:,:]\n",
    "y_tmp = y_train[:,:]\n",
    "# データ数を削減\n",
    "# train_tmp = train[0:2,:,:,:]\n",
    "# y_tmp = y_train[0:2,:]\n",
    "print(train_tmp.shape)\n",
    "print(y_tmp.shape)"
   ]
  },
  {
   "cell_type": "code",
   "execution_count": 194,
   "metadata": {},
   "outputs": [],
   "source": [
    "# train_tmp.shape[3]"
   ]
  },
  {
   "cell_type": "code",
   "execution_count": 195,
   "metadata": {},
   "outputs": [
    {
     "name": "stdout",
     "output_type": "stream",
     "text": [
      "(2100, 28, 28, 1)\n"
     ]
    }
   ],
   "source": [
    "params = {\n",
    "    'zoom_range': [0.5, 2.0],\n",
    "    'rotation_range': 45,\n",
    "    # 'vertical_flip': True,\n",
    "    # 'horizontal_flip': True,\n",
    "    # 'height_shift_range': 0.1,\n",
    "    # 'width_shift_range': 0.1,\n",
    "    'shear_range': 45,\n",
    "    # 'channel_shift_range': 127\n",
    "}\n",
    "generator = ImageDataGenerator(**params)\n",
    "\n",
    "# train_iter = generator.flow(x=train_images, y=train_labels)\n",
    "# train_iter = generator.flow(x=train_tmp, y=y_tmp)\n",
    "train_tmp_t = train_tmp.transpose(0,2,3,1)\n",
    "print(train_tmp_t.shape)\n",
    "# train_iter = generator.flow(x=train_tmp_t, y=y_tmp, batch_size=1, save_to_dir=\"../1_data/idgen/\",\n",
    "#                  save_format='png')#, save_prefix='out_%s_from_npy_'%label)\n",
    "train_iter = generator.flow(x=train_tmp_t, y=y_tmp, batch_size=1)#画像を保存しない場合\n",
    "\n",
    "num_image = 6300 #水増しデータ数\n",
    "for i in range(num_image):\n",
    "    batches = train_iter.next()\n",
    "    # print(batches[0].shape)\n",
    "    # print(batches[1]) #これがラベル\n",
    "    # 生成されたデータbatches[0]を追加する\n",
    "    train_tmp_t = np.vstack([train_tmp_t, batches[0]])\n",
    "    y_tmp = np.vstack([y_tmp, batches[1]])"
   ]
  },
  {
   "cell_type": "code",
   "execution_count": 196,
   "metadata": {},
   "outputs": [
    {
     "name": "stdout",
     "output_type": "stream",
     "text": [
      "(8400, 28, 28, 1)\n",
      "(8400, 15)\n"
     ]
    }
   ],
   "source": [
    "print(train_tmp_t.shape)\n",
    "print(y_tmp.shape)"
   ]
  },
  {
   "cell_type": "code",
   "execution_count": 197,
   "metadata": {},
   "outputs": [],
   "source": [
    "train_added = train_tmp_t.transpose(0,3,1,2)\n",
    "y_train_added = y_tmp"
   ]
  },
  {
   "cell_type": "code",
   "execution_count": 198,
   "metadata": {},
   "outputs": [
    {
     "data": {
      "text/plain": [
       "(2100, 1, 28, 28)"
      ]
     },
     "execution_count": 198,
     "metadata": {},
     "output_type": "execute_result"
    }
   ],
   "source": [
    "train.shape"
   ]
  },
  {
   "cell_type": "code",
   "execution_count": 199,
   "metadata": {},
   "outputs": [
    {
     "name": "stdout",
     "output_type": "stream",
     "text": [
      "(8400, 1, 28, 28)\n",
      "(8400, 15)\n"
     ]
    }
   ],
   "source": [
    "print(train_added.shape)\n",
    "print(y_train_added.shape)"
   ]
  },
  {
   "cell_type": "markdown",
   "metadata": {},
   "source": [
    "- ここまででimageDataGeneratorを使ったデータ拡張を実装できた。\n",
    "- あとはimageDataGeneratorのパラメータをいろいろ試してみて、データを拡張して、学習してみる。"
   ]
  },
  {
   "cell_type": "code",
   "execution_count": null,
   "metadata": {},
   "outputs": [],
   "source": []
  },
  {
   "cell_type": "markdown",
   "metadata": {},
   "source": [
    "### ミニバッチ学習"
   ]
  },
  {
   "cell_type": "code",
   "execution_count": 200,
   "metadata": {
    "tags": []
   },
   "outputs": [],
   "source": [
    "# ### SimpleConvNetクラスの実装\n",
    "# from collections import OrderedDict\n",
    "# from common.layers import Convolution, MaxPooling, ReLU, Affine, SoftmaxWithLoss\n",
    "# from common.gradient import numerical_gradient\n",
    "# from common.optimizer import RMSProp, NesterovAG\n",
    "\n",
    "# class SimpleConvNet:\n",
    "#     def __init__(self, input_dim=(1, 28, 28), \n",
    "#                  conv_param={'filter_num':30, 'filter_size':5, 'pad':0, 'stride':1},\n",
    "#                  pool_param={'pool_size':2, 'pad':0, 'stride':2},\n",
    "#                  hidden_size=100, output_size=10, weight_init_std=0.01, batch_size=100):\n",
    "#         \"\"\"\n",
    "#         input_size : tuple, 入力の配列形状(チャンネル数、画像の高さ、画像の幅)\n",
    "#         conv_param : dict, 畳み込みの条件\n",
    "#         pool_param : dict, プーリングの条件\n",
    "#         hidden_size : int, 隠れ層のノード数\n",
    "#         output_size : int, 出力層のノード数\n",
    "#         weight_init_std ： float, 重みWを初期化する際に用いる標準偏差\n",
    "#         \"\"\"\n",
    "                \n",
    "#         filter_num = conv_param['filter_num']\n",
    "#         filter_size = conv_param['filter_size']\n",
    "#         filter_pad = conv_param['pad']\n",
    "#         filter_stride = conv_param['stride']\n",
    "        \n",
    "#         pool_size = pool_param['pool_size']\n",
    "#         pool_pad = pool_param['pad']\n",
    "#         pool_stride = pool_param['stride']\n",
    "        \n",
    "#         input_size = input_dim[1]\n",
    "#         conv_output_size = (input_size + 2*filter_pad - filter_size) // filter_stride + 1 # 畳み込み後のサイズ(H,W共通)\n",
    "#         # 4_6_を参考にすると、pool_output_size=out_h、\n",
    "#         pool_output_size = (conv_output_size + 2*pool_pad - pool_size) // pool_stride + 1 # プーリング後のサイズ(H,W共通)\n",
    "#         # Day3 p29を参考にすると、filter_num=FN, pool_output_size=OH=OW\n",
    "#         pool_output_pixel = filter_num * pool_output_size * pool_output_size # プーリング後のピクセル総数\n",
    "#         print(\"class初期化時の値\", filter_num, filter_size, filter_pad, input_size, batch_size, weight_init_std)\n",
    "        \n",
    "#         # 重みの初期化\n",
    "#         self.params = {}\n",
    "#         std = weight_init_std\n",
    "#         # Day3のp29において、filter_num=FN, input_dim[0]=C, filter_size=FH=FW\n",
    "#         self.params['W1'] = std * np.random.randn(filter_num, input_dim[0], filter_size, filter_size) # W1は畳み込みフィルターの重みになる\n",
    "#         self.params['b1'] = np.zeros(filter_num) #b1は畳み込みフィルターのバイアスになる\n",
    "#         self.params['W2'] = std *  np.random.randn(pool_output_pixel, hidden_size)\n",
    "#         self.params['b2'] = np.zeros(hidden_size)\n",
    "#         self.params['W3'] = std *  np.random.randn(hidden_size, output_size)\n",
    "#         self.params['b3'] = np.zeros(output_size)\n",
    "\n",
    "#         # レイヤの生成\n",
    "#         self.layers = OrderedDict()\n",
    "#         # Day3 p20を参考に、畳み込み層→活性化関数→プーリング層→全結合層→活性化関数→全結合層→ソフトマックス関数\n",
    "#         self.layers['Conv1'] = Convolution(self.params['W1'], self.params['b1'],\n",
    "#                                            conv_param['stride'], conv_param['pad']) # W1が畳み込みフィルターの重み, b1が畳み込みフィルターのバイアスになる\n",
    "#         self.layers['ReLU1'] = ReLU()\n",
    "#         self.layers['Pool1'] = MaxPooling(pool_h=pool_size, pool_w=pool_size, stride=pool_stride, pad=pool_pad)\n",
    "#         self.layers['Affine1'] = Affine(self.params['W2'], self.params['b2'])\n",
    "#         self.layers['ReLU2'] = ReLU()\n",
    "#         self.layers['Affine2'] = Affine(self.params['W3'], self.params['b3'])\n",
    "\n",
    "#         self.last_layer = SoftmaxWithLoss()\n",
    "\n",
    "#     def predict(self, x):\n",
    "#         for layer in self.layers.values():\n",
    "#             x = layer.forward(x)\n",
    "\n",
    "#         return x\n",
    "\n",
    "#     def loss(self, x, t):\n",
    "#         \"\"\"\n",
    "#         損失関数\n",
    "#         x : 入力データ\n",
    "#         t : 教師データ\n",
    "#         \"\"\"\n",
    "#         y = self.predict(x)\n",
    "#         return self.last_layer.forward(y, t)\n",
    "\n",
    "#     def accuracy(self, x, t, batch_size=100):\n",
    "#         # print(\"SimpleConvNet.accuracyのbatch_size\", batch_size)\n",
    "#         # batch_size = self.batch_size\n",
    "#         if t.ndim != 1 : t = np.argmax(t, axis=1)\n",
    "        \n",
    "#         acc = 0.0\n",
    "        \n",
    "#         for i in range(int(x.shape[0] / batch_size)):\n",
    "#             tx = x[i*batch_size:(i+1)*batch_size]\n",
    "#             tt = t[i*batch_size:(i+1)*batch_size]\n",
    "#             y = self.predict(tx)\n",
    "#             y = np.argmax(y, axis=1)\n",
    "#             acc += np.sum(y == tt) \n",
    "        \n",
    "#         return acc / x.shape[0]\n",
    "\n",
    "#     def gradient(self, x, t):\n",
    "#         \"\"\"勾配を求める（誤差逆伝播法）\n",
    "#         Parameters\n",
    "#         ----------\n",
    "#         x : 入力データ\n",
    "#         t : 教師データ\n",
    "#         Returns\n",
    "#         -------\n",
    "#         各層の勾配を持ったディクショナリ変数\n",
    "#             grads['W1']、grads['W2']、...は各層の重み\n",
    "#             grads['b1']、grads['b2']、...は各層のバイアス\n",
    "#         \"\"\"\n",
    "#         # forward\n",
    "#         self.loss(x, t)\n",
    "\n",
    "#         # backward\n",
    "#         dout = 1\n",
    "#         dout = self.last_layer.backward(dout)\n",
    "\n",
    "#         layers = list(self.layers.values())\n",
    "#         layers.reverse()\n",
    "#         for layer in layers:\n",
    "#             dout = layer.backward(dout)\n",
    "\n",
    "#         # 設定\n",
    "#         grads = {}\n",
    "#         grads['W1'], grads['b1'] = self.layers['Conv1'].dW, self.layers['Conv1'].db\n",
    "#         grads['W2'], grads['b2'] = self.layers['Affine1'].dW, self.layers['Affine1'].db\n",
    "#         grads['W3'], grads['b3'] = self.layers['Affine2'].dW, self.layers['Affine2'].db\n",
    "\n",
    "#         return grads"
   ]
  },
  {
   "cell_type": "code",
   "execution_count": 201,
   "metadata": {},
   "outputs": [],
   "source": [
    "# データを間引く\n",
    "# x = train[:1000,:]; t = y_train[:1000,:] # x: 訓練データ、t: テストデータ\n",
    "x = train_added; t = y_train_added\n",
    "# x = train; t = y_train\n",
    "x = x.reshape(-1,1,28,28) # 配列形式の変形"
   ]
  },
  {
   "cell_type": "code",
   "execution_count": 202,
   "metadata": {},
   "outputs": [
    {
     "name": "stdout",
     "output_type": "stream",
     "text": [
      "(8400, 1, 28, 28)\n"
     ]
    }
   ],
   "source": [
    "print(x.shape)"
   ]
  },
  {
   "cell_type": "code",
   "execution_count": 203,
   "metadata": {},
   "outputs": [],
   "source": [
    "from common.layers import SimpleConvNet\n",
    "from common.optimizer import RMSProp, NesterovAG\n",
    "def model_train(epochs, batch_size, filter_num, filter_size, weight_init_std):\n",
    "    optimizer = RMSProp(lr=0.01, rho=0.9)\n",
    "    # optimizer = NesterovAG(lr=0.01, momentum=0.9)\n",
    "    \n",
    "    # 繰り返し回数\n",
    "    xsize = x.shape[0]\n",
    "    iter_num = np.ceil(xsize / batch_size).astype(int)\n",
    "\n",
    "    # CNNのオブジェクト生成\n",
    "    snet = SimpleConvNet(input_dim=(1, 28, 28), \n",
    "                         conv_param={'filter_num':filter_num, 'filter_size':filter_size, 'pad':0, 'stride':1},\n",
    "                         pool_param={'pool_size':2, 'pad':0, 'stride':2},\n",
    "                         hidden_size=100, output_size=15, weight_init_std=weight_init_std, batch_size=batch_size)\n",
    "\n",
    "    train_loss = []; test_loss = []; train_accuracy = []; test_accuracy = []\n",
    "\n",
    "    for epoch in range(epochs):\n",
    "        if np.mod(epoch,1)==0: print(\"epoch=%s\"%epoch, iter_num)\n",
    "\n",
    "        # シャッフル\n",
    "        idx = np.arange(xsize)\n",
    "        np.random.shuffle(idx)\n",
    "\n",
    "        for it in range(iter_num):\n",
    "            \"\"\"\n",
    "            ランダムなミニバッチを順番に取り出す\n",
    "            \"\"\"\n",
    "            # print(\"it=\", it)\n",
    "            mask = idx[batch_size*it : batch_size*(it+1)]\n",
    "\n",
    "            # ミニバッチの生成\n",
    "            x_train = x[mask]; t_train = t[mask]\n",
    "            \n",
    "            # 勾配の計算 (誤差逆伝播法を用いる)\n",
    "            grads = snet.gradient(x_train, t_train)\n",
    "\n",
    "            # 更新\n",
    "            optimizer.update(snet.params, grads)\n",
    "\n",
    "        ## 学習経過の記録\n",
    "        # 訓練データおよびテストデータにおけるloss\n",
    "        train_loss.append(snet.loss(x,  t)); test_loss.append(snet.loss(test, y_test))\n",
    "\n",
    "        # 訓練データおよびテストデータにて精度を確認\n",
    "        train_accuracy.append(snet.accuracy(x, t, batch_size)); test_accuracy.append(snet.accuracy(test, y_test, batch_size))\n",
    "        print(snet.accuracy(x, t, batch_size), snet.accuracy(test, y_test, batch_size))\n",
    "    return snet, train_accuracy, test_accuracy, train_loss, test_loss"
   ]
  },
  {
   "cell_type": "code",
   "execution_count": 204,
   "metadata": {
    "tags": []
   },
   "outputs": [],
   "source": [
    "# x = train[:1000,:]; t = y_train[:1000,:]\n",
    "\n",
    "# x = x.reshape(-1,1,28,28) # 配列形式の変形\n",
    "\n",
    "# epochs = 10\n",
    "# batch_size = 100\n",
    "\n",
    "# optimizer = RMSProp(lr=0.01, rho=0.9)\n",
    "\n",
    "# # 繰り返し回数\n",
    "# xsize = x.shape[0]\n",
    "# iter_num = np.ceil(xsize / batch_size).astype(int)\n",
    "\n",
    "# # CNNのオブジェクト生成\n",
    "# snet = SimpleConvNet(input_dim=(1, 28, 28), \n",
    "#                      conv_param={'filter_num':30, 'filter_size':5, 'pad':0, 'stride':1},\n",
    "#                      pool_param={'pool_size':2, 'pad':0, 'stride':2},\n",
    "#                      hidden_size=100, output_size=15, weight_init_std=0.01)\n",
    "\n",
    "# train_loss = []; test_loss = []; train_accuracy = []; test_accuracy = []\n",
    "\n",
    "# for epoch in range(epochs):\n",
    "#     if np.mod(epoch,10)==0: print(\"epoch=%s\"%epoch)\n",
    "\n",
    "#     # シャッフル\n",
    "#     idx = np.arange(xsize)\n",
    "#     np.random.shuffle(idx)\n",
    "\n",
    "#     for it in range(iter_num):\n",
    "#         \"\"\"\n",
    "#         ランダムなミニバッチを順番に取り出す\n",
    "#         \"\"\"\n",
    "#         print(\"it=\", it)\n",
    "#         mask = idx[batch_size*it : batch_size*(it+1)]\n",
    "\n",
    "#         # ミニバッチの生成\n",
    "#         x_train = x[mask]; t_train = t[mask]\n",
    "\n",
    "#         # 勾配の計算 (誤差逆伝播法を用いる)\n",
    "#         grads = snet.gradient(x_train, t_train)\n",
    "\n",
    "#         # 更新\n",
    "#         optimizer.update(snet.params, grads)\n",
    "\n",
    "#     ## 学習経過の記録\n",
    "#     # 訓練データおよびテストデータにおけるloss\n",
    "#     train_loss.append(snet.loss(x,  t)); test_loss.append(snet.loss(test, y_test))\n",
    "\n",
    "#     # 訓練データおよびテストデータにて精度を確認\n",
    "#     train_accuracy.append(snet.accuracy(x, t)); test_accuracy.append(snet.accuracy(test, y_test))"
   ]
  },
  {
   "cell_type": "code",
   "execution_count": null,
   "metadata": {},
   "outputs": [
    {
     "name": "stdout",
     "output_type": "stream",
     "text": [
      "mlflow時点のbatch_size 100\n",
      "layers.RMSPropのrho 0.9\n",
      "class初期化時の値 30 5 0 28 100 0.01\n",
      "epoch=0 84\n",
      "0.0719047619047619 0.05444444444444444\n",
      "epoch=1 84\n",
      "0.3780952380952381 0.6044444444444445\n",
      "epoch=2 84\n",
      "0.5454761904761904 0.8055555555555556\n",
      "epoch=3 84\n",
      "0.6257142857142857 0.8411111111111111\n",
      "epoch=4 84\n",
      "0.6570238095238096 0.85\n",
      "epoch=5 84\n",
      "0.7440476190476191 0.8677777777777778\n",
      "epoch=6 84\n",
      "0.7690476190476191 0.8733333333333333\n",
      "epoch=7 84\n",
      "0.7682142857142857 0.8488888888888889\n",
      "epoch=8 84\n",
      "0.8265476190476191 0.8622222222222222\n",
      "epoch=9 84\n",
      "0.851547619047619 0.8744444444444445\n",
      "epoch=10 84\n",
      "0.8557142857142858 0.8688888888888889\n",
      "epoch=11 84\n",
      "0.8814285714285715 0.8788888888888889\n",
      "epoch=12 84\n",
      "0.9151190476190476 0.8866666666666667\n",
      "epoch=13 84\n",
      "0.9232142857142858 0.8822222222222222\n",
      "epoch=14 84\n",
      "0.9335714285714286 0.88\n",
      "epoch=15 84\n",
      "0.9332142857142857 0.8722222222222222\n",
      "epoch=16 84\n",
      "0.914047619047619 0.86\n",
      "epoch=17 84\n",
      "0.9632142857142857 0.8733333333333333\n",
      "epoch=18 84\n",
      "0.9401190476190476 0.8655555555555555\n",
      "epoch=19 84\n",
      "0.9657142857142857 0.8822222222222222\n",
      "epoch=20 84\n",
      "0.9780952380952381 0.8777777777777778\n",
      "epoch=21 84\n",
      "0.9527380952380953 0.8566666666666667\n",
      "epoch=22 84\n",
      "0.9307142857142857 0.8511111111111112\n",
      "epoch=23 84\n",
      "0.9672619047619048 0.8777777777777778\n",
      "epoch=24 84\n",
      "0.9814285714285714 0.8688888888888889\n",
      "epoch=25 84\n",
      "0.9813095238095239 0.8611111111111112\n",
      "epoch=26 84\n",
      "0.9558333333333333 0.8744444444444445\n",
      "epoch=27 84\n",
      "0.9853571428571428 0.8811111111111111\n",
      "epoch=28 84\n",
      "0.9909523809523809 0.88\n",
      "epoch=29 84\n",
      "0.9645238095238096 0.8777777777777778\n",
      "epoch=30 84\n",
      "0.9841666666666666 0.8822222222222222\n",
      "epoch=31 84\n",
      "0.9821428571428571 0.8811111111111111\n",
      "epoch=32 84\n",
      "0.9871428571428571 0.8688888888888889\n",
      "epoch=33 84\n",
      "0.9821428571428571 0.8722222222222222\n",
      "epoch=34 84\n",
      "0.9835714285714285 0.8711111111111111\n",
      "epoch=35 84\n",
      "0.9916666666666667 0.8833333333333333\n",
      "epoch=36 84\n",
      "0.9685714285714285 0.8677777777777778\n",
      "epoch=37 84\n",
      "0.9885714285714285 0.8722222222222222\n",
      "epoch=38 84\n",
      "0.9940476190476191 0.8711111111111111\n",
      "epoch=39 84\n",
      "0.9920238095238095 0.8733333333333333\n",
      "epoch=40 84\n",
      "0.9921428571428571 0.8733333333333333\n",
      "epoch=41 84\n",
      "0.9885714285714285 0.8588888888888889\n",
      "epoch=42 84\n",
      "0.9888095238095238 0.8755555555555555\n",
      "epoch=43 84\n",
      "0.9914285714285714 0.8822222222222222\n",
      "epoch=44 84\n",
      "0.9904761904761905 0.8666666666666667\n",
      "epoch=45 84\n"
     ]
    }
   ],
   "source": [
    "# mlflowに記録\n",
    "# epochs = 200\n",
    "# batch_size = 32\n",
    "# lr = 0.01\n",
    "# random_seed = 1234\n",
    "epochs = 100\n",
    "batch_size = 100\n",
    "\n",
    "filter_num = 30\n",
    "filter_size = 5\n",
    "weight_init_std = 0.01\n",
    "\n",
    "mlflow.end_run()\n",
    "\n",
    "# 管理IDを発行（コードの実行に対して）\n",
    "with mlflow.start_run(experiment_id=experiment_id):\n",
    "    trial = 0\n",
    "    print(\"mlflow時点のbatch_size\", batch_size)\n",
    "    tnet, train_acc, test_acc, train_loss, test_loss = model_train(epochs, batch_size, filter_num, filter_size, weight_init_std)\n",
    "\n",
    "    # 小数点以下３桁まで出力\n",
    "    print(f\"trial {trial}: batch_size={batch_size}, filter_num={filter_num},　train_accuracy={train_acc[-1]:.3}, test_accuracy={test_acc[-1]:.3}\")\n",
    "\n",
    "    # ハイパーパラメータ, 評価指標, 学習済みモデルをMLflowへ保存\n",
    "    mlflow.log_param(\"filter_num\", filter_num)\n",
    "    mlflow.log_param(\"filter_size\", filter_size)\n",
    "    mlflow.log_param(\"weight_init_std\", weight_init_std)\n",
    "    mlflow.log_metric(\"train_accuracy\", train_acc[-1])\n",
    "    mlflow.log_metric(\"test_accuracy\", test_acc[-1])\n",
    "    # mlflow.log_param(\"random_seed\", random_seed)\n",
    "\n",
    "    # mlflow.log_model(tnet, \"model\")\n",
    "\n",
    "# mlflowを終了\n",
    "mlflow.end_run()"
   ]
  },
  {
   "cell_type": "code",
   "execution_count": null,
   "metadata": {},
   "outputs": [],
   "source": [
    "# mlflow.end_run()"
   ]
  },
  {
   "cell_type": "code",
   "execution_count": null,
   "metadata": {
    "tags": []
   },
   "outputs": [],
   "source": [
    "# # mlflowに記録（グリッドサーチ）\n",
    "# # 管理IDを発行（コードの実行に対して）\n",
    "# experiment_id = 0\n",
    "# with mlflow.start_run(experiment_id=experiment_id):\n",
    "#     # ハイパーパラメータの試行水準\n",
    "#     cand_batch_size = [16, 32]\n",
    "#     cand_lr = [0.005, 0.01]\n",
    "\n",
    "#     trial = 0\n",
    "#     for batch_size in cand_batch_size:\n",
    "#         for lr in cand_lr:\n",
    "#             # 管理IDを発行（各パラメータ水準に対して）\n",
    "#             with mlflow.start_run(experiment_id=experiment_id, nested=True):\n",
    "#                 trial += 1\n",
    "#                 tnet, train_accuracy, test_accuracy, train_loss, test_loss = model_train(epochs, batch_size, lr)\n",
    "#                 # model, mse, R2 = train(n_estimators, max_depth)\n",
    "#                 # 小数点以下３桁まで出力\n",
    "#                 print(f\"trial {trial}: batch_size={batch_size}, lr={lr}, \\\n",
    "#                       train_accuracy={train_accuracy[-1]:.3}, test_accuracy={test_accuracy[-1]:.3}\")\n",
    "#                 # 追加箇所\n",
    "#                 # ハイパーパラメータ, 評価指標, 学習済みモデルをMLflowへ保存\n",
    "#                 mlflow.log_param(\"batch_size\", batch_size)\n",
    "#                 mlflow.log_param(\"lr\", lr)\n",
    "#                 mlflow.log_metric(\"train_accuracy\", train_accuracy[-1])\n",
    "#                 mlflow.log_metric(\"test_accuracy\", test_accuracy[-1])\n",
    "\n",
    "#                 mlflow.sklearn.log_model(tnet, \"model\")\n"
   ]
  },
  {
   "cell_type": "code",
   "execution_count": null,
   "metadata": {},
   "outputs": [],
   "source": [
    "# print(len(train_accuracy))\n",
    "# print(len(test_accuracy))\n",
    "# print(len(train_accuracy))\n",
    "# print(len(test_accuracy))"
   ]
  },
  {
   "cell_type": "code",
   "execution_count": 163,
   "metadata": {},
   "outputs": [
    {
     "data": {
      "image/png": "[encoded data removed]",
      "text/plain": [
       "<Figure size 640x480 with 1 Axes>"
      ]
     },
     "metadata": {},
     "output_type": "display_data"
    }
   ],
   "source": [
    "# lossとaccuracyのグラフ化\n",
    "df_log = pd.DataFrame({\"train_loss\":train_loss,\n",
    "             \"test_loss\":test_loss,\n",
    "             \"train_accuracy\":train_acc,\n",
    "             \"test_accuracy\":test_acc})\n",
    "\n",
    "df_log.plot(style=['r-', 'r--', 'b-', 'b--'])\n",
    "plt.ylim([0,3])\n",
    "plt.ylabel(\"Accuracy or loss\")\n",
    "plt.xlabel(\"epochs\")\n",
    "plt.show()"
   ]
  },
  {
   "cell_type": "code",
   "execution_count": null,
   "metadata": {
    "id": "dl_twU9IG5kV",
    "outputId": "4dd3b3a7-a66f-4652-c6d8-e2bd7719be69",
    "scrolled": true
   },
   "outputs": [],
   "source": [
    "# # lossのグラフ化\n",
    "# df_log = pd.DataFrame({\"train_loss\":train_loss,\n",
    "#              \"test_loss\":test_loss,\n",
    "#              \"train_accuracy\":train_acc,\n",
    "#              \"test_accuracy\":test_acc})\n",
    "# df_log.plot(style=['r-', 'r--', 'b-', 'b--'])\n",
    "# plt.ylabel(\"loss or accuracy\")\n",
    "# plt.xlabel(\"epochs\")\n",
    "# plt.show()"
   ]
  },
  {
   "cell_type": "code",
   "execution_count": null,
   "metadata": {},
   "outputs": [],
   "source": []
  },
  {
   "cell_type": "markdown",
   "metadata": {
    "id": "d3scsx0UG5kV"
   },
   "source": [
    "## 学習済みモデルの出力"
   ]
  },
  {
   "cell_type": "code",
   "execution_count": 162,
   "metadata": {
    "id": "SgcWYUSzG5kW"
   },
   "outputs": [],
   "source": [
    "with open(\"katakana_model.pickle\", \"wb\") as f:\n",
    "    pickle.dump(tnet, f)"
   ]
  },
  {
   "cell_type": "markdown",
   "metadata": {
    "id": "e-_NUvirC9p6"
   },
   "source": [
    "- Google Colab. を使用している人は `katakana_model.pickle` のダウンロードを忘れないようにしよう\n",
    "  - 「識別精度算出ウェブサイト」への投稿に必要な情報であるため\n",
    "  - ファイルダウンロードの参考：https://blog.kikagaku.co.jp/google-colab-file#_Google_Colab"
   ]
  }
 ],
 "metadata": {
  "colab": {
   "collapsed_sections": [],
   "name": "train.ipynb",
   "provenance": []
  },
  "kernelspec": {
   "display_name": "Python 3 (ipykernel)",
   "language": "python",
   "name": "python3"
  },
  "language_info": {
   "codemirror_mode": {
    "name": "ipython",
    "version": 3
   },
   "file_extension": ".py",
   "mimetype": "text/x-python",
   "name": "python",
   "nbconvert_exporter": "python",
   "pygments_lexer": "ipython3",
   "version": "3.10.6"
  }
 },
 "nbformat": 4,
 "nbformat_minor": 4
}
