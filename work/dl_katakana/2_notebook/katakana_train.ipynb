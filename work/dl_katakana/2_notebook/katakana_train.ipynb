{
 "cells": [
  {
   "cell_type": "markdown",
   "metadata": {
    "id": "suXTNAk4G5kK"
   },
   "source": [
    "# カタカナの画像認識モデル\n",
    "手書きカタカナ「アイウエオカキクケコサシスセソ」の15文字を高い精度で識別できるモデルを構築する"
   ]
  },
  {
   "cell_type": "code",
   "execution_count": 1,
   "metadata": {},
   "outputs": [],
   "source": [
    "import numpy as np\n",
    "import pandas as pd\n",
    "import matplotlib.pyplot as plt\n",
    "from sklearn.model_selection import train_test_split\n",
    "import pickle"
   ]
  },
  {
   "cell_type": "markdown",
   "metadata": {
    "tags": []
   },
   "source": [
    "## データ準備"
   ]
  },
  {
   "cell_type": "markdown",
   "metadata": {},
   "source": [
    "### 訓練データ&検証データの読み込み"
   ]
  },
  {
   "cell_type": "code",
   "execution_count": 2,
   "metadata": {},
   "outputs": [],
   "source": [
    "train = np.load(\"../1_data/processed_data_train.npy\")\n",
    "valid = np.load(\"../1_data/processed_data_valid.npy\")\n",
    "y_train = np.load(\"../1_data/processed_label_train.npy\")\n",
    "y_valid = np.load(\"../1_data/processed_label_valid.npy\")"
   ]
  },
  {
   "cell_type": "code",
   "execution_count": 3,
   "metadata": {},
   "outputs": [
    {
     "name": "stdout",
     "output_type": "stream",
     "text": [
      "学習用データの形状：(2100, 1, 28, 28)\n",
      "学習用ラベルの形状：(2100, 15)\n",
      "検証用データの形状：(900, 1, 28, 28)\n",
      "検証用ラベルの形状：(900, 15)\n"
     ]
    }
   ],
   "source": [
    "print(f'学習用データの形状：{train.shape}')\n",
    "print(f'学習用ラベルの形状：{y_train.shape}')\n",
    "print(f'検証用データの形状：{valid.shape}')\n",
    "print(f'検証用ラベルの形状：{y_valid.shape}')"
   ]
  },
  {
   "cell_type": "markdown",
   "metadata": {},
   "source": [
    "CNNの場合はデータは画像形式(N, C, H, W)  \n",
    "全結合NNの場合はデータは通常形式(N, H*W)"
   ]
  },
  {
   "cell_type": "markdown",
   "metadata": {},
   "source": [
    "## モデル構築・学習"
   ]
  },
  {
   "cell_type": "markdown",
   "metadata": {},
   "source": [
    "ここではCNNで学習を進める  \n",
    "まずSimpleConvNetとし、その後、層を増やしていく"
   ]
  },
  {
   "cell_type": "markdown",
   "metadata": {},
   "source": [
    "### NNインスタンスの生成〜ミニバッチ学習〜誤差・精度の記録"
   ]
  },
  {
   "cell_type": "code",
   "execution_count": 4,
   "metadata": {
    "jupyter": {
     "source_hidden": true
    },
    "tags": []
   },
   "outputs": [],
   "source": [
    "# from common.layers import SimpleConvNet\n",
    "\n",
    "# epochs = 100\n",
    "# batch_size = 100\n",
    "\n",
    "# filter_num = 30\n",
    "# filter_size = 5\n",
    "# weight_init_std = 0.01\n",
    "\n",
    "# cnn = SimpleConvNet(input_dim=(1, 28, 28), \n",
    "#                      conv_param={'filter_num':filter_num, 'filter_size':filter_size, 'pad':0, 'stride':1},\n",
    "#                      pool_param={'pool_size':2, 'pad':0, 'stride':2},\n",
    "#                      hidden_size=100, output_size=15, weight_init_std=weight_init_std, batch_size=batch_size)\n"
   ]
  },
  {
   "cell_type": "markdown",
   "metadata": {},
   "source": [
    "\n",
    "- 1. NNインスタンスの作成\n",
    "- 2. 誤差・精度の記録用リストの生成\n",
    "- 3. ミニバッチ学習時のoptimizerの生成\n",
    "- 4. ミニバッチ学習時のバッチサイズと繰り返し計算回数の設定\n",
    "- 5. エポック（＝全ミニバッチを一巡することを1エポックと数える）\n",
    "- 6. シャッフル（各エポックにおけるミニバッチ生成用のマスクリストの作成）\n",
    "\n",
    "なお、関数においては引数は\"_input\"、出力は\"output_\"とする"
   ]
  },
  {
   "cell_type": "code",
   "execution_count": 19,
   "metadata": {},
   "outputs": [],
   "source": [
    "from common.layers import SimpleConvNet\n",
    "from common.optimizer import RMSProp, NesterovAG\n",
    "def model_train(_train, _valid, _y_train, _y_valid, \n",
    "                _epochs, _batch_size, _filter_num, \n",
    "                _filter_size, _weight_init_std):\n",
    "    # 1. NNインスタンスの作成(CNNのオブジェクト生成)\n",
    "    cnn_ = SimpleConvNet(input_dim=(1, 28, 28), \n",
    "                         conv_param={'filter_num':_filter_num, 'filter_size':_filter_size, 'pad':0, 'stride':1},\n",
    "                         pool_param={'pool_size':2, 'pad':0, 'stride':2},\n",
    "                         hidden_size=100, output_size=15, weight_init_std=_weight_init_std, batch_size=_batch_size)\n",
    "\n",
    "    # 2. 誤差・精度の記録(1) 保存用リストの生成\n",
    "    train_loss_ = []; valid_loss_ = []; train_acc_ = []; valid_acc_ = []\n",
    "\n",
    "    # 3. ミニバッチ学習(1) optimizerの生成\n",
    "    optimizer = RMSProp(lr=0.01, rho=0.9)\n",
    "    # optimizer = NesterovAG(lr=0.01, momentum=0.9)\n",
    "    \n",
    "    # 3. ミニバッチ学習(2) バッチサイズと繰り返し計算回数の設定\n",
    "    xsize = _train.shape[0]\n",
    "    iter_num = np.ceil(xsize / batch_size).astype(int)\n",
    "    \n",
    "    random_seed = 1234\n",
    "\n",
    "    # 3. ミニバッチ学習(3) エポック（＝全ミニバッチを一巡することを1エポックと数える）の設定\n",
    "    for epoch in range(epochs):\n",
    "\n",
    "        # 3. ミニバッチ学習(4) シャッフル（各エポックにおけるミニバッチ生成用のマスクリストの作成）\n",
    "        idx = np.arange(xsize)\n",
    "        random_seed += epoch; np.random.seed(seed=random_seed)#seedを固定する\n",
    "        np.random.shuffle(idx)\n",
    "\n",
    "        if np.mod(epoch,5)==0: print(f'epoch数：{epoch}, バッチサイズ：{xsize}, seed：{_seed}')#(\"epoch=%s\"%epoch, xsize)\n",
    "        \n",
    "        # 3. ミニバッチ学習(5) ランダムなミニバッチを順番に取り出す\n",
    "        for it in range(iter_num):\n",
    "            # print(\"it=\", it)\n",
    "            mask = idx[batch_size*it : batch_size*(it+1)]\n",
    "            # ミニバッチの生成\n",
    "            x_train = _train[mask]; t_train = _y_train[mask]\n",
    "            # 勾配の計算 (誤差逆伝播法を用いる)\n",
    "            grads = cnn_.gradient(x_train, t_train)\n",
    "            # 更新\n",
    "            optimizer.update(cnn_.params, grads)\n",
    "\n",
    "        # 2. 誤差・精度の記録(2) 学習経過の記録\n",
    "        _acc_train = cnn_.accuracy(_train, _y_train, batch_size)\n",
    "        _acc_valid = cnn_.accuracy(_valid, _y_valid, batch_size)\n",
    "        _loss_train = cnn_.loss(_train, _y_train)\n",
    "        _loss_valid = cnn_.loss(_valid, _y_valid)\n",
    "        ## 訓練データおよび検証データにおけるloss\n",
    "        train_loss_.append(_loss_train); valid_loss_.append(_loss_valid)\n",
    "        ## 訓練データおよび検証データにて精度を確認\n",
    "        train_acc_.append(_acc_train); valid_acc_.append(_acc_valid)\n",
    "        ## 学習経過の標準出力\n",
    "        print(f'train精度：{_acc_train:.3}, valid精度：{_acc_valid:.3}')\n",
    "    return cnn_, train_acc_, valid_acc_, train_loss_, valid_loss_"
   ]
  },
  {
   "cell_type": "markdown",
   "metadata": {},
   "source": [
    "以下で学習関数(model_train)を使って学習を実行する\n",
    "- 1. MLFlowの設定ファイル読み込み\n",
    "- 2. model_train(学習用関数)のパラメータ設定\n",
    "- 3. mlflowの開始（管理IDの発行） \n",
    "- 4. model_train(学習用関数)の実行"
   ]
  },
  {
   "cell_type": "code",
   "execution_count": 20,
   "metadata": {},
   "outputs": [],
   "source": [
    "# 1. MLFlowの設定ファイル読み込み\n",
    "import configparser\n",
    "import mlflow\n",
    "cfg = configparser.ConfigParser()\n",
    "cfg.read('./config.ini', encoding='utf-8')\n",
    "\n",
    "# mlflowの初期化\n",
    "mlflow.end_run()\n",
    "\n",
    "# Artifactストレージの場所を指定\n",
    "ARTIFACT_LOCATION = cfg['Path']['artifact_location']\n",
    "\n",
    "# Experimentの生成\n",
    "EXPERIMENT_NAME = 'cnn_tuning'\n",
    "experiment = mlflow.get_experiment_by_name(EXPERIMENT_NAME)\n",
    "\n",
    "if experiment is None:  # 当該Experiment存在しないとき、新たに作成\n",
    "    experiment_id = mlflow.create_experiment(\n",
    "                            name=EXPERIMENT_NAME,\n",
    "                            artifact_location=ARTIFACT_LOCATION)\n",
    "else: # 当該Experiment存在するとき、IDを取得\n",
    "    experiment_id = experiment.experiment_id"
   ]
  },
  {
   "cell_type": "code",
   "execution_count": 25,
   "metadata": {},
   "outputs": [],
   "source": [
    "# 2. model_train(学習用関数)のパラメータ設定\n",
    "epochs = 100\n",
    "batch_size = 100\n",
    "filter_num = 30\n",
    "filter_size = 5\n",
    "weight_init_std = 0.01"
   ]
  },
  {
   "cell_type": "code",
   "execution_count": 26,
   "metadata": {},
   "outputs": [
    {
     "name": "stdout",
     "output_type": "stream",
     "text": [
      "mlflow時点のbatch_size 100\n",
      "class初期化時の値 30 5 0 28 100 0.01\n",
      "layers.RMSPropのrho 0.9\n",
      "epoch数：0, バッチサイズ：2100, seed：1234\n",
      "train精度：0.0829, valid精度：0.0811\n",
      "epoch数：1, バッチサイズ：2100, seed：1235\n",
      "train精度：0.664, valid精度：0.644\n",
      "epoch数：2, バッチサイズ：2100, seed：1237\n",
      "train精度：0.788, valid精度：0.753\n",
      "epoch数：3, バッチサイズ：2100, seed：1240\n",
      "train精度：0.869, valid精度：0.83\n",
      "epoch数：4, バッチサイズ：2100, seed：1244\n",
      "train精度：0.876, valid精度：0.83\n",
      "epoch数：5, バッチサイズ：2100, seed：1249\n",
      "train精度：0.945, valid精度：0.892\n",
      "epoch数：6, バッチサイズ：2100, seed：1255\n",
      "train精度：0.968, valid精度：0.899\n",
      "epoch数：7, バッチサイズ：2100, seed：1262\n",
      "train精度：0.975, valid精度：0.907\n",
      "epoch数：8, バッチサイズ：2100, seed：1270\n",
      "train精度：0.989, valid精度：0.916\n",
      "epoch数：9, バッチサイズ：2100, seed：1279\n",
      "train精度：0.969, valid精度：0.882\n",
      "epoch数：10, バッチサイズ：2100, seed：1289\n",
      "train精度：0.988, valid精度：0.908\n",
      "epoch数：11, バッチサイズ：2100, seed：1300\n",
      "train精度：0.993, valid精度：0.93\n",
      "epoch数：12, バッチサイズ：2100, seed：1312\n",
      "train精度：0.996, valid精度：0.917\n",
      "epoch数：13, バッチサイズ：2100, seed：1325\n",
      "train精度：0.999, valid精度：0.928\n",
      "epoch数：14, バッチサイズ：2100, seed：1339\n",
      "train精度：0.992, valid精度：0.908\n",
      "epoch数：15, バッチサイズ：2100, seed：1354\n",
      "train精度：1.0, valid精度：0.929\n",
      "epoch数：16, バッチサイズ：2100, seed：1370\n",
      "train精度：1.0, valid精度：0.926\n",
      "epoch数：17, バッチサイズ：2100, seed：1387\n",
      "train精度：1.0, valid精度：0.927\n",
      "epoch数：18, バッチサイズ：2100, seed：1405\n",
      "train精度：0.998, valid精度：0.924\n",
      "epoch数：19, バッチサイズ：2100, seed：1424\n",
      "train精度：0.992, valid精度：0.914\n",
      "epoch数：20, バッチサイズ：2100, seed：1444\n",
      "train精度：0.992, valid精度：0.909\n",
      "epoch数：21, バッチサイズ：2100, seed：1465\n",
      "train精度：0.997, valid精度：0.919\n",
      "epoch数：22, バッチサイズ：2100, seed：1487\n",
      "train精度：1.0, valid精度：0.921\n",
      "epoch数：23, バッチサイズ：2100, seed：1510\n",
      "train精度：0.999, valid精度：0.924\n",
      "epoch数：24, バッチサイズ：2100, seed：1534\n",
      "train精度：1.0, valid精度：0.921\n",
      "epoch数：25, バッチサイズ：2100, seed：1559\n",
      "train精度：1.0, valid精度：0.922\n",
      "epoch数：26, バッチサイズ：2100, seed：1585\n",
      "train精度：1.0, valid精度：0.922\n",
      "epoch数：27, バッチサイズ：2100, seed：1612\n",
      "train精度：1.0, valid精度：0.924\n",
      "epoch数：28, バッチサイズ：2100, seed：1640\n",
      "train精度：1.0, valid精度：0.923\n",
      "epoch数：29, バッチサイズ：2100, seed：1669\n",
      "train精度：1.0, valid精度：0.926\n",
      "epoch数：30, バッチサイズ：2100, seed：1699\n",
      "train精度：1.0, valid精度：0.923\n",
      "epoch数：31, バッチサイズ：2100, seed：1730\n",
      "train精度：1.0, valid精度：0.923\n",
      "epoch数：32, バッチサイズ：2100, seed：1762\n",
      "train精度：1.0, valid精度：0.927\n",
      "epoch数：33, バッチサイズ：2100, seed：1795\n",
      "train精度：1.0, valid精度：0.931\n",
      "epoch数：34, バッチサイズ：2100, seed：1829\n",
      "train精度：1.0, valid精度：0.928\n",
      "epoch数：35, バッチサイズ：2100, seed：1864\n",
      "train精度：1.0, valid精度：0.928\n",
      "epoch数：36, バッチサイズ：2100, seed：1900\n",
      "train精度：1.0, valid精度：0.928\n",
      "epoch数：37, バッチサイズ：2100, seed：1937\n",
      "train精度：1.0, valid精度：0.928\n",
      "epoch数：38, バッチサイズ：2100, seed：1975\n",
      "train精度：1.0, valid精度：0.928\n",
      "epoch数：39, バッチサイズ：2100, seed：2014\n",
      "train精度：1.0, valid精度：0.928\n",
      "epoch数：40, バッチサイズ：2100, seed：2054\n",
      "train精度：1.0, valid精度：0.929\n",
      "epoch数：41, バッチサイズ：2100, seed：2095\n",
      "train精度：1.0, valid精度：0.927\n",
      "epoch数：42, バッチサイズ：2100, seed：2137\n",
      "train精度：1.0, valid精度：0.928\n",
      "epoch数：43, バッチサイズ：2100, seed：2180\n",
      "train精度：1.0, valid精度：0.929\n",
      "epoch数：44, バッチサイズ：2100, seed：2224\n",
      "train精度：1.0, valid精度：0.929\n",
      "epoch数：45, バッチサイズ：2100, seed：2269\n",
      "train精度：1.0, valid精度：0.929\n",
      "epoch数：46, バッチサイズ：2100, seed：2315\n",
      "train精度：1.0, valid精度：0.927\n",
      "epoch数：47, バッチサイズ：2100, seed：2362\n",
      "train精度：1.0, valid精度：0.929\n",
      "epoch数：48, バッチサイズ：2100, seed：2410\n",
      "train精度：1.0, valid精度：0.929\n",
      "epoch数：49, バッチサイズ：2100, seed：2459\n",
      "train精度：1.0, valid精度：0.929\n",
      "epoch数：50, バッチサイズ：2100, seed：2509\n",
      "train精度：1.0, valid精度：0.929\n",
      "epoch数：51, バッチサイズ：2100, seed：2560\n",
      "train精度：1.0, valid精度：0.929\n",
      "epoch数：52, バッチサイズ：2100, seed：2612\n",
      "train精度：1.0, valid精度：0.929\n",
      "epoch数：53, バッチサイズ：2100, seed：2665\n",
      "train精度：1.0, valid精度：0.929\n",
      "epoch数：54, バッチサイズ：2100, seed：2719\n",
      "train精度：1.0, valid精度：0.929\n",
      "epoch数：55, バッチサイズ：2100, seed：2774\n",
      "train精度：1.0, valid精度：0.929\n",
      "epoch数：56, バッチサイズ：2100, seed：2830\n",
      "train精度：1.0, valid精度：0.929\n",
      "epoch数：57, バッチサイズ：2100, seed：2887\n",
      "train精度：1.0, valid精度：0.929\n",
      "epoch数：58, バッチサイズ：2100, seed：2945\n",
      "train精度：1.0, valid精度：0.929\n",
      "epoch数：59, バッチサイズ：2100, seed：3004\n",
      "train精度：1.0, valid精度：0.93\n",
      "epoch数：60, バッチサイズ：2100, seed：3064\n",
      "train精度：1.0, valid精度：0.929\n",
      "epoch数：61, バッチサイズ：2100, seed：3125\n",
      "train精度：1.0, valid精度：0.929\n",
      "epoch数：62, バッチサイズ：2100, seed：3187\n",
      "train精度：1.0, valid精度：0.929\n",
      "epoch数：63, バッチサイズ：2100, seed：3250\n",
      "train精度：1.0, valid精度：0.929\n",
      "epoch数：64, バッチサイズ：2100, seed：3314\n",
      "train精度：1.0, valid精度：0.929\n",
      "epoch数：65, バッチサイズ：2100, seed：3379\n",
      "train精度：1.0, valid精度：0.93\n",
      "epoch数：66, バッチサイズ：2100, seed：3445\n",
      "train精度：1.0, valid精度：0.93\n",
      "epoch数：67, バッチサイズ：2100, seed：3512\n",
      "train精度：1.0, valid精度：0.93\n",
      "epoch数：68, バッチサイズ：2100, seed：3580\n",
      "train精度：1.0, valid精度：0.93\n",
      "epoch数：69, バッチサイズ：2100, seed：3649\n",
      "train精度：1.0, valid精度：0.929\n",
      "epoch数：70, バッチサイズ：2100, seed：3719\n",
      "train精度：1.0, valid精度：0.928\n",
      "epoch数：71, バッチサイズ：2100, seed：3790\n",
      "train精度：1.0, valid精度：0.93\n",
      "epoch数：72, バッチサイズ：2100, seed：3862\n",
      "train精度：1.0, valid精度：0.929\n",
      "epoch数：73, バッチサイズ：2100, seed：3935\n",
      "train精度：1.0, valid精度：0.93\n",
      "epoch数：74, バッチサイズ：2100, seed：4009\n",
      "train精度：1.0, valid精度：0.93\n",
      "epoch数：75, バッチサイズ：2100, seed：4084\n",
      "train精度：1.0, valid精度：0.93\n",
      "epoch数：76, バッチサイズ：2100, seed：4160\n",
      "train精度：1.0, valid精度：0.93\n",
      "epoch数：77, バッチサイズ：2100, seed：4237\n",
      "train精度：1.0, valid精度：0.926\n",
      "epoch数：78, バッチサイズ：2100, seed：4315\n",
      "train精度：1.0, valid精度：0.929\n",
      "epoch数：79, バッチサイズ：2100, seed：4394\n",
      "train精度：1.0, valid精度：0.93\n",
      "epoch数：80, バッチサイズ：2100, seed：4474\n",
      "train精度：1.0, valid精度：0.93\n",
      "epoch数：81, バッチサイズ：2100, seed：4555\n",
      "train精度：1.0, valid精度：0.928\n",
      "epoch数：82, バッチサイズ：2100, seed：4637\n",
      "train精度：1.0, valid精度：0.93\n",
      "epoch数：83, バッチサイズ：2100, seed：4720\n",
      "train精度：1.0, valid精度：0.93\n",
      "epoch数：84, バッチサイズ：2100, seed：4804\n",
      "train精度：1.0, valid精度：0.93\n",
      "epoch数：85, バッチサイズ：2100, seed：4889\n",
      "train精度：1.0, valid精度：0.927\n",
      "epoch数：86, バッチサイズ：2100, seed：4975\n",
      "train精度：1.0, valid精度：0.929\n",
      "epoch数：87, バッチサイズ：2100, seed：5062\n",
      "train精度：1.0, valid精度：0.928\n",
      "epoch数：88, バッチサイズ：2100, seed：5150\n",
      "train精度：1.0, valid精度：0.93\n",
      "epoch数：89, バッチサイズ：2100, seed：5239\n",
      "train精度：1.0, valid精度：0.928\n",
      "epoch数：90, バッチサイズ：2100, seed：5329\n",
      "train精度：1.0, valid精度：0.928\n",
      "epoch数：91, バッチサイズ：2100, seed：5420\n",
      "train精度：1.0, valid精度：0.928\n",
      "epoch数：92, バッチサイズ：2100, seed：5512\n",
      "train精度：1.0, valid精度：0.927\n",
      "epoch数：93, バッチサイズ：2100, seed：5605\n",
      "train精度：1.0, valid精度：0.927\n",
      "epoch数：94, バッチサイズ：2100, seed：5699\n",
      "train精度：1.0, valid精度：0.928\n",
      "epoch数：95, バッチサイズ：2100, seed：5794\n",
      "train精度：1.0, valid精度：0.928\n",
      "epoch数：96, バッチサイズ：2100, seed：5890\n",
      "train精度：1.0, valid精度：0.929\n",
      "epoch数：97, バッチサイズ：2100, seed：5987\n",
      "train精度：1.0, valid精度：0.927\n",
      "epoch数：98, バッチサイズ：2100, seed：6085\n",
      "train精度：1.0, valid精度：0.927\n",
      "epoch数：99, バッチサイズ：2100, seed：6184\n",
      "train精度：1.0, valid精度：0.928\n",
      "trial 0: batch_size=100, filter_num=30,　train_accuracy=1.0, valid_accuracy=0.928\n"
     ]
    }
   ],
   "source": [
    "# 3. mlflowの開始（管理IDの発行） \n",
    "with mlflow.start_run(experiment_id=experiment_id):\n",
    "    trial = 0\n",
    "    print(\"mlflow時点のbatch_size\", batch_size)\n",
    "\n",
    "    # 4. model_train(学習用関数)の実行\n",
    "    tnet, train_acc, valid_acc, train_loss, valid_loss = model_train(train, valid, y_train, y_valid, \n",
    "                                                                   epochs, batch_size, filter_num, \n",
    "                                                                   filter_size, weight_init_std)\n",
    "\n",
    "    # 小数点以下３桁まで出力\n",
    "    print(f'trial {trial}: batch_size={batch_size}, filter_num={filter_num},　train_accuracy={train_acc[-1]:.3}, valid_accuracy={valid_acc[-1]:.3}')\n",
    "\n",
    "    # ハイパーパラメータ, 評価指標, 学習済みモデルをMLflowへ保存\n",
    "    mlflow.log_param(\"filter_num\", filter_num)\n",
    "    mlflow.log_param(\"filter_size\", filter_size)\n",
    "    mlflow.log_param(\"weight_init_std\", weight_init_std)\n",
    "    mlflow.log_metric(\"train_accuracy\", train_acc[-1])\n",
    "    mlflow.log_metric(\"valid_accuracy\", valid_acc[-1])\n",
    "    mlflow.log_param(\"random_seed\", random_seed)\n",
    "\n",
    "# mlflowを終了\n",
    "mlflow.end_run()"
   ]
  },
  {
   "cell_type": "markdown",
   "metadata": {},
   "source": [
    "### 誤差・精度の確認"
   ]
  },
  {
   "cell_type": "code",
   "execution_count": 24,
   "metadata": {},
   "outputs": [
    {
     "data": {
      "image/png": "[encoded data removed]",
      "text/plain": [
       "<Figure size 640x480 with 1 Axes>"
      ]
     },
     "metadata": {},
     "output_type": "display_data"
    }
   ],
   "source": [
    "# lossとaccuracyのグラフ化\n",
    "df_log = pd.DataFrame({\"train_loss\":train_loss,\n",
    "             \"valid_loss\":valid_loss,\n",
    "             \"train_acc\":train_acc,\n",
    "             \"valid_acc\":valid_acc})\n",
    "\n",
    "df_log.plot(style=['r-', 'r--', 'b-', 'b--'])\n",
    "plt.ylim([0,3])\n",
    "plt.ylabel(\"Accuracy or loss\")\n",
    "plt.xlabel(\"epochs\")\n",
    "plt.show()"
   ]
  },
  {
   "cell_type": "code",
   "execution_count": null,
   "metadata": {},
   "outputs": [],
   "source": []
  },
  {
   "cell_type": "markdown",
   "metadata": {},
   "source": [
    "### 学習済みモデルの出力"
   ]
  },
  {
   "cell_type": "code",
   "execution_count": null,
   "metadata": {},
   "outputs": [],
   "source": [
    "with open(\"katakana_model.pickle\", \"wb\") as f:\n",
    "    pickle.dump(tnet, f)"
   ]
  },
  {
   "cell_type": "code",
   "execution_count": null,
   "metadata": {},
   "outputs": [],
   "source": []
  }
 ],
 "metadata": {
  "colab": {
   "collapsed_sections": [],
   "name": "train.ipynb",
   "provenance": []
  },
  "kernelspec": {
   "display_name": "Python 3 (ipykernel)",
   "language": "python",
   "name": "python3"
  },
  "language_info": {
   "codemirror_mode": {
    "name": "ipython",
    "version": 3
   },
   "file_extension": ".py",
   "mimetype": "text/x-python",
   "name": "python",
   "nbconvert_exporter": "python",
   "pygments_lexer": "ipython3",
   "version": "3.10.6"
  }
 },
 "nbformat": 4,
 "nbformat_minor": 4
}
