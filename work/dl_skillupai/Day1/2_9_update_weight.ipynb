{
 "cells": [
  {
   "cell_type": "markdown",
   "metadata": {
    "id": "Ddt9rTg9Jotf"
   },
   "source": [
    "# ニューラルネットワークにおけるパラメータ更新部分の実装\n",
    "* 2_8_two_layer_NeuralNetwork_trainee.ipynbで実装したTwoLayerNetを用いて、パラメータ更新部分を実装する。"
   ]
  },
  {
   "cell_type": "code",
   "execution_count": null,
   "metadata": {
    "id": "gkGEjjZRJpnu"
   },
   "outputs": [],
   "source": [
    "import numpy as np\n",
    "import pandas as pd\n",
    "import matplotlib.pyplot as plt\n",
    "\n",
    "try:\n",
    "    from google.colab import files\n",
    "    print('Google Colab. 上での実行です')\n",
    "    print('「ファイルを選択」から、notebook/common フォルダの中身をすべてを選択し、アップロードしてください')\n",
    "    print('===========')\n",
    "    files.upload()\n",
    "    !mkdir common\n",
    "    !mv *.py ./common\n",
    "except:\n",
    "    print('ローカル環境での実行です')\n",
    "\n",
    "from common.network import TwoLayerNet"
   ]
  },
  {
   "cell_type": "markdown",
   "metadata": {
    "id": "XyltY0kXJoto"
   },
   "source": [
    "## パラメータの更新\n",
    "\n",
    "* パラメータの更新式  \n",
    "  \n",
    "  $\\displaystyle {\\bf W}_{t+1} = {\\bf W}_t - \\eta \\frac{\\partial L}{\\partial {\\bf W}_t}$  \n",
    "      \n",
    "    $\\bf W$ : パラメータ(バイアスbも同様)  \n",
    "    $L$ : 損失  \n",
    "    $\\eta$ : 学習率  "
   ]
  },
  {
   "cell_type": "markdown",
   "metadata": {
    "id": "AgX1T2pUJotp"
   },
   "source": [
    "### [演習]\n",
    "* 以下のパラメータを更新する部分を完成させましょう。"
   ]
  },
  {
   "cell_type": "code",
   "execution_count": null,
   "metadata": {
    "id": "9FtPTgN-Jotq",
    "scrolled": true
   },
   "outputs": [],
   "source": [
    "# 学習用データ(データは4つ)\n",
    "##  説明変数は2次元\n",
    "x = np.array([\n",
    "            [1, 1],\n",
    "            [1, 0],\n",
    "            [0, 0],              \n",
    "            [0, 1]])\n",
    "##  3クラス分類問題を想定\n",
    "t = np.array([\n",
    "            [0, 1, 0],\n",
    "            [1, 0, 0],\n",
    "            [1, 0, 0],              \n",
    "            [0, 1, 0]])\n",
    "\n",
    "iters_num = 2000\n",
    "lr = 0.1 #学習率\n",
    "\n",
    "tnet = TwoLayerNet(input_size=2, hidden_size=1, output_size=3)\n",
    "\n",
    "li_loss = []\n",
    "for i in range(iters_num):\n",
    "    # 勾配の計算\n",
    "    grads = tnet.gradient(x, t)\n",
    "\n",
    "    # パラメータの更新\n",
    "    for key in tnet.params.keys():\n",
    "        tnet.params[key] -= lr * grads[key] # パラメータの更新式\n",
    "        \n",
    "    # 学習経過の記録\n",
    "    loss = tnet.loss(x, t)\n",
    "    li_loss.append(loss)"
   ]
  },
  {
   "cell_type": "code",
   "execution_count": null,
   "metadata": {
    "colab": {
     "base_uri": "https://localhost:8080/",
     "height": 280
    },
    "executionInfo": {
     "elapsed": 313,
     "status": "ok",
     "timestamp": 1659890787373,
     "user": {
      "displayName": "小宮寛季",
      "userId": "09825774445954048534"
     },
     "user_tz": -540
    },
    "id": "RJNUv94gJotq",
    "outputId": "8a10951a-3941-4365-8b88-ee88e8d37e68"
   },
   "outputs": [
    {
     "data": {
      "image/png": "[encoded data removed]",
      "text/plain": [
       "<Figure size 432x288 with 1 Axes>"
      ]
     },
     "metadata": {
      "needs_background": "light"
     },
     "output_type": "display_data"
    }
   ],
   "source": [
    "# lossのグラフ化\n",
    "pd.DataFrame(li_loss).plot()\n",
    "plt.ylabel(\"loss\")\n",
    "plt.xlabel(\"iters_num\")\n",
    "plt.show()"
   ]
  },
  {
   "cell_type": "code",
   "execution_count": null,
   "metadata": {
    "colab": {
     "base_uri": "https://localhost:8080/"
    },
    "executionInfo": {
     "elapsed": 6,
     "status": "ok",
     "timestamp": 1659890789811,
     "user": {
      "displayName": "小宮寛季",
      "userId": "09825774445954048534"
     },
     "user_tz": -540
    },
    "id": "rABdsgEYJots",
    "outputId": "577178fa-25c4-4d5e-c5a0-8975b1d2fac8"
   },
   "outputs": [
    {
     "name": "stdout",
     "output_type": "stream",
     "text": [
      "W1=\n",
      " [[-0.32]\n",
      " [ 4.94]]\n",
      "b1=\n",
      " [-2.23]\n",
      "W2=\n",
      " [[-3.79  5.1  -1.31]]\n",
      "b2=\n",
      " [ 3.46 -0.89 -2.58]\n"
     ]
    }
   ],
   "source": [
    "# 最終パラメータの確認\n",
    "print(\"W1=\\n\", tnet.params[\"W1\"].round(2))\n",
    "print(\"b1=\\n\", tnet.params[\"b1\"].round(2))\n",
    "print(\"W2=\\n\", tnet.params[\"W2\"].round(2))\n",
    "print(\"b2=\\n\", tnet.params[\"b2\"].round(2))"
   ]
  },
  {
   "cell_type": "markdown",
   "metadata": {
    "id": "js4ppJ4_Jott"
   },
   "source": [
    "* 最終のW1のパラメータを見ると、-0.32と4.94であるため、xの1次元目の説明変数はほとんど影響していないことがわかる"
   ]
  }
 ],
 "metadata": {
  "colab": {
   "collapsed_sections": [],
   "name": "2_9_update_weight.ipynb",
   "provenance": []
  },
  "kernelspec": {
   "display_name": "Python 3 (ipykernel)",
   "language": "python",
   "name": "python3"
  },
  "language_info": {
   "codemirror_mode": {
    "name": "ipython",
    "version": 3
   },
   "file_extension": ".py",
   "mimetype": "text/x-python",
   "name": "python",
   "nbconvert_exporter": "python",
   "pygments_lexer": "ipython3",
   "version": "3.10.5"
  }
 },
 "nbformat": 4,
 "nbformat_minor": 4
}
