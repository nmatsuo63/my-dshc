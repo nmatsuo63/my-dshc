{
 "cells": [
  {
   "cell_type": "markdown",
   "metadata": {
    "id": "ypaPf3_iTlkt"
   },
   "source": [
    "# 誤差逆伝播法に対応したNNを実装する"
   ]
  },
  {
   "cell_type": "code",
   "execution_count": 5,
   "metadata": {
    "id": "jCzoMJRNTmXI"
   },
   "outputs": [
    {
     "name": "stdout",
     "output_type": "stream",
     "text": [
      "ローカル環境での実行です\n"
     ]
    }
   ],
   "source": [
    "import sys, os\n",
    "import numpy as np\n",
    "from collections import OrderedDict\n",
    "\n",
    "try:\n",
    "    from google.colab import files\n",
    "    print('Google Colab. 上での実行です')\n",
    "    print('「ファイルを選択」から、notebook/commonフォルダのfunctions.py、layers.pyを選択し、アップロードしてください')\n",
    "    print('===========')\n",
    "    files.upload()\n",
    "    !mkdir common\n",
    "    !mv *.py ./common\n",
    "except:\n",
    "    print('ローカル環境での実行です')\n",
    "\n",
    "from common.layers import SoftmaxWithLoss, Affine, ReLU"
   ]
  },
  {
   "cell_type": "markdown",
   "metadata": {
    "id": "QCdBgAuTTlk3"
   },
   "source": [
    "### [演習]\n",
    "* 以下の誤差逆伝播法に対応したNNクラスを完成させましょう。"
   ]
  },
  {
   "cell_type": "code",
   "execution_count": 6,
   "metadata": {
    "id": "UK8LJefGTlk4"
   },
   "outputs": [
    {
     "name": "stdout",
     "output_type": "stream",
     "text": [
      "a 1\n",
      "c 3\n",
      "b 2\n",
      "\n",
      "[2, 3, 1]\n"
     ]
    }
   ],
   "source": [
    "# ヒント\n",
    "\n",
    "# OrderedDictを用いると、順序を保持したdictを生成することができる\n",
    "# ただし、Pythonバージョン3.6以降は、普通のdictでも順序が保存される\n",
    "dic1 = OrderedDict()\n",
    "dic1[\"a\"] = 1\n",
    "dic1[\"c\"] = 3\n",
    "dic1[\"b\"] = 2\n",
    "for key, value in dic1.items():\n",
    "    print(key, value)\n",
    "print()\n",
    "\n",
    "# dictから逆順でvalueを取り出す方法\n",
    "layers = list(dic1.values())\n",
    "layers.reverse() # 順序を逆転させる\n",
    "print(layers)"
   ]
  },
  {
   "cell_type": "code",
   "execution_count": 10,
   "metadata": {
    "id": "ct7VAEq4Tlk5"
   },
   "outputs": [],
   "source": [
    "class TwoLayerNet:\n",
    "\n",
    "    def __init__(self, input_size, hidden_size, output_size, weight_init_std = 0.01):\n",
    "        # 重みの初期化\n",
    "        self.params = {}\n",
    "        self.params['W1'] = weight_init_std * np.random.randn(input_size, hidden_size)\n",
    "        self.params['b1'] = np.zeros(hidden_size)\n",
    "        self.params['W2'] = weight_init_std * np.random.randn(hidden_size, output_size) \n",
    "        self.params['b2'] = np.zeros(output_size)\n",
    "\n",
    "        # レイヤの生成\n",
    "        self.layers = OrderedDict() # 順番付きdict形式. \n",
    "        # self.layers['Affine1'] = Affine(    ,    )\n",
    "        self.layers['Affine1'] = Affine(self.params['W1'],self.params['b1'])\n",
    "        self.layers['Relu1'] = ReLU()\n",
    "        # self.layers['Affine2'] = Affine(    ,    )\n",
    "        self.layers['Affine2'] = Affine(self.params['W2'],self.params['b2'])\n",
    "        self.lastLayer = SoftmaxWithLoss() # 出力層\n",
    "        \n",
    "    def predict(self, x):\n",
    "        \"\"\"\n",
    "        予測関数\n",
    "        x : 入力\n",
    "        \"\"\"\n",
    "        for layer in self.layers.values():\n",
    "            # 入力されたxを更新していく = 順伝播計算\n",
    "            # x = layer.forward(      )\n",
    "            x = layer.forward(x)\n",
    "        \n",
    "        return x\n",
    "        \n",
    "    def loss(self, x, t):\n",
    "        \"\"\"\n",
    "        損失関数\n",
    "        x:入力データ, t:正解データ\n",
    "        \"\"\"\n",
    "        # y = self.predict(    )\n",
    "        y = self.predict(x)\n",
    "        # return self.lastLayer.forward(    ,    )\n",
    "        return self.lastLayer.forward(y,t)\n",
    "    \n",
    "    def accuracy(self, x, t):\n",
    "        \"\"\"\n",
    "        正解率\n",
    "        \"\"\"\n",
    "        # 予測. 返り値は正規化されていない実数\n",
    "        # y = self.predict(     )\n",
    "        y = self.predict(x)\n",
    "        \n",
    "        #正規化されていない実数をもとに、最大値になるindexに変換する\n",
    "        # y = np.argmax(     , axis=  )\n",
    "        # データ方向ではなく、one-hotベクトルのうち、最大の要素のINDEXを1とする\n",
    "        y = np.argmax(y, axis=1)\n",
    "        \n",
    "        # tが 0/1 ではなく連続数の場合は下記により 0/1 に変換する\n",
    "        if t.ndim != 1 : \n",
    "            \"\"\"\n",
    "            one-hotベクトルの場合、正解データをindexに変換する\n",
    "            \"\"\"\n",
    "            t = np.argmax(t, axis=1)\n",
    "        \n",
    "        # 正解率\n",
    "        accuracy = np.sum(y == t) / float(x.shape[0])\n",
    "        return accuracy\n",
    "        \n",
    "    def gradient(self, x, t):\n",
    "        \"\"\"\n",
    "        全パラメータの勾配を計算\n",
    "        \"\"\"\n",
    "        \n",
    "        # 順伝播\n",
    "        self.loss(x, t)\n",
    "\n",
    "        # 逆伝播\n",
    "        dout = self.lastLayer.backward() # 出力層\n",
    "        \n",
    "        ## doutを逆向きに伝える \n",
    "        layers = list(self.layers.values())\n",
    "        layers.reverse()#中身を反転。これにより、Affine2→ReLU→Affine1の順番で、下記において計算される\n",
    "        for layer in layers:\n",
    "            dout = layer.backward(dout)\n",
    "\n",
    "        # dW, dbをgradsにまとめる\n",
    "        grads = {}\n",
    "        # grads['W1'], grads['b1'] = \n",
    "        # grads['W2'], grads['b2'] = \n",
    "        grads['W1'], grads['b1'] = self.layers['Affine1'].dW, self.layers['Affine1'].db\n",
    "        grads['W2'], grads['b2'] = self.layers['Affine2'].dW, self.layers['Affine2'].db\n",
    "\n",
    "        return grads"
   ]
  },
  {
   "cell_type": "code",
   "execution_count": 9,
   "metadata": {
    "id": "9jPNztzlTlk7"
   },
   "outputs": [
    {
     "name": "stdout",
     "output_type": "stream",
     "text": [
      "predict=\n",
      " [[-1.71263784e-04 -2.94125223e-05  6.65588607e-04]\n",
      " [-3.71268545e-04 -3.30834436e-04  7.06831702e-04]]\n",
      "\n",
      "loss=\n",
      " 1.0985431978422477\n",
      "\n",
      "accuracy= 0.5\n",
      "\n",
      "gradient=\n",
      "\n",
      "W1\n",
      "[[ 0.          0.         -0.00088597 -0.00811426  0.00601437]\n",
      " [ 0.          0.         -0.00053376 -0.01246281 -0.0012345 ]\n",
      " [ 0.          0.         -0.00018156 -0.01681137 -0.00848336]]\n",
      "b1\n",
      "[ 0.          0.         -0.00026688 -0.00623141 -0.00061725]\n",
      "W2\n",
      "[[ 0.          0.          0.        ]\n",
      " [ 0.          0.          0.        ]\n",
      " [-0.00166882  0.00949407 -0.00782524]\n",
      " [-0.00514296  0.00453633  0.00060663]\n",
      " [-0.01217193  0.01974981 -0.00757788]]\n",
      "b2\n",
      "[-0.16678319  0.33324718 -0.16646399]\n"
     ]
    }
   ],
   "source": [
    "# 学習用データ\n",
    "x = np.array([[1, 2, 3],\n",
    "            [3, 2, 1]])\n",
    "t = np.array([[0, 0, 1],\n",
    "            [1, 0, 0]])\n",
    "\n",
    "tnet = TwoLayerNet( input_size=3, hidden_size=5, output_size=3)\n",
    "\n",
    "print(\"predict=\\n\", tnet.predict(x))\n",
    "print()\n",
    "print(\"loss=\\n\", tnet.loss(x, t))\n",
    "print()\n",
    "print(\"accuracy=\", tnet.accuracy(x, t))\n",
    "print()\n",
    "print(\"gradient=\\n\",)\n",
    "grads = tnet.gradient(x, t)\n",
    "for key, value in grads.items():\n",
    "    print(key)\n",
    "    print(value)"
   ]
  },
  {
   "cell_type": "code",
   "execution_count": null,
   "metadata": {},
   "outputs": [],
   "source": []
  }
 ],
 "metadata": {
  "colab": {
   "collapsed_sections": [],
   "name": "2_16_NN_with_backpropagation_trainee.ipynb",
   "provenance": []
  },
  "kernelspec": {
   "display_name": "Python 3 (ipykernel)",
   "language": "python",
   "name": "python3"
  },
  "language_info": {
   "codemirror_mode": {
    "name": "ipython",
    "version": 3
   },
   "file_extension": ".py",
   "mimetype": "text/x-python",
   "name": "python",
   "nbconvert_exporter": "python",
   "pygments_lexer": "ipython3",
   "version": "3.10.5"
  }
 },
 "nbformat": 4,
 "nbformat_minor": 4
}
