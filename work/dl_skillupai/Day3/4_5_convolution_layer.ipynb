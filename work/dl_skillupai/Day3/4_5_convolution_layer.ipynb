{
 "cells": [
  {
   "cell_type": "markdown",
   "metadata": {
    "id": "Z-ObpHig8ckk"
   },
   "source": [
    "# 畳み込み層のクラスを実装する"
   ]
  },
  {
   "cell_type": "code",
   "execution_count": 1,
   "metadata": {
    "colab": {
     "base_uri": "https://localhost:8080/",
     "height": 131,
     "resources": {
      "http://localhost:8080/nbextensions/google.colab/files.js": {
       "data": "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",
       "headers": [
        [
         "content-type",
         "application/javascript"
        ]
       ],
       "ok": true,
       "status": 200,
       "status_text": ""
      }
     }
    },
    "executionInfo": {
     "elapsed": 7445,
     "status": "ok",
     "timestamp": 1659937002736,
     "user": {
      "displayName": "小宮寛季",
      "userId": "09825774445954048534"
     },
     "user_tz": -540
    },
    "id": "F-ETDGLf8ckl",
    "outputId": "fcc7eda7-6f58-4e3b-eb58-144c9e376f63"
   },
   "outputs": [
    {
     "name": "stdout",
     "output_type": "stream",
     "text": [
      "Google Colab. 上での実行です\n",
      "「ファイルを選択」から、notebook/commonフォルダのutil.pyを選択し、アップロードしてください\n",
      "===========\n"
     ]
    },
    {
     "data": {
      "text/html": [
       "\n",
       "     <input type=\"file\" id=\"files-b12fb8a3-cb11-4076-87d9-b75bf96575d7\" name=\"files[]\" multiple disabled\n",
       "        style=\"border:none\" />\n",
       "     <output id=\"result-b12fb8a3-cb11-4076-87d9-b75bf96575d7\">\n",
       "      Upload widget is only available when the cell has been executed in the\n",
       "      current browser session. Please rerun this cell to enable.\n",
       "      </output>\n",
       "      <script src=\"/nbextensions/google.colab/files.js\"></script> "
      ],
      "text/plain": [
       "<IPython.core.display.HTML object>"
      ]
     },
     "metadata": {},
     "output_type": "display_data"
    },
    {
     "name": "stdout",
     "output_type": "stream",
     "text": [
      "Saving util.py to util.py\n"
     ]
    }
   ],
   "source": [
    "import numpy as np\n",
    "\n",
    "try:\n",
    "    from google.colab import files\n",
    "    print('Google Colab. 上での実行です')\n",
    "    print('「ファイルを選択」から、notebook/commonフォルダのutil.pyを選択し、アップロードしてください')\n",
    "    print('===========')\n",
    "    files.upload()\n",
    "    !mkdir common\n",
    "    !mv *.py ./common\n",
    "except:\n",
    "    print('ローカル環境での実行です')\n",
    "\n",
    "from common.util import im2col, col2im"
   ]
  },
  {
   "cell_type": "markdown",
   "metadata": {
    "id": "PwOEMXw38ckl"
   },
   "source": [
    "### [演習]\n",
    "* 以下のConvolutionクラスを完成させましょう"
   ]
  },
  {
   "cell_type": "code",
   "execution_count": 2,
   "metadata": {
    "executionInfo": {
     "elapsed": 270,
     "status": "ok",
     "timestamp": 1659937006273,
     "user": {
      "displayName": "小宮寛季",
      "userId": "09825774445954048534"
     },
     "user_tz": -540
    },
    "id": "heb4WTLr8ckm"
   },
   "outputs": [],
   "source": [
    "class Convolution:\n",
    "    def __init__(self, W, b, stride=1, pad=0):\n",
    "        self.W = W # フィルターの重み(配列形状:フィルターの枚数, チャンネル数, フィルターの高さ, フィルターの幅)\n",
    "        self.b = b #フィルターのバイアス\n",
    "        self.stride = stride # ストライド数\n",
    "        self.pad = pad # パディング数\n",
    "        \n",
    "        # インスタンス変数の宣言\n",
    "        self.x = None   \n",
    "        self.col = None\n",
    "        self.col_W = None\n",
    "        self.dcol = None\n",
    "        self.dW = None\n",
    "        self.db = None\n",
    "\n",
    "    def forward(self, x):\n",
    "        \"\"\"\n",
    "        順伝播計算\n",
    "        x : 入力(配列形状=(データ数, チャンネル数, 高さ, 幅))\n",
    "        \"\"\"\n",
    "        FN, C, FH, FW = self.W.shape\n",
    "        N, C, H, W = x.shape\n",
    "        out_h = (H + 2*self.pad - FH) // self.stride + 1 # 出力の高さ(端数は切り捨てる)\n",
    "        out_w =(W + 2*self.pad - FW) // self.stride + 1# 出力の幅(端数は切り捨てる)\n",
    "\n",
    "        # 畳み込み演算を効率的に行えるようにするため、入力xを行列colに変形する\n",
    "        col = im2col(x, FH, FW, self.stride, self.pad)\n",
    "        \n",
    "        # 重みフィルターを2次元配列に変形する\n",
    "        # col_Wの配列形状は、(C*FH*FW, フィルター枚数)\n",
    "        col_W = self.W.reshape(FN, -1).T\n",
    "\n",
    "        # 行列の積を計算し、バイアスを足す\n",
    "        out = np.dot(col, col_W) + self.b\n",
    "        \n",
    "        # 画像形式に戻して、チャンネルの軸を2番目に移動する\n",
    "        out = out.reshape(N, out_h, out_w, -1).transpose(0, 3, 1, 2)\n",
    "\n",
    "        self.x = x\n",
    "        self.col = col\n",
    "        self.col_W = col_W\n",
    "\n",
    "        return out\n",
    "\n",
    "    def backward(self, dout):\n",
    "        \"\"\"\n",
    "        逆伝播計算\n",
    "        Affineレイヤと同様の考え方で、逆伝播させる\n",
    "        dout : 出力層側から伝わってきた勾配(配列形状=(データ数, チャンネル数, 高さ, 幅))\n",
    "        return : 入力層側へ伝える勾配\n",
    "        \"\"\"\n",
    "        FN, C, FH, FW = self.W.shape\n",
    "        \n",
    "        # doutのチャンネル数軸を4番目に移動させ、2次元配列に変形する\n",
    "        # doutの列数は、チャンネル数(=フィルター数)になる\n",
    "        # doutの行数は、データ数*doutの高さ*doutの幅になる        \n",
    "        dout = dout.transpose(0,2,3,1).reshape(-1, FN)\n",
    "\n",
    "        # バイアスbは、doutのチャンネル毎に、(データ数*doutの高さ*doutの幅)個の要素を足し合わせる\n",
    "        self.db = np.sum(dout, axis=0)\n",
    "        \n",
    "        # dWは、入力行列colと行列doutの積になる\n",
    "        self.dW = np.dot(self.col.T, dout)\n",
    "        \n",
    "        # dWを(フィルター数, チャンネル数, フィルター高さ、フィルター幅)の配列形状に変形する\n",
    "        self.dW = self.dW.transpose(1, 0).reshape(FN, C, FH, FW)\n",
    "\n",
    "        # 入力側の勾配は、doutにフィルターの重みを掛けて求める\n",
    "        dcol = np.dot(dout, self.col_W.T)\n",
    "        \n",
    "        # 勾配を4次元配列(データ数, チャンネル数, 高さ, 幅)に変形する\n",
    "        dx = col2im(dcol, self.x.shape, FH, FW, self.stride, self.pad, is_backward=True)\n",
    "\n",
    "        self.dcol = dcol # 結果を確認するために保持しておく\n",
    "            \n",
    "        return dx"
   ]
  },
  {
   "cell_type": "code",
   "execution_count": 3,
   "metadata": {
    "colab": {
     "base_uri": "https://localhost:8080/"
    },
    "executionInfo": {
     "elapsed": 303,
     "status": "ok",
     "timestamp": 1659937009313,
     "user": {
      "displayName": "小宮寛季",
      "userId": "09825774445954048534"
     },
     "user_tz": -540
    },
    "id": "qfnoZNfU8ckm",
    "outputId": "a731743b-7ff1-4426-c1a7-2f2a0a9fcfc1"
   },
   "outputs": [
    {
     "name": "stdout",
     "output_type": "stream",
     "text": [
      "x=\n",
      "[[[[ 0.14 -0.41 -0.97 -0.38]\n",
      "   [ 1.55 -1.08 -0.79 -0.02]\n",
      "   [-0.3  -0.03  0.1  -0.17]\n",
      "   [ 0.24  0.86  0.57  0.72]]]\n",
      "\n",
      "\n",
      " [[[-0.71 -0.76 -0.72 -0.86]\n",
      "   [ 1.55 -0.22  1.64 -0.82]\n",
      "   [ 1.07 -0.52  0.21 -0.02]\n",
      "   [ 0.05 -0.05  0.45  1.59]]]]\n",
      "W=\n",
      "[[[[-0.56 -2.09]\n",
      "   [ 1.21  0.84]]]\n",
      "\n",
      "\n",
      " [[[ 0.75 -1.61]\n",
      "   [-0.22  1.91]]]]\n",
      "b=\n",
      "[-0.48 -0.53]\n",
      "\n",
      "順伝播計算\n",
      "col=\n",
      "[[ 0.14 -0.41  1.55 -1.08]\n",
      " [-0.97 -0.38 -0.79 -0.02]\n",
      " [-0.3  -0.03  0.24  0.86]\n",
      " [ 0.1  -0.17  0.57  0.72]\n",
      " [-0.71 -0.76  1.55 -0.22]\n",
      " [-0.72 -0.86  1.64 -0.82]\n",
      " [ 1.07 -0.52  0.05 -0.05]\n",
      " [ 0.21 -0.02  0.45  1.59]]\n",
      "col_W=\n",
      "[[-0.56  0.75]\n",
      " [-2.09 -1.61]\n",
      " [ 1.21 -0.22]\n",
      " [ 0.84  1.91]]\n",
      "out=\n",
      "[[[[ 1.26 -0.11]\n",
      "   [ 0.75  1.11]]\n",
      "\n",
      "  [[-2.19 -0.52]\n",
      "   [ 0.88  1.07]]]\n",
      "\n",
      "\n",
      " [[[ 3.2   3.03]\n",
      "   [ 0.04  1.32]]\n",
      "\n",
      "  [[-0.6  -1.6 ]\n",
      "   [ 1.01  2.6 ]]]]\n",
      "\n",
      "逆伝播計算\n",
      "dout=\n",
      "[[[[ 0.03 -0.3 ]\n",
      "   [-0.8   0.75]]\n",
      "\n",
      "  [[ 0.14  0.3 ]\n",
      "   [ 0.33 -0.07]]]\n",
      "\n",
      "\n",
      " [[[ 0.07 -0.75]\n",
      "   [ 0.76  1.74]]\n",
      "\n",
      "  [[-0.59 -0.18]\n",
      "   [-0.45 -1.2 ]]]]\n",
      "dcol=\n",
      "[[ 0.09 -0.29 -0.    0.3 ]\n",
      " [ 0.4   0.14 -0.43  0.33]\n",
      " [ 0.7   1.14 -1.04 -0.03]\n",
      " [-0.47 -1.47  0.93  0.5 ]\n",
      " [-0.48  0.79  0.22 -1.06]\n",
      " [ 0.29  1.85 -0.87 -0.96]\n",
      " [-0.76 -0.86  1.01 -0.23]\n",
      " [-1.88 -1.7   2.37 -0.85]]\n",
      "dx=\n",
      "[[[[ 0.09 -0.29  0.4   0.14]\n",
      "   [-0.    0.3  -0.43  0.33]\n",
      "   [ 0.7   1.14 -0.47 -1.47]\n",
      "   [-1.04 -0.03  0.93  0.5 ]]]\n",
      "\n",
      "\n",
      " [[[-0.48  0.79  0.29  1.85]\n",
      "   [ 0.22 -1.06 -0.87 -0.96]\n",
      "   [-0.76 -0.86 -1.88 -1.7 ]\n",
      "   [ 1.01 -0.23  2.37 -0.85]]]]\n",
      "\n"
     ]
    }
   ],
   "source": [
    "# 動作確認 条件1\n",
    "channel = 1\n",
    "filter_num = 2\n",
    "filter_size = 2\n",
    "N = 2\n",
    "stride = 2\n",
    "pad = 0\n",
    "input_size = 4\n",
    "\n",
    "# # 動作確認 条件2\n",
    "# channel = 1\n",
    "# filter_num = 2\n",
    "# filter_size = 2\n",
    "# N = 1\n",
    "# stride = 1\n",
    "# pad = 1\n",
    "# input_size = 2\n",
    "\n",
    "\n",
    "x =  np.random.randn(N, channel, input_size, input_size)\n",
    "W =  np.random.randn(filter_num, channel, filter_size, filter_size)\n",
    "b =  np.random.randn(filter_num)\n",
    "\n",
    "print(\"x=\")\n",
    "print(x.round(2))\n",
    "print(\"W=\")\n",
    "print(W.round(2))\n",
    "print(\"b=\")\n",
    "print(b.round(2))\n",
    "print()\n",
    "\n",
    "# Convolutionクラスのインスタンスを生成\n",
    "cv = Convolution(W, b, stride=stride, pad=pad)\n",
    "\n",
    "print(\"順伝播計算\")\n",
    "out = cv.forward(x)\n",
    "print(\"col=\")\n",
    "print(cv.col.round(2))\n",
    "print(\"col_W=\")\n",
    "print(cv.col_W.round(2))\n",
    "print(\"out=\")\n",
    "print(out.round(2))\n",
    "print()\n",
    "\n",
    "print(\"逆伝播計算\")\n",
    "out_h = (input_size + 2*pad - filter_size) // stride + 1 # 出力の高さ\n",
    "out_w =(input_size + 2*pad - filter_size) // stride + 1# 出力の幅\n",
    "dout =  np.random.randn(N, filter_num, out_h, out_w)\n",
    "print(\"dout=\")\n",
    "print(dout.round(2))\n",
    "dx = cv.backward(dout)\n",
    "print(\"dcol=\")\n",
    "print(cv.dcol.round(2))\n",
    "print(\"dx=\")\n",
    "print(dx.round(2))\n",
    "print()\n"
   ]
  },
  {
   "cell_type": "code",
   "execution_count": null,
   "metadata": {
    "id": "Aab17d6L8ckn"
   },
   "outputs": [],
   "source": []
  }
 ],
 "metadata": {
  "colab": {
   "name": "4_5_convolution_layer.ipynb",
   "provenance": []
  },
  "kernelspec": {
   "display_name": "Python 3 (ipykernel)",
   "language": "python",
   "name": "python3"
  },
  "language_info": {
   "codemirror_mode": {
    "name": "ipython",
    "version": 3
   },
   "file_extension": ".py",
   "mimetype": "text/x-python",
   "name": "python",
   "nbconvert_exporter": "python",
   "pygments_lexer": "ipython3",
   "version": "3.10.6"
  }
 },
 "nbformat": 4,
 "nbformat_minor": 4
}
