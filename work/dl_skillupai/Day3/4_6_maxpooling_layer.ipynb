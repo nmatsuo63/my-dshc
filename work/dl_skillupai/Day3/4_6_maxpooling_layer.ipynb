{
 "cells": [
  {
   "cell_type": "markdown",
   "metadata": {
    "id": "RPypn2V59QOh"
   },
   "source": [
    "# マックスプーリング層のクラスを実装する"
   ]
  },
  {
   "cell_type": "code",
   "execution_count": null,
   "metadata": {
    "colab": {
     "base_uri": "https://localhost:8080/",
     "height": 131,
     "resources": {
      "http://localhost:8080/nbextensions/google.colab/files.js": {
       "data": "Ly8gQ29weXJpZ2h0IDIwMTcgR29vZ2xlIExMQwovLwovLyBMaWNlbnNlZCB1bmRlciB0aGUgQXBhY2hlIExpY2Vuc2UsIFZlcnNpb24gMi4wICh0aGUgIkxpY2Vuc2UiKTsKLy8geW91IG1heSBub3QgdXNlIHRoaXMgZmlsZSBleGNlcHQgaW4gY29tcGxpYW5jZSB3aXRoIHRoZSBMaWNlbnNlLgovLyBZb3UgbWF5IG9idGFpbiBhIGNvcHkgb2YgdGhlIExpY2Vuc2UgYXQKLy8KLy8gICAgICBodHRwOi8vd3d3LmFwYWNoZS5vcmcvbGljZW5zZXMvTElDRU5TRS0yLjAKLy8KLy8gVW5sZXNzIHJlcXVpcmVkIGJ5IGFwcGxpY2FibGUgbGF3IG9yIGFncmVlZCB0byBpbiB3cml0aW5nLCBzb2Z0d2FyZQovLyBkaXN0cmlidXRlZCB1bmRlciB0aGUgTGljZW5zZSBpcyBkaXN0cmlidXRlZCBvbiBhbiAiQVMgSVMiIEJBU0lTLAovLyBXSVRIT1VUIFdBUlJBTlRJRVMgT1IgQ09ORElUSU9OUyBPRiBBTlkgS0lORCwgZWl0aGVyIGV4cHJlc3Mgb3IgaW1wbGllZC4KLy8gU2VlIHRoZSBMaWNlbnNlIGZvciB0aGUgc3BlY2lmaWMgbGFuZ3VhZ2UgZ292ZXJuaW5nIHBlcm1pc3Npb25zIGFuZAovLyBsaW1pdGF0aW9ucyB1bmRlciB0aGUgTGljZW5zZS4KCi8qKgogKiBAZmlsZW92ZXJ2aWV3IEhlbHBlcnMgZm9yIGdvb2dsZS5jb2xhYiBQeXRob24gbW9kdWxlLgogKi8KKGZ1bmN0aW9uKHNjb3BlKSB7CmZ1bmN0aW9uIHNwYW4odGV4dCwgc3R5bGVBdHRyaWJ1dGVzID0ge30pIHsKICBjb25zdCBlbGVtZW50ID0gZG9jdW1lbnQuY3JlYXRlRWxlbWVudCgnc3BhbicpOwogIGVsZW1lbnQudGV4dENvbnRlbnQgPSB0ZXh0OwogIGZvciAoY29uc3Qga2V5IG9mIE9iamVjdC5rZXlzKHN0eWxlQXR0cmlidXRlcykpIHsKICAgIGVsZW1lbnQuc3R5bGVba2V5XSA9IHN0eWxlQXR0cmlidXRlc1trZXldOwogIH0KICByZXR1cm4gZWxlbWVudDsKfQoKLy8gTWF4IG51bWJlciBvZiBieXRlcyB3aGljaCB3aWxsIGJlIHVwbG9hZGVkIGF0IGEgdGltZS4KY29uc3QgTUFYX1BBWUxPQURfU0laRSA9IDEwMCAqIDEwMjQ7CgpmdW5jdGlvbiBfdXBsb2FkRmlsZXMoaW5wdXRJZCwgb3V0cHV0SWQpIHsKICBjb25zdCBzdGVwcyA9IHVwbG9hZEZpbGVzU3RlcChpbnB1dElkLCBvdXRwdXRJZCk7CiAgY29uc3Qgb3V0cHV0RWxlbWVudCA9IGRvY3VtZW50LmdldEVsZW1lbnRCeUlkKG91dHB1dElkKTsKICAvLyBDYWNoZSBzdGVwcyBvbiB0aGUgb3V0cHV0RWxlbWVudCB0byBtYWtlIGl0IGF2YWlsYWJsZSBmb3IgdGhlIG5leHQgY2FsbAogIC8vIHRvIHVwbG9hZEZpbGVzQ29udGludWUgZnJvbSBQeXRob24uCiAgb3V0cHV0RWxlbWVudC5zdGVwcyA9IHN0ZXBzOwoKICByZXR1cm4gX3VwbG9hZEZpbGVzQ29udGludWUob3V0cHV0SWQpOwp9CgovLyBUaGlzIGlzIHJvdWdobHkgYW4gYXN5bmMgZ2VuZXJhdG9yIChub3Qgc3VwcG9ydGVkIGluIHRoZSBicm93c2VyIHlldCksCi8vIHdoZXJlIHRoZXJlIGFyZSBtdWx0aXBsZSBhc3luY2hyb25vdXMgc3RlcHMgYW5kIHRoZSBQeXRob24gc2lkZSBpcyBnb2luZwovLyB0byBwb2xsIGZvciBjb21wbGV0aW9uIG9mIGVhY2ggc3RlcC4KLy8gVGhpcyB1c2VzIGEgUHJvbWlzZSB0byBibG9jayB0aGUgcHl0aG9uIHNpZGUgb24gY29tcGxldGlvbiBvZiBlYWNoIHN0ZXAsCi8vIHRoZW4gcGFzc2VzIHRoZSByZXN1bHQgb2YgdGhlIHByZXZpb3VzIHN0ZXAgYXMgdGhlIGlucHV0IHRvIHRoZSBuZXh0IHN0ZXAuCmZ1bmN0aW9uIF91cGxvYWRGaWxlc0NvbnRpbnVlKG91dHB1dElkKSB7CiAgY29uc3Qgb3V0cHV0RWxlbWVudCA9IGRvY3VtZW50LmdldEVsZW1lbnRCeUlkKG91dHB1dElkKTsKICBjb25zdCBzdGVwcyA9IG91dHB1dEVsZW1lbnQuc3RlcHM7CgogIGNvbnN0IG5leHQgPSBzdGVwcy5uZXh0KG91dHB1dEVsZW1lbnQubGFzdFByb21pc2VWYWx1ZSk7CiAgcmV0dXJuIFByb21pc2UucmVzb2x2ZShuZXh0LnZhbHVlLnByb21pc2UpLnRoZW4oKHZhbHVlKSA9PiB7CiAgICAvLyBDYWNoZSB0aGUgbGFzdCBwcm9taXNlIHZhbHVlIHRvIG1ha2UgaXQgYXZhaWxhYmxlIHRvIHRoZSBuZXh0CiAgICAvLyBzdGVwIG9mIHRoZSBnZW5lcmF0b3IuCiAgICBvdXRwdXRFbGVtZW50Lmxhc3RQcm9taXNlVmFsdWUgPSB2YWx1ZTsKICAgIHJldHVybiBuZXh0LnZhbHVlLnJlc3BvbnNlOwogIH0pOwp9CgovKioKICogR2VuZXJhdG9yIGZ1bmN0aW9uIHdoaWNoIGlzIGNhbGxlZCBiZXR3ZWVuIGVhY2ggYXN5bmMgc3RlcCBvZiB0aGUgdXBsb2FkCiAqIHByb2Nlc3MuCiAqIEBwYXJhbSB7c3RyaW5nfSBpbnB1dElkIEVsZW1lbnQgSUQgb2YgdGhlIGlucHV0IGZpbGUgcGlja2VyIGVsZW1lbnQuCiAqIEBwYXJhbSB7c3RyaW5nfSBvdXRwdXRJZCBFbGVtZW50IElEIG9mIHRoZSBvdXRwdXQgZGlzcGxheS4KICogQHJldHVybiB7IUl0ZXJhYmxlPCFPYmplY3Q+fSBJdGVyYWJsZSBvZiBuZXh0IHN0ZXBzLgogKi8KZnVuY3Rpb24qIHVwbG9hZEZpbGVzU3RlcChpbnB1dElkLCBvdXRwdXRJZCkgewogIGNvbnN0IGlucHV0RWxlbWVudCA9IGRvY3VtZW50LmdldEVsZW1lbnRCeUlkKGlucHV0SWQpOwogIGlucHV0RWxlbWVudC5kaXNhYmxlZCA9IGZhbHNlOwoKICBjb25zdCBvdXRwdXRFbGVtZW50ID0gZG9jdW1lbnQuZ2V0RWxlbWVudEJ5SWQob3V0cHV0SWQpOwogIG91dHB1dEVsZW1lbnQuaW5uZXJIVE1MID0gJyc7CgogIGNvbnN0IHBpY2tlZFByb21pc2UgPSBuZXcgUHJvbWlzZSgocmVzb2x2ZSkgPT4gewogICAgaW5wdXRFbGVtZW50LmFkZEV2ZW50TGlzdGVuZXIoJ2NoYW5nZScsIChlKSA9PiB7CiAgICAgIHJlc29sdmUoZS50YXJnZXQuZmlsZXMpOwogICAgfSk7CiAgfSk7CgogIGNvbnN0IGNhbmNlbCA9IGRvY3VtZW50LmNyZWF0ZUVsZW1lbnQoJ2J1dHRvbicpOwogIGlucHV0RWxlbWVudC5wYXJlbnRFbGVtZW50LmFwcGVuZENoaWxkKGNhbmNlbCk7CiAgY2FuY2VsLnRleHRDb250ZW50ID0gJ0NhbmNlbCB1cGxvYWQnOwogIGNvbnN0IGNhbmNlbFByb21pc2UgPSBuZXcgUHJvbWlzZSgocmVzb2x2ZSkgPT4gewogICAgY2FuY2VsLm9uY2xpY2sgPSAoKSA9PiB7CiAgICAgIHJlc29sdmUobnVsbCk7CiAgICB9OwogIH0pOwoKICAvLyBXYWl0IGZvciB0aGUgdXNlciB0byBwaWNrIHRoZSBmaWxlcy4KICBjb25zdCBmaWxlcyA9IHlpZWxkIHsKICAgIHByb21pc2U6IFByb21pc2UucmFjZShbcGlja2VkUHJvbWlzZSwgY2FuY2VsUHJvbWlzZV0pLAogICAgcmVzcG9uc2U6IHsKICAgICAgYWN0aW9uOiAnc3RhcnRpbmcnLAogICAgfQogIH07CgogIGNhbmNlbC5yZW1vdmUoKTsKCiAgLy8gRGlzYWJsZSB0aGUgaW5wdXQgZWxlbWVudCBzaW5jZSBmdXJ0aGVyIHBpY2tzIGFyZSBub3QgYWxsb3dlZC4KICBpbnB1dEVsZW1lbnQuZGlzYWJsZWQgPSB0cnVlOwoKICBpZiAoIWZpbGVzKSB7CiAgICByZXR1cm4gewogICAgICByZXNwb25zZTogewogICAgICAgIGFjdGlvbjogJ2NvbXBsZXRlJywKICAgICAgfQogICAgfTsKICB9CgogIGZvciAoY29uc3QgZmlsZSBvZiBmaWxlcykgewogICAgY29uc3QgbGkgPSBkb2N1bWVudC5jcmVhdGVFbGVtZW50KCdsaScpOwogICAgbGkuYXBwZW5kKHNwYW4oZmlsZS5uYW1lLCB7Zm9udFdlaWdodDogJ2JvbGQnfSkpOwogICAgbGkuYXBwZW5kKHNwYW4oCiAgICAgICAgYCgke2ZpbGUudHlwZSB8fCAnbi9hJ30pIC0gJHtmaWxlLnNpemV9IGJ5dGVzLCBgICsKICAgICAgICBgbGFzdCBtb2RpZmllZDogJHsKICAgICAgICAgICAgZmlsZS5sYXN0TW9kaWZpZWREYXRlID8gZmlsZS5sYXN0TW9kaWZpZWREYXRlLnRvTG9jYWxlRGF0ZVN0cmluZygpIDoKICAgICAgICAgICAgICAgICAgICAgICAgICAgICAgICAgICAgJ24vYSd9IC0gYCkpOwogICAgY29uc3QgcGVyY2VudCA9IHNwYW4oJzAlIGRvbmUnKTsKICAgIGxpLmFwcGVuZENoaWxkKHBlcmNlbnQpOwoKICAgIG91dHB1dEVsZW1lbnQuYXBwZW5kQ2hpbGQobGkpOwoKICAgIGNvbnN0IGZpbGVEYXRhUHJvbWlzZSA9IG5ldyBQcm9taXNlKChyZXNvbHZlKSA9PiB7CiAgICAgIGNvbnN0IHJlYWRlciA9IG5ldyBGaWxlUmVhZGVyKCk7CiAgICAgIHJlYWRlci5vbmxvYWQgPSAoZSkgPT4gewogICAgICAgIHJlc29sdmUoZS50YXJnZXQucmVzdWx0KTsKICAgICAgfTsKICAgICAgcmVhZGVyLnJlYWRBc0FycmF5QnVmZmVyKGZpbGUpOwogICAgfSk7CiAgICAvLyBXYWl0IGZvciB0aGUgZGF0YSB0byBiZSByZWFkeS4KICAgIGxldCBmaWxlRGF0YSA9IHlpZWxkIHsKICAgICAgcHJvbWlzZTogZmlsZURhdGFQcm9taXNlLAogICAgICByZXNwb25zZTogewogICAgICAgIGFjdGlvbjogJ2NvbnRpbnVlJywKICAgICAgfQogICAgfTsKCiAgICAvLyBVc2UgYSBjaHVua2VkIHNlbmRpbmcgdG8gYXZvaWQgbWVzc2FnZSBzaXplIGxpbWl0cy4gU2VlIGIvNjIxMTU2NjAuCiAgICBsZXQgcG9zaXRpb24gPSAwOwogICAgZG8gewogICAgICBjb25zdCBsZW5ndGggPSBNYXRoLm1pbihmaWxlRGF0YS5ieXRlTGVuZ3RoIC0gcG9zaXRpb24sIE1BWF9QQVlMT0FEX1NJWkUpOwogICAgICBjb25zdCBjaHVuayA9IG5ldyBVaW50OEFycmF5KGZpbGVEYXRhLCBwb3NpdGlvbiwgbGVuZ3RoKTsKICAgICAgcG9zaXRpb24gKz0gbGVuZ3RoOwoKICAgICAgY29uc3QgYmFzZTY0ID0gYnRvYShTdHJpbmcuZnJvbUNoYXJDb2RlLmFwcGx5KG51bGwsIGNodW5rKSk7CiAgICAgIHlpZWxkIHsKICAgICAgICByZXNwb25zZTogewogICAgICAgICAgYWN0aW9uOiAnYXBwZW5kJywKICAgICAgICAgIGZpbGU6IGZpbGUubmFtZSwKICAgICAgICAgIGRhdGE6IGJhc2U2NCwKICAgICAgICB9LAogICAgICB9OwoKICAgICAgbGV0IHBlcmNlbnREb25lID0gZmlsZURhdGEuYnl0ZUxlbmd0aCA9PT0gMCA/CiAgICAgICAgICAxMDAgOgogICAgICAgICAgTWF0aC5yb3VuZCgocG9zaXRpb24gLyBmaWxlRGF0YS5ieXRlTGVuZ3RoKSAqIDEwMCk7CiAgICAgIHBlcmNlbnQudGV4dENvbnRlbnQgPSBgJHtwZXJjZW50RG9uZX0lIGRvbmVgOwoKICAgIH0gd2hpbGUgKHBvc2l0aW9uIDwgZmlsZURhdGEuYnl0ZUxlbmd0aCk7CiAgfQoKICAvLyBBbGwgZG9uZS4KICB5aWVsZCB7CiAgICByZXNwb25zZTogewogICAgICBhY3Rpb246ICdjb21wbGV0ZScsCiAgICB9CiAgfTsKfQoKc2NvcGUuZ29vZ2xlID0gc2NvcGUuZ29vZ2xlIHx8IHt9OwpzY29wZS5nb29nbGUuY29sYWIgPSBzY29wZS5nb29nbGUuY29sYWIgfHwge307CnNjb3BlLmdvb2dsZS5jb2xhYi5fZmlsZXMgPSB7CiAgX3VwbG9hZEZpbGVzLAogIF91cGxvYWRGaWxlc0NvbnRpbnVlLAp9Owp9KShzZWxmKTsK",
       "headers": [
        [
         "content-type",
         "application/javascript"
        ]
       ],
       "ok": true,
       "status": 200,
       "status_text": ""
      }
     }
    },
    "executionInfo": {
     "elapsed": 7582,
     "status": "ok",
     "timestamp": 1659937111265,
     "user": {
      "displayName": "小宮寛季",
      "userId": "09825774445954048534"
     },
     "user_tz": -540
    },
    "id": "J1OHBDYr9SK5",
    "outputId": "fbd7ec08-b39d-4e47-c9af-d6cc1be667e2"
   },
   "outputs": [
    {
     "name": "stdout",
     "output_type": "stream",
     "text": [
      "Google Colab. 上での実行です\n",
      "「ファイルを選択」から、notebook/commonフォルダのutil.pyを選択し、アップロードしてください\n",
      "===========\n"
     ]
    },
    {
     "data": {
      "text/html": [
       "\n",
       "     <input type=\"file\" id=\"files-d2b0e866-bc4b-4a71-8b23-70678d127c00\" name=\"files[]\" multiple disabled\n",
       "        style=\"border:none\" />\n",
       "     <output id=\"result-d2b0e866-bc4b-4a71-8b23-70678d127c00\">\n",
       "      Upload widget is only available when the cell has been executed in the\n",
       "      current browser session. Please rerun this cell to enable.\n",
       "      </output>\n",
       "      <script src=\"/nbextensions/google.colab/files.js\"></script> "
      ],
      "text/plain": [
       "<IPython.core.display.HTML object>"
      ]
     },
     "metadata": {},
     "output_type": "display_data"
    },
    {
     "name": "stdout",
     "output_type": "stream",
     "text": [
      "Saving util.py to util.py\n"
     ]
    }
   ],
   "source": [
    "import numpy as np\n",
    "import sys\n",
    "\n",
    "try:\n",
    "    from google.colab import files\n",
    "    print('Google Colab. 上での実行です')\n",
    "    print('「ファイルを選択」から、notebook/commonフォルダのutil.pyを選択し、アップロードしてください')\n",
    "    print('===========')\n",
    "    files.upload()\n",
    "    !mkdir common\n",
    "    !mv *.py ./common\n",
    "except:\n",
    "    print('ローカル環境での実行です')\n",
    "\n",
    "from common.util import im2col, col2im"
   ]
  },
  {
   "cell_type": "markdown",
   "metadata": {
    "id": "uXJ7AFE89QOn"
   },
   "source": [
    "### [演習]\n",
    "* 以下のMaxPoolingクラスを完成させましょう"
   ]
  },
  {
   "cell_type": "code",
   "execution_count": null,
   "metadata": {
    "colab": {
     "base_uri": "https://localhost:8080/"
    },
    "executionInfo": {
     "elapsed": 338,
     "status": "ok",
     "timestamp": 1659937113494,
     "user": {
      "displayName": "小宮寛季",
      "userId": "09825774445954048534"
     },
     "user_tz": -540
    },
    "id": "TUrU8Wkk9QOo",
    "outputId": "a0940b88-1428-4847-9117-039f9d5d2bc4"
   },
   "outputs": [
    {
     "name": "stdout",
     "output_type": "stream",
     "text": [
      "inf\n",
      "[[[[ 0.40953677 -0.15629751]\n",
      "   [ 0.90671659  1.4708228 ]]\n",
      "\n",
      "  [[-0.78231969 -0.03900075]\n",
      "   [ 0.62600889 -0.3533949 ]]\n",
      "\n",
      "  [[ 0.64671077 -1.81613517]\n",
      "   [-1.18889534  0.32862955]]]\n",
      "\n",
      "\n",
      " [[[-0.58501615 -1.25677486]\n",
      "   [ 0.3547537   0.72002483]]\n",
      "\n",
      "  [[ 0.32962806  1.97143429]\n",
      "   [ 2.09822842  1.78054752]]\n",
      "\n",
      "  [[-0.58331142 -0.8066802 ]\n",
      "   [ 0.88601692  0.37915594]]]]\n",
      "\n",
      "[ 0.40953677 -0.15629751  0.90671659  1.4708228  -0.78231969 -0.03900075\n",
      "  0.62600889 -0.3533949   0.64671077 -1.81613517 -1.18889534  0.32862955\n",
      " -0.58501615 -1.25677486  0.3547537   0.72002483  0.32962806  1.97143429\n",
      "  2.09822842  1.78054752 -0.58331142 -0.8066802   0.88601692  0.37915594]\n",
      "\n",
      "x= [[1. 0. 0. 0. 0. 0. 0. 0. 0. 0.]\n",
      " [0. 0. 0. 0. 0. 0. 0. 0. 0. 0.]\n",
      " [0. 0. 0. 0. 0. 0. 0. 0. 0. 0.]\n",
      " [0. 1. 0. 0. 0. 0. 0. 0. 0. 0.]\n",
      " [0. 0. 0. 0. 0. 0. 0. 0. 0. 0.]\n",
      " [0. 0. 0. 0. 0. 1. 0. 0. 0. 0.]\n",
      " [0. 0. 0. 0. 0. 0. 0. 0. 0. 0.]\n",
      " [0. 0. 0. 0. 0. 1. 0. 0. 0. 0.]\n",
      " [0. 0. 0. 0. 0. 0. 0. 0. 0. 0.]\n",
      " [0. 0. 0. 0. 0. 0. 0. 0. 0. 1.]]\n"
     ]
    }
   ],
   "source": [
    "# ヒント\n",
    "\n",
    "# 無限大\n",
    "print(np.inf)\n",
    "\n",
    "# flattenの使い方\n",
    "dout =  np.random.randn(2, 3, 2, 2)\n",
    "print(dout)\n",
    "print()\n",
    "print(dout.flatten())\n",
    "print()\n",
    "\n",
    "# 特定のインデックスの場所に代入する方法\n",
    "x = np.zeros((10, 10)) \n",
    "r = np.array([0,3,5,7,9])\n",
    "c = np.array([0,1,5,5,9])\n",
    "x[r,c] = 1\n",
    "print(\"x=\", x)\n"
   ]
  },
  {
   "cell_type": "code",
   "execution_count": null,
   "metadata": {
    "id": "dNcvUhM59QOp"
   },
   "outputs": [],
   "source": [
    "class MaxPooling:\n",
    "    def __init__(self, pool_h, pool_w, stride=1, pad=0):\n",
    "        \n",
    "        self.pool_h = pool_h # プーリングを適応する領域の高さ\n",
    "        self.pool_w = pool_w # プーリングを適応する領域の幅\n",
    "        self.stride = stride # ストライド数\n",
    "        self.pad = pad # パディング数\n",
    "\n",
    "        # インスタンス変数の宣言\n",
    "        self.x = None\n",
    "        self.arg_max = None\n",
    "        self.col = None\n",
    "        self.dcol = None\n",
    "        \n",
    "            \n",
    "    def forward(self, x):\n",
    "        \"\"\"\n",
    "        順伝播計算\n",
    "        x : 入力(配列形状=(データ数, チャンネル数, 高さ, 幅))\n",
    "        \"\"\"        \n",
    "        N, C, H, W = x.shape\n",
    "        \n",
    "        # 出力サイズ\n",
    "        out_h = (H  + 2*self.pad - self.pool_h) // self.stride + 1 # 出力の高さ(端数は切り捨てる)\n",
    "        out_w = (W + 2*self.pad - self.pool_w) // self.stride + 1# 出力の幅(端数は切り捨てる)    \n",
    "        \n",
    "        # プーリング演算を効率的に行えるようにするため、2次元配列に変形する\n",
    "        # パディングする値は、マイナスの無限大にしておく\n",
    "        col = im2col(x, self.pool_h, self.pool_w, self.stride, self.pad, constant_values=-np.inf)\n",
    "        \n",
    "        # チャンネル方向のデータが横に並んでいるので、縦に並べ替える\n",
    "        # 変形後のcolの配列形状は、(N*out_h*out_w*C, pool_h*pool_w)になる \n",
    "        col = col.reshape(-1, self.pool_h*self.pool_w)\n",
    "\n",
    "        # 最大値のインデックスを求める\n",
    "        # この結果は、逆伝播計算時に用いる\n",
    "        arg_max = np.argmax(col, axis=1)\n",
    "        \n",
    "        # 最大値を求める\n",
    "        out = np.max(col, axis=1)\n",
    "        \n",
    "        # 画像形式に戻して、チャンネルの軸を2番目に移動する\n",
    "        out = out.reshape(N, out_h, out_w, C).transpose(0, 3, 1, 2)\n",
    "\n",
    "        self.x = x\n",
    "        self.col = col\n",
    "        self.arg_max = arg_max\n",
    "\n",
    "        return out\n",
    "\n",
    "    def backward(self, dout):\n",
    "        \"\"\"\n",
    "        逆伝播計算\n",
    "        マックスプーリングでは、順伝播計算時に最大値となった場所だけに勾配を伝える\n",
    "        順伝播計算時に最大値となった場所は、self.arg_maxに保持されている        \n",
    "        dout : 出力層側から伝わってきた勾配\n",
    "        return : 入力層側へ伝える勾配\n",
    "        \"\"\"        \n",
    "        \n",
    "        # doutのチャンネル数軸を4番目に移動させる\n",
    "        dout = dout.transpose(0, 2, 3, 1)\n",
    "        \n",
    "        # プーリング適応領域の要素数(プーリング適応領域の高さ × プーリング適応領域の幅)\n",
    "        pool_size = self.pool_h * self.pool_w\n",
    "        \n",
    "        # 勾配を入れる配列を初期化する\n",
    "        # dcolの配列形状 : (doutの全要素数, プーリング適応領域の要素数) \n",
    "        # doutの全要素数は、dout.size で取得できる\n",
    "        dcol = np.zeros((dout.size, pool_size))\n",
    "        \n",
    "        # 順伝播計算時に最大値となった場所に、doutを配置する\n",
    "        # dout.flatten()でdoutを1次元配列に変形できる\n",
    "        dcol[np.arange(dcol.shape[0]), self.arg_max] = dout.flatten()\n",
    "        \n",
    "        # 勾配を4次元配列(データ数, チャンネル数, 高さ, 幅)に変形する\n",
    "        dx = col2im(dcol, self.x.shape, self.pool_h, self.pool_w, self.stride, self.pad, is_backward=True)\n",
    "        \n",
    "        self.dcol = dcol # 結果を確認するために保持しておく\n",
    "        \n",
    "        return dx"
   ]
  },
  {
   "cell_type": "code",
   "execution_count": null,
   "metadata": {
    "colab": {
     "base_uri": "https://localhost:8080/"
    },
    "executionInfo": {
     "elapsed": 304,
     "status": "ok",
     "timestamp": 1659937120628,
     "user": {
      "displayName": "小宮寛季",
      "userId": "09825774445954048534"
     },
     "user_tz": -540
    },
    "id": "3CKrreYh9QOr",
    "outputId": "1e15519e-23b7-4f5f-b0c7-0d125bec1299"
   },
   "outputs": [
    {
     "name": "stdout",
     "output_type": "stream",
     "text": [
      "順伝播計算\n",
      "x=\n",
      "[[[[-1.18 -0.13]\n",
      "   [ 0.44 -1.62]]]]\n",
      "col=\n",
      "[[ -inf  -inf  -inf -1.18]\n",
      " [ -inf  -inf -1.18 -0.13]\n",
      " [ -inf  -inf -0.13  -inf]\n",
      " [ -inf -1.18  -inf  0.44]\n",
      " [-1.18 -0.13  0.44 -1.62]\n",
      " [-0.13  -inf -1.62  -inf]\n",
      " [ -inf  0.44  -inf  -inf]\n",
      " [ 0.44 -1.62  -inf  -inf]\n",
      " [-1.62  -inf  -inf  -inf]]\n",
      "out=\n",
      "[[[[-1.18 -0.13 -0.13]\n",
      "   [ 0.44  0.44 -0.13]\n",
      "   [ 0.44  0.44 -1.62]]]]\n",
      "\n",
      "arg_max=\n",
      "[3 3 2 3 2 0 1 0 0]\n",
      "\n",
      "\n",
      "逆伝播計算\n",
      "dout=\n",
      "[[[[ 0.09  0.59  0.52]\n",
      "   [ 0.19  1.25 -1.15]\n",
      "   [-0.32  0.56  1.58]]]]\n",
      "dcol=\n",
      "[[ 0.    0.    0.    0.09]\n",
      " [ 0.    0.    0.    0.59]\n",
      " [ 0.    0.    0.52  0.  ]\n",
      " [ 0.    0.    0.    0.19]\n",
      " [ 0.    0.    1.25  0.  ]\n",
      " [-1.15  0.    0.    0.  ]\n",
      " [ 0.   -0.32  0.    0.  ]\n",
      " [ 0.56  0.    0.    0.  ]\n",
      " [ 1.58  0.    0.    0.  ]]\n",
      "dx=\n",
      "[[[[ 0.09 -0.04]\n",
      "   [ 1.69  1.58]]]]\n",
      "\n"
     ]
    }
   ],
   "source": [
    "# # 動作確認 条件1\n",
    "# pool_h = 3\n",
    "# pool_w = 3\n",
    "# N = 2\n",
    "# stride = 3\n",
    "# pad = 0\n",
    "# channel = 1\n",
    "# input_size = 9\n",
    "\n",
    "# 動作確認 条件2\n",
    "pool_h = 2\n",
    "pool_w = 2\n",
    "N = 1\n",
    "stride = 1\n",
    "pad = 1\n",
    "channel = 1\n",
    "input_size = 2\n",
    "\n",
    "# MaxPoolingクラスのインスタンスを生成\n",
    "mp = MaxPooling(pool_h, pool_w, stride=stride, pad=pad)\n",
    "print(\"順伝播計算\")\n",
    "\n",
    "x =  np.random.randn(N, channel, input_size, input_size)\n",
    "print(\"x=\")\n",
    "print(x.round(2))\n",
    "out = mp.forward(x)\n",
    "print(\"col=\")\n",
    "print(mp.col.round(2))\n",
    "print(\"out=\")\n",
    "print(out.round(2))\n",
    "print()\n",
    "print(\"arg_max=\")\n",
    "print(mp.arg_max)\n",
    "print()\n",
    "print()\n",
    "\n",
    "print(\"逆伝播計算\")\n",
    "out_h = (input_size + 2*pad - pool_h) // stride + 1 # 出力の高さ\n",
    "out_w =(input_size + 2*pad - pool_w) // stride + 1# 出力の幅\n",
    "dout =  np.random.randn(N, channel, out_h, out_w)\n",
    "print(\"dout=\")\n",
    "print(dout.round(2))\n",
    "dx = mp.backward(dout)\n",
    "print(\"dcol=\")\n",
    "print(mp.dcol.round(2))\n",
    "print(\"dx=\")\n",
    "print(dx.round(2))\n",
    "print()\n"
   ]
  },
  {
   "cell_type": "code",
   "execution_count": null,
   "metadata": {
    "id": "RFxvUWHH9QOs"
   },
   "outputs": [],
   "source": []
  }
 ],
 "metadata": {
  "colab": {
   "collapsed_sections": [],
   "name": "4_6_maxpooling_layer.ipynb",
   "provenance": []
  },
  "kernelspec": {
   "display_name": "Python 3 (ipykernel)",
   "language": "python",
   "name": "python3"
  },
  "language_info": {
   "codemirror_mode": {
    "name": "ipython",
    "version": 3
   },
   "file_extension": ".py",
   "mimetype": "text/x-python",
   "name": "python",
   "nbconvert_exporter": "python",
   "pygments_lexer": "ipython3",
   "version": "3.10.6"
  }
 },
 "nbformat": 4,
 "nbformat_minor": 4
}
