{
 "cells": [
  {
   "cell_type": "markdown",
   "metadata": {
    "id": "TR6tt97Htgf9"
   },
   "source": [
    "# TimeRNNレイヤを実装する\n",
    "TimeRNNレイヤは、RNNレイヤを時間方向に結合していくレイヤである"
   ]
  },
  {
   "cell_type": "code",
   "execution_count": 5,
   "metadata": {
    "colab": {
     "base_uri": "https://localhost:8080/",
     "height": 225,
     "resources": {
      "http://localhost:8080/nbextensions/google.colab/files.js": {
       "data": "Ly8gQ29weXJpZ2h0IDIwMTcgR29vZ2xlIExMQwovLwovLyBMaWNlbnNlZCB1bmRlciB0aGUgQXBhY2hlIExpY2Vuc2UsIFZlcnNpb24gMi4wICh0aGUgIkxpY2Vuc2UiKTsKLy8geW91IG1heSBub3QgdXNlIHRoaXMgZmlsZSBleGNlcHQgaW4gY29tcGxpYW5jZSB3aXRoIHRoZSBMaWNlbnNlLgovLyBZb3UgbWF5IG9idGFpbiBhIGNvcHkgb2YgdGhlIExpY2Vuc2UgYXQKLy8KLy8gICAgICBodHRwOi8vd3d3LmFwYWNoZS5vcmcvbGljZW5zZXMvTElDRU5TRS0yLjAKLy8KLy8gVW5sZXNzIHJlcXVpcmVkIGJ5IGFwcGxpY2FibGUgbGF3IG9yIGFncmVlZCB0byBpbiB3cml0aW5nLCBzb2Z0d2FyZQovLyBkaXN0cmlidXRlZCB1bmRlciB0aGUgTGljZW5zZSBpcyBkaXN0cmlidXRlZCBvbiBhbiAiQVMgSVMiIEJBU0lTLAovLyBXSVRIT1VUIFdBUlJBTlRJRVMgT1IgQ09ORElUSU9OUyBPRiBBTlkgS0lORCwgZWl0aGVyIGV4cHJlc3Mgb3IgaW1wbGllZC4KLy8gU2VlIHRoZSBMaWNlbnNlIGZvciB0aGUgc3BlY2lmaWMgbGFuZ3VhZ2UgZ292ZXJuaW5nIHBlcm1pc3Npb25zIGFuZAovLyBsaW1pdGF0aW9ucyB1bmRlciB0aGUgTGljZW5zZS4KCi8qKgogKiBAZmlsZW92ZXJ2aWV3IEhlbHBlcnMgZm9yIGdvb2dsZS5jb2xhYiBQeXRob24gbW9kdWxlLgogKi8KKGZ1bmN0aW9uKHNjb3BlKSB7CmZ1bmN0aW9uIHNwYW4odGV4dCwgc3R5bGVBdHRyaWJ1dGVzID0ge30pIHsKICBjb25zdCBlbGVtZW50ID0gZG9jdW1lbnQuY3JlYXRlRWxlbWVudCgnc3BhbicpOwogIGVsZW1lbnQudGV4dENvbnRlbnQgPSB0ZXh0OwogIGZvciAoY29uc3Qga2V5IG9mIE9iamVjdC5rZXlzKHN0eWxlQXR0cmlidXRlcykpIHsKICAgIGVsZW1lbnQuc3R5bGVba2V5XSA9IHN0eWxlQXR0cmlidXRlc1trZXldOwogIH0KICByZXR1cm4gZWxlbWVudDsKfQoKLy8gTWF4IG51bWJlciBvZiBieXRlcyB3aGljaCB3aWxsIGJlIHVwbG9hZGVkIGF0IGEgdGltZS4KY29uc3QgTUFYX1BBWUxPQURfU0laRSA9IDEwMCAqIDEwMjQ7CgpmdW5jdGlvbiBfdXBsb2FkRmlsZXMoaW5wdXRJZCwgb3V0cHV0SWQpIHsKICBjb25zdCBzdGVwcyA9IHVwbG9hZEZpbGVzU3RlcChpbnB1dElkLCBvdXRwdXRJZCk7CiAgY29uc3Qgb3V0cHV0RWxlbWVudCA9IGRvY3VtZW50LmdldEVsZW1lbnRCeUlkKG91dHB1dElkKTsKICAvLyBDYWNoZSBzdGVwcyBvbiB0aGUgb3V0cHV0RWxlbWVudCB0byBtYWtlIGl0IGF2YWlsYWJsZSBmb3IgdGhlIG5leHQgY2FsbAogIC8vIHRvIHVwbG9hZEZpbGVzQ29udGludWUgZnJvbSBQeXRob24uCiAgb3V0cHV0RWxlbWVudC5zdGVwcyA9IHN0ZXBzOwoKICByZXR1cm4gX3VwbG9hZEZpbGVzQ29udGludWUob3V0cHV0SWQpOwp9CgovLyBUaGlzIGlzIHJvdWdobHkgYW4gYXN5bmMgZ2VuZXJhdG9yIChub3Qgc3VwcG9ydGVkIGluIHRoZSBicm93c2VyIHlldCksCi8vIHdoZXJlIHRoZXJlIGFyZSBtdWx0aXBsZSBhc3luY2hyb25vdXMgc3RlcHMgYW5kIHRoZSBQeXRob24gc2lkZSBpcyBnb2luZwovLyB0byBwb2xsIGZvciBjb21wbGV0aW9uIG9mIGVhY2ggc3RlcC4KLy8gVGhpcyB1c2VzIGEgUHJvbWlzZSB0byBibG9jayB0aGUgcHl0aG9uIHNpZGUgb24gY29tcGxldGlvbiBvZiBlYWNoIHN0ZXAsCi8vIHRoZW4gcGFzc2VzIHRoZSByZXN1bHQgb2YgdGhlIHByZXZpb3VzIHN0ZXAgYXMgdGhlIGlucHV0IHRvIHRoZSBuZXh0IHN0ZXAuCmZ1bmN0aW9uIF91cGxvYWRGaWxlc0NvbnRpbnVlKG91dHB1dElkKSB7CiAgY29uc3Qgb3V0cHV0RWxlbWVudCA9IGRvY3VtZW50LmdldEVsZW1lbnRCeUlkKG91dHB1dElkKTsKICBjb25zdCBzdGVwcyA9IG91dHB1dEVsZW1lbnQuc3RlcHM7CgogIGNvbnN0IG5leHQgPSBzdGVwcy5uZXh0KG91dHB1dEVsZW1lbnQubGFzdFByb21pc2VWYWx1ZSk7CiAgcmV0dXJuIFByb21pc2UucmVzb2x2ZShuZXh0LnZhbHVlLnByb21pc2UpLnRoZW4oKHZhbHVlKSA9PiB7CiAgICAvLyBDYWNoZSB0aGUgbGFzdCBwcm9taXNlIHZhbHVlIHRvIG1ha2UgaXQgYXZhaWxhYmxlIHRvIHRoZSBuZXh0CiAgICAvLyBzdGVwIG9mIHRoZSBnZW5lcmF0b3IuCiAgICBvdXRwdXRFbGVtZW50Lmxhc3RQcm9taXNlVmFsdWUgPSB2YWx1ZTsKICAgIHJldHVybiBuZXh0LnZhbHVlLnJlc3BvbnNlOwogIH0pOwp9CgovKioKICogR2VuZXJhdG9yIGZ1bmN0aW9uIHdoaWNoIGlzIGNhbGxlZCBiZXR3ZWVuIGVhY2ggYXN5bmMgc3RlcCBvZiB0aGUgdXBsb2FkCiAqIHByb2Nlc3MuCiAqIEBwYXJhbSB7c3RyaW5nfSBpbnB1dElkIEVsZW1lbnQgSUQgb2YgdGhlIGlucHV0IGZpbGUgcGlja2VyIGVsZW1lbnQuCiAqIEBwYXJhbSB7c3RyaW5nfSBvdXRwdXRJZCBFbGVtZW50IElEIG9mIHRoZSBvdXRwdXQgZGlzcGxheS4KICogQHJldHVybiB7IUl0ZXJhYmxlPCFPYmplY3Q+fSBJdGVyYWJsZSBvZiBuZXh0IHN0ZXBzLgogKi8KZnVuY3Rpb24qIHVwbG9hZEZpbGVzU3RlcChpbnB1dElkLCBvdXRwdXRJZCkgewogIGNvbnN0IGlucHV0RWxlbWVudCA9IGRvY3VtZW50LmdldEVsZW1lbnRCeUlkKGlucHV0SWQpOwogIGlucHV0RWxlbWVudC5kaXNhYmxlZCA9IGZhbHNlOwoKICBjb25zdCBvdXRwdXRFbGVtZW50ID0gZG9jdW1lbnQuZ2V0RWxlbWVudEJ5SWQob3V0cHV0SWQpOwogIG91dHB1dEVsZW1lbnQuaW5uZXJIVE1MID0gJyc7CgogIGNvbnN0IHBpY2tlZFByb21pc2UgPSBuZXcgUHJvbWlzZSgocmVzb2x2ZSkgPT4gewogICAgaW5wdXRFbGVtZW50LmFkZEV2ZW50TGlzdGVuZXIoJ2NoYW5nZScsIChlKSA9PiB7CiAgICAgIHJlc29sdmUoZS50YXJnZXQuZmlsZXMpOwogICAgfSk7CiAgfSk7CgogIGNvbnN0IGNhbmNlbCA9IGRvY3VtZW50LmNyZWF0ZUVsZW1lbnQoJ2J1dHRvbicpOwogIGlucHV0RWxlbWVudC5wYXJlbnRFbGVtZW50LmFwcGVuZENoaWxkKGNhbmNlbCk7CiAgY2FuY2VsLnRleHRDb250ZW50ID0gJ0NhbmNlbCB1cGxvYWQnOwogIGNvbnN0IGNhbmNlbFByb21pc2UgPSBuZXcgUHJvbWlzZSgocmVzb2x2ZSkgPT4gewogICAgY2FuY2VsLm9uY2xpY2sgPSAoKSA9PiB7CiAgICAgIHJlc29sdmUobnVsbCk7CiAgICB9OwogIH0pOwoKICAvLyBXYWl0IGZvciB0aGUgdXNlciB0byBwaWNrIHRoZSBmaWxlcy4KICBjb25zdCBmaWxlcyA9IHlpZWxkIHsKICAgIHByb21pc2U6IFByb21pc2UucmFjZShbcGlja2VkUHJvbWlzZSwgY2FuY2VsUHJvbWlzZV0pLAogICAgcmVzcG9uc2U6IHsKICAgICAgYWN0aW9uOiAnc3RhcnRpbmcnLAogICAgfQogIH07CgogIGNhbmNlbC5yZW1vdmUoKTsKCiAgLy8gRGlzYWJsZSB0aGUgaW5wdXQgZWxlbWVudCBzaW5jZSBmdXJ0aGVyIHBpY2tzIGFyZSBub3QgYWxsb3dlZC4KICBpbnB1dEVsZW1lbnQuZGlzYWJsZWQgPSB0cnVlOwoKICBpZiAoIWZpbGVzKSB7CiAgICByZXR1cm4gewogICAgICByZXNwb25zZTogewogICAgICAgIGFjdGlvbjogJ2NvbXBsZXRlJywKICAgICAgfQogICAgfTsKICB9CgogIGZvciAoY29uc3QgZmlsZSBvZiBmaWxlcykgewogICAgY29uc3QgbGkgPSBkb2N1bWVudC5jcmVhdGVFbGVtZW50KCdsaScpOwogICAgbGkuYXBwZW5kKHNwYW4oZmlsZS5uYW1lLCB7Zm9udFdlaWdodDogJ2JvbGQnfSkpOwogICAgbGkuYXBwZW5kKHNwYW4oCiAgICAgICAgYCgke2ZpbGUudHlwZSB8fCAnbi9hJ30pIC0gJHtmaWxlLnNpemV9IGJ5dGVzLCBgICsKICAgICAgICBgbGFzdCBtb2RpZmllZDogJHsKICAgICAgICAgICAgZmlsZS5sYXN0TW9kaWZpZWREYXRlID8gZmlsZS5sYXN0TW9kaWZpZWREYXRlLnRvTG9jYWxlRGF0ZVN0cmluZygpIDoKICAgICAgICAgICAgICAgICAgICAgICAgICAgICAgICAgICAgJ24vYSd9IC0gYCkpOwogICAgY29uc3QgcGVyY2VudCA9IHNwYW4oJzAlIGRvbmUnKTsKICAgIGxpLmFwcGVuZENoaWxkKHBlcmNlbnQpOwoKICAgIG91dHB1dEVsZW1lbnQuYXBwZW5kQ2hpbGQobGkpOwoKICAgIGNvbnN0IGZpbGVEYXRhUHJvbWlzZSA9IG5ldyBQcm9taXNlKChyZXNvbHZlKSA9PiB7CiAgICAgIGNvbnN0IHJlYWRlciA9IG5ldyBGaWxlUmVhZGVyKCk7CiAgICAgIHJlYWRlci5vbmxvYWQgPSAoZSkgPT4gewogICAgICAgIHJlc29sdmUoZS50YXJnZXQucmVzdWx0KTsKICAgICAgfTsKICAgICAgcmVhZGVyLnJlYWRBc0FycmF5QnVmZmVyKGZpbGUpOwogICAgfSk7CiAgICAvLyBXYWl0IGZvciB0aGUgZGF0YSB0byBiZSByZWFkeS4KICAgIGxldCBmaWxlRGF0YSA9IHlpZWxkIHsKICAgICAgcHJvbWlzZTogZmlsZURhdGFQcm9taXNlLAogICAgICByZXNwb25zZTogewogICAgICAgIGFjdGlvbjogJ2NvbnRpbnVlJywKICAgICAgfQogICAgfTsKCiAgICAvLyBVc2UgYSBjaHVua2VkIHNlbmRpbmcgdG8gYXZvaWQgbWVzc2FnZSBzaXplIGxpbWl0cy4gU2VlIGIvNjIxMTU2NjAuCiAgICBsZXQgcG9zaXRpb24gPSAwOwogICAgZG8gewogICAgICBjb25zdCBsZW5ndGggPSBNYXRoLm1pbihmaWxlRGF0YS5ieXRlTGVuZ3RoIC0gcG9zaXRpb24sIE1BWF9QQVlMT0FEX1NJWkUpOwogICAgICBjb25zdCBjaHVuayA9IG5ldyBVaW50OEFycmF5KGZpbGVEYXRhLCBwb3NpdGlvbiwgbGVuZ3RoKTsKICAgICAgcG9zaXRpb24gKz0gbGVuZ3RoOwoKICAgICAgY29uc3QgYmFzZTY0ID0gYnRvYShTdHJpbmcuZnJvbUNoYXJDb2RlLmFwcGx5KG51bGwsIGNodW5rKSk7CiAgICAgIHlpZWxkIHsKICAgICAgICByZXNwb25zZTogewogICAgICAgICAgYWN0aW9uOiAnYXBwZW5kJywKICAgICAgICAgIGZpbGU6IGZpbGUubmFtZSwKICAgICAgICAgIGRhdGE6IGJhc2U2NCwKICAgICAgICB9LAogICAgICB9OwoKICAgICAgbGV0IHBlcmNlbnREb25lID0gZmlsZURhdGEuYnl0ZUxlbmd0aCA9PT0gMCA/CiAgICAgICAgICAxMDAgOgogICAgICAgICAgTWF0aC5yb3VuZCgocG9zaXRpb24gLyBmaWxlRGF0YS5ieXRlTGVuZ3RoKSAqIDEwMCk7CiAgICAgIHBlcmNlbnQudGV4dENvbnRlbnQgPSBgJHtwZXJjZW50RG9uZX0lIGRvbmVgOwoKICAgIH0gd2hpbGUgKHBvc2l0aW9uIDwgZmlsZURhdGEuYnl0ZUxlbmd0aCk7CiAgfQoKICAvLyBBbGwgZG9uZS4KICB5aWVsZCB7CiAgICByZXNwb25zZTogewogICAgICBhY3Rpb246ICdjb21wbGV0ZScsCiAgICB9CiAgfTsKfQoKc2NvcGUuZ29vZ2xlID0gc2NvcGUuZ29vZ2xlIHx8IHt9OwpzY29wZS5nb29nbGUuY29sYWIgPSBzY29wZS5nb29nbGUuY29sYWIgfHwge307CnNjb3BlLmdvb2dsZS5jb2xhYi5fZmlsZXMgPSB7CiAgX3VwbG9hZEZpbGVzLAogIF91cGxvYWRGaWxlc0NvbnRpbnVlLAp9Owp9KShzZWxmKTsK",
       "headers": [
        [
         "content-type",
         "application/javascript"
        ]
       ],
       "ok": true,
       "status": 200,
       "status_text": ""
      }
     }
    },
    "executionInfo": {
     "elapsed": 13648,
     "status": "ok",
     "timestamp": 1659949869958,
     "user": {
      "displayName": "小宮寛季",
      "userId": "09825774445954048534"
     },
     "user_tz": -540
    },
    "id": "9huN3xJ6tigs",
    "outputId": "4169dc1c-d644-4d43-ebf1-6c4085c344b5"
   },
   "outputs": [
    {
     "name": "stdout",
     "output_type": "stream",
     "text": [
      "ローカル環境での実行です\n"
     ]
    }
   ],
   "source": [
    "import numpy as np\n",
    "\n",
    "try:\n",
    "    from google.colab import files\n",
    "    print('Google Colab. 上での実行です')\n",
    "    print('「ファイルを選択」から、notebook/commonフォルダのfunctions.py, layers.py, time_layers.pyを選択し、アップロードしてください')\n",
    "    print('===========')\n",
    "    files.upload()\n",
    "    !mkdir common\n",
    "    !mv *.py ./common\n",
    "except:\n",
    "    print('ローカル環境での実行です')\n",
    "\n",
    "\n",
    "from common.time_layers import RNN\n",
    "from common.functions import sigmoid"
   ]
  },
  {
   "cell_type": "markdown",
   "metadata": {
    "id": "2xRrcJuNtggH"
   },
   "source": [
    "### [演習]\n",
    "* 以下のTimeRNNレイヤのクラスを完成させましょう"
   ]
  },
  {
   "cell_type": "code",
   "execution_count": 6,
   "metadata": {
    "colab": {
     "base_uri": "https://localhost:8080/"
    },
    "executionInfo": {
     "elapsed": 470,
     "status": "ok",
     "timestamp": 1659949877281,
     "user": {
      "displayName": "小宮寛季",
      "userId": "09825774445954048534"
     },
     "user_tz": -540
    },
    "id": "8CUZkZTytggI",
    "outputId": "db4b2e5d-a118-4fe3-f172-f7a79c101268"
   },
   "outputs": [
    {
     "name": "stdout",
     "output_type": "stream",
     "text": [
      "a=1 b=2 c=3\n"
     ]
    }
   ],
   "source": [
    "# ヒント\n",
    "\n",
    "def test(a, b, c):\n",
    "    print(\"a=%s\"%a, \"b=%s\"%b, \"c=%s\"%c)\n",
    "    return\n",
    "\n",
    "params = [1,2,3]\n",
    "test(*params) # *を変数前につけると、各引数に展開される"
   ]
  },
  {
   "cell_type": "code",
   "execution_count": 7,
   "metadata": {
    "id": "MDkuaZQftggK"
   },
   "outputs": [],
   "source": [
    "class TimeRNN:\n",
    "    def __init__(self, Wx, Wh, b, stateful=False):\n",
    "        \"\"\"\n",
    "        Wx : 入力xにかかる重み\n",
    "        Wh : １時刻前のhにかかる重み\n",
    "        b : バイアス\n",
    "        stateful : 中間層の出力を次のミニバッチ に渡す場合はTrueにする\n",
    "        \"\"\"\n",
    "        # パラメータのリスト\n",
    "        self.params = [Wx, Wh, b]\n",
    "        \n",
    "        # 勾配のリスト\n",
    "        self.grads = [np.zeros_like(Wx), np.zeros_like(Wh), np.zeros_like(b)]\n",
    "        \n",
    "        self.layers = None\n",
    "        self.h, self.dh = None, None\n",
    "        self.stateful = stateful\n",
    "\n",
    "    def forward(self, xs):\n",
    "        \"\"\"\n",
    "        順伝播計算\n",
    "        xs : 配列形状は、(バッチサイズ、時間数、前層のノード数)\n",
    "        \"\"\"\n",
    "        Wx, Wh, b = self.params\n",
    "        N, T, D = xs.shape # バッチサイズ(N)、時間数(Time)、前層のノード数(Data)\n",
    "        D, H = Wx.shape # 入力層のノード数(Data)、中間層のノード数 (Hidden)\n",
    "        # Dが上記とかぶっているが、結局同じに値になるので問題はない\n",
    "        # 通常はalert関数を仕込んで、逆に違う値になる場合はエラーを吐くように実装する\n",
    "\n",
    "        self.layers = []\n",
    "        \n",
    "        # hsは、中間層の出力hを時間方向につなげたもの(series)\n",
    "        hs = np.empty((N, T, H))\n",
    "\n",
    "        # 中間層の出力hを初期化する（statefulでない場合、もしくはhに何も値が入っていない場合）\n",
    "        # 逆に、statefulである場合（stateful=true）、かつhに何か値が入っている場合は、初期化しない（値を引き継ぐ）\n",
    "        if not self.stateful or self.h is None:\n",
    "            self.h = np.zeros((N, H))\n",
    "\n",
    "        # 時間方向に計算を進める\n",
    "        for t in range(T):\n",
    "            \n",
    "            # RNNレイヤを定義する\n",
    "            layer = RNN(*self.params) # *を変数前につけると、各引数に展開される\n",
    "            \n",
    "            # 時刻tのデータをRNNレイヤに入力する\n",
    "            self.h = layer.forward(xs[:, t, :], self.h)\n",
    "            \n",
    "            # 中間層の出力hをhsに代入する\n",
    "            hs[:, t, :] = self.h\n",
    "            \n",
    "            # レイヤを追加する\n",
    "            self.layers.append(layer)\n",
    "\n",
    "        return hs\n",
    "\n",
    "    def backward(self, dhs):\n",
    "        \"\"\"\n",
    "        逆伝播計算\n",
    "        dhs : 各時刻における出力層からの勾配を格納した変数. 配列形状は(バッチ数、時間数、中間層のノード数)\n",
    "        \"\"\"\n",
    "        \n",
    "        Wx, Wh, b = self.params\n",
    "        N, T, H = dhs.shape # バッチサイズ、時間数、中間層のノード数\n",
    "        D, H = Wx.shape # 前層のノード数、　中間層のノード数\n",
    "\n",
    "        # dxsを初期化する. dxsは、各時刻におけるdxを格納する変数\n",
    "        dxs = np.empty((N, T, D)) # バッチ数、時間数、前層のノード数\n",
    "        \n",
    "        # dhの初期値\n",
    "        dh = 0\n",
    "        \n",
    "        # 勾配の初期値\n",
    "        grads = [0, 0, 0] #Wxの勾配、 Whの勾配、 bの勾配\n",
    "        \n",
    "        # 時間方向と逆向きに計算を進める\n",
    "        for t in reversed(range(T)):\n",
    "            \n",
    "            # RNNレイヤの呼び出し\n",
    "            layer = self.layers[t]\n",
    "            \n",
    "            # RNNレイヤの逆伝播計算\n",
    "            # RNNレイヤに入力される勾配は、2方向から来るので、2つの値を足す\n",
    "            dx, dh = layer.backward(dhs[:, t, :] + dh) \n",
    "\n",
    "            # dxをdxsに格納する\n",
    "            dxs[:, t, :] = dx\n",
    "\n",
    "            # Wxの勾配、 Whの勾配、 bの勾配、をそれぞれ足し合わせる\n",
    "            for i, grad in enumerate(layer.grads):\n",
    "                grads[i] += grad\n",
    "        \n",
    "        # Wxの勾配、 Whの勾配、 bの勾配、を保持しておく\n",
    "        for i, grad in enumerate(grads):\n",
    "            self.grads[i][:] = grad # 同じメモリ位置に代入\n",
    "            \n",
    "        # 最後の中間層のdhを保持しておく\n",
    "        self.dh = dh\n",
    "\n",
    "        return dxs"
   ]
  },
  {
   "cell_type": "code",
   "execution_count": 8,
   "metadata": {},
   "outputs": [
    {
     "name": "stdout",
     "output_type": "stream",
     "text": [
      "id of time_rnn.grads[0] 140648368768944\n",
      "\n"
     ]
    }
   ],
   "source": [
    "D = 1 # 前層のノード数\n",
    "H = 5 # 中間層のノード数\n",
    "Wx = np.random.randn(D, H)\n",
    "Wh = np.random.randn(H, H)\n",
    "b = np.zeros(H)\n",
    "\n",
    "# オブジェクトの生成\n",
    "time_rnn = TimeRNN(Wx, Wh, b)\n",
    "print(\"id of time_rnn.grads[0]\", id(time_rnn.grads[0]))\n",
    "print()\n"
   ]
  },
  {
   "cell_type": "code",
   "execution_count": 10,
   "metadata": {},
   "outputs": [
    {
     "name": "stdout",
     "output_type": "stream",
     "text": [
      "hs= [[[ 0.58781201 -0.00528815  0.03039984  0.03720471  0.44903646]\n",
      "  [ 0.01396011 -0.82290984  0.69254596  0.34451103 -0.93424384]\n",
      "  [ 0.94549392  0.96779251  0.87032055 -0.37880956  0.98971682]\n",
      "  [-0.87952054 -0.99560755  0.90158272  0.58194642 -0.99649668]\n",
      "  [-0.8271489   0.99685491  0.60059039 -0.69544924  0.83840687]]\n",
      "\n",
      " [[-0.13953053  0.00110143 -0.00633355 -0.00775243 -0.10036294]\n",
      "  [ 0.97831958  0.24622863 -0.09561192  0.04318699  0.96442708]\n",
      "  [-0.73762023 -0.98752921  0.75237138  0.47214694 -0.99900929]\n",
      "  [ 0.97284923  0.9958064   0.68456471 -0.48253154  0.99831269]\n",
      "  [ 0.95990296 -0.99618482  0.89474323  0.74776916 -0.63951471]]\n",
      "\n",
      " [[-0.85142569  0.00989128 -0.05681936 -0.06951151 -0.71842206]\n",
      "  [ 0.81691098  0.94289496 -0.84414755 -0.45539468  0.99804899]\n",
      "  [ 0.89688233 -0.99641578 -0.58601649  0.62275128 -0.79579572]\n",
      "  [ 0.99997894  0.64411006  0.66552282 -0.43137272  0.99915199]\n",
      "  [ 0.71643688 -0.99141749  0.95221851  0.81246492 -0.95544214]]\n",
      "\n",
      " [[ 0.75618365 -0.0077421   0.04449161  0.05444131  0.6093355 ]\n",
      "  [-0.72464133 -0.91065242  0.79285991  0.40362899 -0.99430017]\n",
      "  [ 0.97430144  0.99515295  0.68808227 -0.4425595   0.9986499 ]\n",
      "  [-0.99887092 -0.99602993  0.82433376  0.53278627 -0.99988008]\n",
      "  [-0.76781239  0.99765822  0.47736154 -0.66070168  0.90214862]]]\n",
      "\n"
     ]
    }
   ],
   "source": [
    "# 順伝播計算\n",
    "N = 4 # バッチサイズ\n",
    "T = 5 # 時間数\n",
    "xs = np.random.randn(N, T, D)\n",
    "hs = time_rnn.forward(xs)\n",
    "print(\"hs=\", hs)\n",
    "print()"
   ]
  },
  {
   "cell_type": "code",
   "execution_count": 11,
   "metadata": {
    "colab": {
     "base_uri": "https://localhost:8080/"
    },
    "executionInfo": {
     "elapsed": 452,
     "status": "ok",
     "timestamp": 1659949886006,
     "user": {
      "displayName": "小宮寛季",
      "userId": "09825774445954048534"
     },
     "user_tz": -540
    },
    "id": "8WmM-EA2tggM",
    "outputId": "1a186133-a4df-4fc7-ded2-c64d72e02c91"
   },
   "outputs": [
    {
     "name": "stdout",
     "output_type": "stream",
     "text": [
      "dxs= [[[ 0.90883178]\n",
      "  [-0.57511534]\n",
      "  [ 0.02384305]\n",
      "  [-0.04864235]\n",
      "  [-0.78269488]]\n",
      "\n",
      " [[-5.45144289]\n",
      "  [-0.21396392]\n",
      "  [-0.42340142]\n",
      "  [-0.11004912]\n",
      "  [-1.11015582]]\n",
      "\n",
      " [[ 1.89651852]\n",
      "  [ 0.5920902 ]\n",
      "  [ 1.85475658]\n",
      "  [ 0.19724699]\n",
      "  [ 0.59254477]]\n",
      "\n",
      " [[-0.52854374]\n",
      "  [-0.86790064]\n",
      "  [-0.146587  ]\n",
      "  [ 0.04372309]\n",
      "  [ 0.53879591]]]\n",
      "\n",
      "id of time_rnn.grads[0] 140648368768944\n",
      "\n"
     ]
    }
   ],
   "source": [
    "\n",
    "# 逆伝播計算\n",
    "dhs = np.random.randn(N, T, H)\n",
    "dxs = time_rnn.backward(dhs)\n",
    "print(\"dxs=\", dxs)\n",
    "print()\n",
    "\n",
    "print(\"id of time_rnn.grads[0]\", id(time_rnn.grads[0]))\n",
    "print()\n"
   ]
  },
  {
   "cell_type": "code",
   "execution_count": null,
   "metadata": {},
   "outputs": [],
   "source": []
  },
  {
   "cell_type": "code",
   "execution_count": null,
   "metadata": {},
   "outputs": [],
   "source": []
  }
 ],
 "metadata": {
  "colab": {
   "collapsed_sections": [],
   "name": "6_5_TimeRNN_layer.ipynb",
   "provenance": []
  },
  "kernelspec": {
   "display_name": "Python 3 (ipykernel)",
   "language": "python",
   "name": "python3"
  },
  "language_info": {
   "codemirror_mode": {
    "name": "ipython",
    "version": 3
   },
   "file_extension": ".py",
   "mimetype": "text/x-python",
   "name": "python",
   "nbconvert_exporter": "python",
   "pygments_lexer": "ipython3",
   "version": "3.10.6"
  }
 },
 "nbformat": 4,
 "nbformat_minor": 4
}
