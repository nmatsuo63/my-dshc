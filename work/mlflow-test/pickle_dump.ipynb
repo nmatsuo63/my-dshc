{
 "cells": [
  {
   "cell_type": "code",
   "execution_count": 1,
   "id": "faf2567b-750b-4b99-8279-b527b97d3b5f",
   "metadata": {},
   "outputs": [],
   "source": [
    "import pickle"
   ]
  },
  {
   "cell_type": "code",
   "execution_count": 2,
   "id": "5f4fbff0-d0ce-4960-905f-5c914aea8332",
   "metadata": {},
   "outputs": [],
   "source": [
    "class TestClass:\n",
    "    def __init__(self):\n",
    "        print('Initialized')\n",
    "    def test_print(self, a):\n",
    "        print(a)"
   ]
  },
  {
   "cell_type": "code",
   "execution_count": 3,
   "id": "e03b122b-1aa1-4716-b84e-6559f7ba636b",
   "metadata": {},
   "outputs": [
    {
     "name": "stdout",
     "output_type": "stream",
     "text": [
      "Initialized\n"
     ]
    }
   ],
   "source": [
    "tc1 = TestClass()"
   ]
  },
  {
   "cell_type": "code",
   "execution_count": 4,
   "id": "ebb498db-13d7-4cb9-98ce-481921e33175",
   "metadata": {},
   "outputs": [
    {
     "name": "stdout",
     "output_type": "stream",
     "text": [
      "Test\n"
     ]
    }
   ],
   "source": [
    "tc1.test_print('Test')"
   ]
  },
  {
   "cell_type": "code",
   "execution_count": 5,
   "id": "4983fa74-73ed-4a51-9bba-d5abb15d1cd6",
   "metadata": {},
   "outputs": [],
   "source": [
    "with open('tc1.pickle', 'wb') as f:\n",
    "    pickle.dump(tc1, f)"
   ]
  },
  {
   "cell_type": "code",
   "execution_count": null,
   "id": "7329a41a-144d-453c-aa79-90d3a32660dd",
   "metadata": {},
   "outputs": [],
   "source": []
  }
 ],
 "metadata": {
  "kernelspec": {
   "display_name": "Python 3 (ipykernel)",
   "language": "python",
   "name": "python3"
  },
  "language_info": {
   "codemirror_mode": {
    "name": "ipython",
    "version": 3
   },
   "file_extension": ".py",
   "mimetype": "text/x-python",
   "name": "python",
   "nbconvert_exporter": "python",
   "pygments_lexer": "ipython3",
   "version": "3.10.6"
  }
 },
 "nbformat": 4,
 "nbformat_minor": 5
}
