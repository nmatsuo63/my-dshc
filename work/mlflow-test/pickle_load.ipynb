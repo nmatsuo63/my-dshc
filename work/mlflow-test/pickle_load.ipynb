{
 "cells": [
  {
   "cell_type": "code",
   "execution_count": 1,
   "id": "71a89080-addd-4535-a32f-c47a3aec6665",
   "metadata": {},
   "outputs": [],
   "source": [
    "import pickle"
   ]
  },
  {
   "cell_type": "code",
   "execution_count": 5,
   "id": "b2ccb605-17cc-44e0-830a-8174316acddd",
   "metadata": {},
   "outputs": [],
   "source": [
    "# クラスの読み込みが必要\n",
    "class TestClass:\n",
    "    def __init__(self):\n",
    "        print('Initialized')\n",
    "    def test_print(self, a):\n",
    "        print(a)"
   ]
  },
  {
   "cell_type": "code",
   "execution_count": 3,
   "id": "d84f4dae-4b1d-45a8-8ad9-d147d8702cd0",
   "metadata": {},
   "outputs": [],
   "source": [
    "with open('tc1.pickle', 'rb') as f:\n",
    "    tc2 = pickle.load(f)"
   ]
  },
  {
   "cell_type": "code",
   "execution_count": 4,
   "id": "4c511580-718c-49e8-8c88-d6931a609ca7",
   "metadata": {},
   "outputs": [
    {
     "name": "stdout",
     "output_type": "stream",
     "text": [
      "100\n"
     ]
    }
   ],
   "source": [
    "tc2.test_print(100)"
   ]
  },
  {
   "cell_type": "code",
   "execution_count": null,
   "id": "e0a38e99-c881-4c4c-bc4f-db7c06738529",
   "metadata": {},
   "outputs": [],
   "source": []
  }
 ],
 "metadata": {
  "kernelspec": {
   "display_name": "Python 3 (ipykernel)",
   "language": "python",
   "name": "python3"
  },
  "language_info": {
   "codemirror_mode": {
    "name": "ipython",
    "version": 3
   },
   "file_extension": ".py",
   "mimetype": "text/x-python",
   "name": "python",
   "nbconvert_exporter": "python",
   "pygments_lexer": "ipython3",
   "version": "3.10.6"
  }
 },
 "nbformat": 4,
 "nbformat_minor": 5
}
