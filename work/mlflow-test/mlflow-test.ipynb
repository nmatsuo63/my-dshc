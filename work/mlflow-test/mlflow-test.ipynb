{
 "cells": [
  {
   "cell_type": "markdown",
   "metadata": {
    "id": "suXTNAk4G5kK"
   },
   "source": [
    "# 学習方法の例"
   ]
  },
  {
   "cell_type": "code",
   "execution_count": 1,
   "metadata": {
    "id": "EcSRey7kG5kN"
   },
   "outputs": [],
   "source": [
    "import numpy as np\n",
    "import pandas as pd\n",
    "import matplotlib.pyplot as plt\n",
    "from sklearn.model_selection import train_test_split\n",
    "import pickle"
   ]
  },
  {
   "cell_type": "code",
   "execution_count": 2,
   "metadata": {},
   "outputs": [],
   "source": [
    "import os\n",
    "import sqlite3\n",
    "import configparser\n",
    "import mlflow\n",
    "import mlflow.sklearn"
   ]
  },
  {
   "cell_type": "code",
   "execution_count": 3,
   "metadata": {},
   "outputs": [],
   "source": [
    "cfg = configparser.ConfigParser()\n",
    "cfg.read('./config.ini', encoding='utf-8')\n",
    "# 各種パスを指定\n",
    "DB_PATH = cfg['Path']['db_path']\n"
   ]
  },
  {
   "cell_type": "code",
   "execution_count": 4,
   "metadata": {},
   "outputs": [],
   "source": [
    "# !echo $DB_PATH"
   ]
  },
  {
   "cell_type": "code",
   "execution_count": 5,
   "metadata": {},
   "outputs": [],
   "source": [
    "# バックエンド用DBを作成\n",
    "os.makedirs(os.path.dirname(DB_PATH), exist_ok=True)  # 親ディレクトリなければ作成\n",
    "conn = sqlite3.connect(DB_PATH)  # バックエンド用DBを作成\n"
   ]
  },
  {
   "cell_type": "code",
   "execution_count": 6,
   "metadata": {},
   "outputs": [],
   "source": [
    "# !echo $DB_PATH"
   ]
  },
  {
   "cell_type": "code",
   "execution_count": 7,
   "metadata": {},
   "outputs": [],
   "source": [
    "# トラッキングサーバの場所を指定\n",
    "tracking_uri = f'sqlite:///{DB_PATH}'\n",
    "mlflow.set_tracking_uri(tracking_uri)\n"
   ]
  },
  {
   "cell_type": "code",
   "execution_count": 8,
   "metadata": {},
   "outputs": [],
   "source": [
    "# !echo $tracking_uri"
   ]
  },
  {
   "cell_type": "code",
   "execution_count": 9,
   "metadata": {},
   "outputs": [],
   "source": [
    "# !echo $ARTIFACT_LOCATION"
   ]
  },
  {
   "cell_type": "code",
   "execution_count": 10,
   "metadata": {},
   "outputs": [
    {
     "name": "stderr",
     "output_type": "stream",
     "text": [
      "2022/09/14 01:33:31 INFO mlflow.store.db.utils: Creating initial MLflow database tables...\n",
      "2022/09/14 01:33:31 INFO mlflow.store.db.utils: Updating database tables\n",
      "INFO  [alembic.runtime.migration] Context impl SQLiteImpl.\n",
      "INFO  [alembic.runtime.migration] Will assume non-transactional DDL.\n",
      "INFO  [alembic.runtime.migration] Running upgrade  -> 451aebb31d03, add metric step\n",
      "INFO  [alembic.runtime.migration] Running upgrade 451aebb31d03 -> 90e64c465722, migrate user column to tags\n",
      "INFO  [alembic.runtime.migration] Running upgrade 90e64c465722 -> 181f10493468, allow nulls for metric values\n",
      "INFO  [alembic.runtime.migration] Running upgrade 181f10493468 -> df50e92ffc5e, Add Experiment Tags Table\n",
      "INFO  [alembic.runtime.migration] Running upgrade df50e92ffc5e -> 7ac759974ad8, Update run tags with larger limit\n",
      "INFO  [alembic.runtime.migration] Running upgrade 7ac759974ad8 -> 89d4b8295536, create latest metrics table\n",
      "INFO  [89d4b8295536_create_latest_metrics_table_py] Migration complete!\n",
      "INFO  [alembic.runtime.migration] Running upgrade 89d4b8295536 -> 2b4d017a5e9b, add model registry tables to db\n",
      "INFO  [2b4d017a5e9b_add_model_registry_tables_to_db_py] Adding registered_models and model_versions tables to database.\n",
      "INFO  [2b4d017a5e9b_add_model_registry_tables_to_db_py] Migration complete!\n",
      "INFO  [alembic.runtime.migration] Running upgrade 2b4d017a5e9b -> cfd24bdc0731, Update run status constraint with killed\n",
      "INFO  [alembic.runtime.migration] Running upgrade cfd24bdc0731 -> 0a8213491aaa, drop_duplicate_killed_constraint\n",
      "INFO  [alembic.runtime.migration] Running upgrade 0a8213491aaa -> 728d730b5ebd, add registered model tags table\n",
      "INFO  [alembic.runtime.migration] Running upgrade 728d730b5ebd -> 27a6a02d2cf1, add model version tags table\n",
      "INFO  [alembic.runtime.migration] Running upgrade 27a6a02d2cf1 -> 84291f40a231, add run_link to model_version\n",
      "INFO  [alembic.runtime.migration] Running upgrade 84291f40a231 -> a8c4a736bde6, allow nulls for run_id\n",
      "INFO  [alembic.runtime.migration] Running upgrade a8c4a736bde6 -> 39d1c3be5f05, add_is_nan_constraint_for_metrics_tables_if_necessary\n",
      "INFO  [alembic.runtime.migration] Running upgrade 39d1c3be5f05 -> c48cb773bb87, reset_default_value_for_is_nan_in_metrics_table_for_mysql\n",
      "INFO  [alembic.runtime.migration] Running upgrade c48cb773bb87 -> bd07f7e963c5, create index on run_uuid\n",
      "INFO  [alembic.runtime.migration] Running upgrade bd07f7e963c5 -> 0c779009ac13, add deleted_time field to runs table\n",
      "INFO  [alembic.runtime.migration] Running upgrade 0c779009ac13 -> cc1f77228345, change param value length to 500\n",
      "INFO  [alembic.runtime.migration] Context impl SQLiteImpl.\n",
      "INFO  [alembic.runtime.migration] Will assume non-transactional DDL.\n"
     ]
    }
   ],
   "source": [
    "# %% 手順3 エクスペリメントの作成\n",
    "# Artifactストレージの場所を指定\n",
    "ARTIFACT_LOCATION = cfg['Path']['artifact_location']\n",
    "# Experimentの生成\n",
    "EXPERIMENT_NAME = 'experiment_tuning'\n",
    "experiment = mlflow.get_experiment_by_name(EXPERIMENT_NAME)\n",
    "if experiment is None:  # 当該Experiment存在しないとき、新たに作成\n",
    "    experiment_id = mlflow.create_experiment(\n",
    "                            name=EXPERIMENT_NAME,\n",
    "                            artifact_location=ARTIFACT_LOCATION)\n",
    "else: # 当該Experiment存在するとき、IDを取得\n",
    "    experiment_id = experiment.experiment_id\n"
   ]
  },
  {
   "cell_type": "code",
   "execution_count": 11,
   "metadata": {},
   "outputs": [],
   "source": [
    "# %% 手順4 実験結果のロギング\n",
    "import seaborn as sns\n",
    "from sklearn.model_selection import GridSearchCV, KFold\n",
    "from sklearn.svm import SVC\n",
    "\n",
    "# データの読込とチューニング条件の指定\n",
    "iris = sns.load_dataset(\"iris\")  # irisデータセット取得\n",
    "OBJECTIVE_VARIALBLE = 'species'  # 目的変数の指定\n",
    "USE_EXPLANATORY = ['petal_width', 'petal_length', 'sepal_width', 'sepal_length']  # 説明変数の指定\n",
    "y = iris[OBJECTIVE_VARIALBLE].values # 目的変数\n",
    "X = iris[USE_EXPLANATORY].values  # 説明変数\n",
    "estimator = SVC()  # 学習器（サポートベクターマシン）\n",
    "cv = KFold(n_splits=3, shuffle=True, random_state=42)  # クロスバリデーション（KFold）\n",
    "scoring = 'f1_micro'  # チューニングに使用するスコア（F1 Micro）\n",
    "cv_params = {'gamma': [0.001, 0.003, 0.01, 0.03, 0.1, 0.3, 1, 3, 10, 30, 100],\n",
    "             'C': [0.01, 0.03, 0.1, 0.3, 1, 3, 10, 30, 100]}  # チューニング用のパラメータ\n"
   ]
  },
  {
   "cell_type": "code",
   "execution_count": 12,
   "metadata": {},
   "outputs": [
    {
     "name": "stderr",
     "output_type": "stream",
     "text": [
      "2022/09/14 01:34:22 WARNING mlflow.utils.autologging_utils: MLflow autologging encountered a warning: \"/opt/conda/lib/python3.10/site-packages/_distutils_hack/__init__.py:33: UserWarning: Setuptools is replacing distutils.\"\n",
      "2022/09/14 01:34:29 INFO mlflow.sklearn.utils: Logging the 5 best runs, 94 runs will be omitted.\n"
     ]
    },
    {
     "name": "stdout",
     "output_type": "stream",
     "text": [
      "最適パラメータ {'C': 100, 'gamma': 0.01}\n",
      "スコア 0.9866666666666667\n"
     ]
    }
   ],
   "source": [
    "# MLflowによるロギング開始\n",
    "mlflow.sklearn.autolog()\n",
    "with mlflow.start_run(experiment_id=experiment_id) as run:\n",
    "    # グリッドサーチのインスタンス作成\n",
    "    gridcv = GridSearchCV(estimator, cv_params, cv=cv,\n",
    "                      scoring=scoring, n_jobs=-1)\n",
    "    # グリッドサーチ実行\n",
    "    gridcv.fit(X, y)\n",
    "    # 最適パラメータの表示\n",
    "    best_params = gridcv.best_params_\n",
    "    best_score = gridcv.best_score_\n",
    "    print(f'最適パラメータ {best_params}\\nスコア {best_score}')\n",
    "# %%\n"
   ]
  },
  {
   "cell_type": "code",
   "execution_count": 9,
   "metadata": {},
   "outputs": [],
   "source": [
    "# mlflow.end_run()"
   ]
  },
  {
   "cell_type": "code",
   "execution_count": 13,
   "metadata": {},
   "outputs": [
    {
     "name": "stdout",
     "output_type": "stream",
     "text": [
      "Current tracking uri: sqlite:///./mlflow/mlruns.db\n",
      "Current model registry uri: sqlite:///./mlflow/mlruns.db\n",
      "Current artifact uri: ./mlruns/0/8db46ebcfffa412abe263292c69361d8/artifacts\n"
     ]
    }
   ],
   "source": [
    "import mlflow\n",
    "# トラッキングサーバの場所\n",
    "tracking_uri = mlflow.get_tracking_uri()\n",
    "print('Current tracking uri: {}'.format(tracking_uri))\n",
    "# レジストリサーバの場所\n",
    "mr_uri = mlflow.get_registry_uri()\n",
    "print('Current model registry uri: {}'.format(mr_uri))\n",
    "# Artifactストレージの場所\n",
    "artifact_uri = mlflow.get_artifact_uri()\n",
    "print('Current artifact uri: {}'.format(artifact_uri))\n"
   ]
  },
  {
   "cell_type": "code",
   "execution_count": null,
   "metadata": {},
   "outputs": [],
   "source": []
  },
  {
   "cell_type": "code",
   "execution_count": null,
   "metadata": {},
   "outputs": [],
   "source": []
  }
 ],
 "metadata": {
  "colab": {
   "collapsed_sections": [],
   "name": "train.ipynb",
   "provenance": []
  },
  "kernelspec": {
   "display_name": "Python 3 (ipykernel)",
   "language": "python",
   "name": "python3"
  },
  "language_info": {
   "codemirror_mode": {
    "name": "ipython",
    "version": 3
   },
   "file_extension": ".py",
   "mimetype": "text/x-python",
   "name": "python",
   "nbconvert_exporter": "python",
   "pygments_lexer": "ipython3",
   "version": "3.10.6"
  }
 },
 "nbformat": 4,
 "nbformat_minor": 4
}
