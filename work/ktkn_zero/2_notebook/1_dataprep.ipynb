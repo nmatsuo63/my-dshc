{
 "cells": [
  {
   "cell_type": "markdown",
   "metadata": {
    "id": "suXTNAk4G5kK"
   },
   "source": [
    "# カタカナの画像認識モデル\n",
    "手書きカタカナ「アイウエオカキクケコサシスセソ」の15文字を高い精度で識別できるモデルを構築する"
   ]
  },
  {
   "cell_type": "code",
   "execution_count": 1,
   "metadata": {},
   "outputs": [],
   "source": [
    "import numpy as np\n",
    "import pandas as pd\n",
    "import matplotlib.pyplot as plt\n",
    "from sklearn.model_selection import train_test_split\n",
    "import pickle"
   ]
  },
  {
   "cell_type": "markdown",
   "metadata": {
    "tags": []
   },
   "source": [
    "## データ準備"
   ]
  },
  {
   "cell_type": "markdown",
   "metadata": {},
   "source": [
    "### 訓練データの読み込み"
   ]
  },
  {
   "cell_type": "code",
   "execution_count": 2,
   "metadata": {},
   "outputs": [],
   "source": [
    "train_data = np.load(\"../1_data/train_data.npy\")\n",
    "train_label = np.load(\"../1_data/train_label.npy\")"
   ]
  },
  {
   "cell_type": "markdown",
   "metadata": {},
   "source": [
    "データの形状を確認する  \n",
    "形状は、それぞれ下記の通り\n",
    "- data：(Nデータ数, Cチャネル数, H高さ方向, W横方向)として出力\n",
    "- label：(Nデータ数、クラス数)"
   ]
  },
  {
   "cell_type": "code",
   "execution_count": 3,
   "metadata": {},
   "outputs": [
    {
     "name": "stdout",
     "output_type": "stream",
     "text": [
      "train_data.shape= (3000, 1, 28, 28)\n",
      "train_label.shape= (3000, 15)\n"
     ]
    }
   ],
   "source": [
    "print(\"train_data.shape=\", train_data.shape)\n",
    "print(\"train_label.shape=\", train_label.shape)"
   ]
  },
  {
   "cell_type": "markdown",
   "metadata": {},
   "source": [
    "データの中身を確認する  \n",
    "全部出力すると見づらいので、0番目のデータについて、縦横ともに5マス(0〜4）のみ表示"
   ]
  },
  {
   "cell_type": "code",
   "execution_count": 4,
   "metadata": {},
   "outputs": [
    {
     "name": "stdout",
     "output_type": "stream",
     "text": [
      "[[254. 254. 254. 254. 254. 254. 255. 255.  25.   0. 248. 255. 254. 254.\n",
      "  254. 254. 254. 254. 254. 254. 254. 254. 255. 255. 255. 255. 255. 254.]\n",
      " [254. 254. 254. 254. 254. 255. 255.   3.   0.   0.   0. 255. 255. 254.\n",
      "  254. 254. 254. 253. 255. 255. 255. 255. 255. 197. 182. 176. 255. 255.]\n",
      " [254. 254. 254. 254. 254. 255. 112.   0.   0.   0.   0. 185. 255. 254.\n",
      "  254. 254. 255. 255. 255. 247. 134.  17.   0.   0.   0.   0.   0. 255.]\n",
      " [254. 254. 254. 254. 255. 255.   0.   0.   0.   0.   0. 255. 255. 254.\n",
      "  253. 255. 255. 239.  73.   0.   0.   0.   0.   0.   0.   0.   0.   0.]]\n"
     ]
    }
   ],
   "source": [
    "# サンプルデータの確認\n",
    "train_data_sample = train_data[0][0][0:4][0:4]\n",
    "print(train_data_sample)"
   ]
  },
  {
   "cell_type": "markdown",
   "metadata": {},
   "source": [
    "各セルには0〜255が入っていることがわかった（255は白を、0は黒を表す）  \n",
    "このままでは扱いづらいので、正規化する"
   ]
  },
  {
   "cell_type": "code",
   "execution_count": 5,
   "metadata": {},
   "outputs": [],
   "source": [
    "# 正規化\n",
    "train_data = (train_data - train_data.min()) / train_data.max()\n",
    "train_data = train_data.astype('float32')"
   ]
  },
  {
   "cell_type": "code",
   "execution_count": 6,
   "metadata": {},
   "outputs": [
    {
     "name": "stdout",
     "output_type": "stream",
     "text": [
      "[[0.99607843 0.99607843 0.99607843 0.99607843 0.99607843 0.99607843\n",
      "  1.         1.         0.09803922 0.         0.972549   1.\n",
      "  0.99607843 0.99607843 0.99607843 0.99607843 0.99607843 0.99607843\n",
      "  0.99607843 0.99607843 0.99607843 0.99607843 1.         1.\n",
      "  1.         1.         1.         0.99607843]\n",
      " [0.99607843 0.99607843 0.99607843 0.99607843 0.99607843 1.\n",
      "  1.         0.01176471 0.         0.         0.         1.\n",
      "  1.         0.99607843 0.99607843 0.99607843 0.99607843 0.99215686\n",
      "  1.         1.         1.         1.         1.         0.77254903\n",
      "  0.7137255  0.6901961  1.         1.        ]\n",
      " [0.99607843 0.99607843 0.99607843 0.99607843 0.99607843 1.\n",
      "  0.4392157  0.         0.         0.         0.         0.7254902\n",
      "  1.         0.99607843 0.99607843 0.99607843 1.         1.\n",
      "  1.         0.96862745 0.5254902  0.06666667 0.         0.\n",
      "  0.         0.         0.         1.        ]\n",
      " [0.99607843 0.99607843 0.99607843 0.99607843 1.         1.\n",
      "  0.         0.         0.         0.         0.         1.\n",
      "  1.         0.99607843 0.99215686 1.         1.         0.9372549\n",
      "  0.28627452 0.         0.         0.         0.         0.\n",
      "  0.         0.         0.         0.        ]]\n"
     ]
    }
   ],
   "source": [
    "# サンプルデータの確認\n",
    "train_data_sample = train_data[0][0][0:4][0:4]\n",
    "print(train_data_sample)"
   ]
  },
  {
   "cell_type": "markdown",
   "metadata": {},
   "source": [
    "### 訓練データの分割"
   ]
  },
  {
   "cell_type": "markdown",
   "metadata": {},
   "source": [
    "train_test_splitを使うため、まずは配列の形式を変更する  \n",
    "784セル(=28x28)にそれぞれ0-1の値が入っている状態なので、784個とそれ以外でreshapeする"
   ]
  },
  {
   "cell_type": "code",
   "execution_count": 7,
   "metadata": {},
   "outputs": [
    {
     "name": "stdout",
     "output_type": "stream",
     "text": [
      "train_data.shape= (3000, 784)\n"
     ]
    }
   ],
   "source": [
    "# 配列形式変更\n",
    "train_data = train_data.reshape(-1, 28*28)\n",
    "print(\"train_data.shape=\", train_data.shape)"
   ]
  },
  {
   "cell_type": "code",
   "execution_count": 8,
   "metadata": {
    "tags": []
   },
   "outputs": [
    {
     "name": "stdout",
     "output_type": "stream",
     "text": [
      "学習用データの形状：(2100, 784)\n",
      "学習用ラベルの形状：(2100, 15)\n",
      "検証用データの形状：(900, 784)\n",
      "検証用ラベルの形状：(900, 15)\n"
     ]
    }
   ],
   "source": [
    "# x_train: 学習用データ、y_train: 学習用ラベル\n",
    "# x_valid: 検証用データ、y_valid: 検証用ラベル\n",
    "x_train, x_valid, y_train, y_valid = train_test_split(train_data, train_label, \n",
    "                                                    test_size=0.3, random_state=1234,\n",
    "                                                    shuffle=True)\n",
    "\n",
    "print(f'学習用データの形状：{x_train.shape}')\n",
    "print(f'学習用ラベルの形状：{y_train.shape}')\n",
    "print(f'検証用データの形状：{x_valid.shape}')\n",
    "print(f'検証用ラベルの形状：{y_valid.shape}')"
   ]
  },
  {
   "cell_type": "markdown",
   "metadata": {},
   "source": [
    "画像として出力できるように形状を元に戻す"
   ]
  },
  {
   "cell_type": "code",
   "execution_count": 9,
   "metadata": {
    "tags": []
   },
   "outputs": [],
   "source": [
    "train = x_train.reshape(-1, 1, 28, 28)\n",
    "valid = x_valid.reshape(-1, 1, 28, 28)"
   ]
  },
  {
   "cell_type": "code",
   "execution_count": 10,
   "metadata": {},
   "outputs": [
    {
     "name": "stdout",
     "output_type": "stream",
     "text": [
      "trainの形状：(2100, 1, 28, 28)\n",
      "validの形状：(900, 1, 28, 28)\n"
     ]
    }
   ],
   "source": [
    "print(f'trainの形状：{train.shape}')\n",
    "print(f'validの形状：{valid.shape}')"
   ]
  },
  {
   "cell_type": "markdown",
   "metadata": {},
   "source": [
    "### データ拡張"
   ]
  },
  {
   "cell_type": "code",
   "execution_count": 11,
   "metadata": {},
   "outputs": [],
   "source": [
    "params = {\n",
    "    'zoom_range': [0.7, 1.3],\n",
    "    'rotation_range': 40,\n",
    "    # 'vertical_flip': True,\n",
    "    # 'horizontal_flip': True,\n",
    "    # 'height_shift_range': 0.1,\n",
    "    # 'width_shift_range': 0.1,\n",
    "    'shear_range': 40,\n",
    "    # 'channel_shift_range': 127\n",
    "}"
   ]
  },
  {
   "cell_type": "code",
   "execution_count": 12,
   "metadata": {},
   "outputs": [
    {
     "name": "stdout",
     "output_type": "stream",
     "text": [
      "2100個のデータから4200個の水増しデータを作成します\n",
      "0個目の水増しデータを作成中【進捗率：0.0%】\n",
      "200個目の水増しデータを作成中【進捗率：4.8%】\n",
      "400個目の水増しデータを作成中【進捗率：9.5%】\n",
      "600個目の水増しデータを作成中【進捗率：14.3%】\n",
      "800個目の水増しデータを作成中【進捗率：19.0%】\n",
      "1000個目の水増しデータを作成中【進捗率：23.8%】\n",
      "1200個目の水増しデータを作成中【進捗率：28.6%】\n",
      "1400個目の水増しデータを作成中【進捗率：33.3%】\n",
      "1600個目の水増しデータを作成中【進捗率：38.1%】\n",
      "1800個目の水増しデータを作成中【進捗率：42.9%】\n",
      "2000個目の水増しデータを作成中【進捗率：47.6%】\n",
      "2200個目の水増しデータを作成中【進捗率：52.4%】\n",
      "2400個目の水増しデータを作成中【進捗率：57.1%】\n",
      "2600個目の水増しデータを作成中【進捗率：61.9%】\n",
      "2800個目の水増しデータを作成中【進捗率：66.7%】\n",
      "3000個目の水増しデータを作成中【進捗率：71.4%】\n",
      "3200個目の水増しデータを作成中【進捗率：76.2%】\n",
      "3400個目の水増しデータを作成中【進捗率：81.0%】\n",
      "3600個目の水増しデータを作成中【進捗率：85.7%】\n",
      "3800個目の水増しデータを作成中【進捗率：90.5%】\n",
      "4000個目の水増しデータを作成中【進捗率：95.2%】\n"
     ]
    }
   ],
   "source": [
    "from common.katakana_data import data_augmentation\n",
    "\n",
    "# データ拡張の準備（パラメータ定義）\n",
    "augm_flag = True\n",
    "add_image_num = len(train) * 2\n",
    "\n",
    "# データ拡張の実行（flow）\n",
    "if augm_flag:\n",
    "    train, y_train = data_augmentation(train, y_train, params, add_image_num)"
   ]
  },
  {
   "cell_type": "code",
   "execution_count": 13,
   "metadata": {},
   "outputs": [
    {
     "name": "stdout",
     "output_type": "stream",
     "text": [
      "train.shape= (6300, 1, 28, 28)\n",
      "y_train.shape= (6300, 15)\n"
     ]
    }
   ],
   "source": [
    "print(\"train.shape=\", train.shape)\n",
    "print(\"y_train.shape=\", y_train.shape)"
   ]
  },
  {
   "cell_type": "code",
   "execution_count": null,
   "metadata": {},
   "outputs": [],
   "source": []
  },
  {
   "cell_type": "markdown",
   "metadata": {},
   "source": [
    "### データの保存"
   ]
  },
  {
   "cell_type": "code",
   "execution_count": 14,
   "metadata": {},
   "outputs": [],
   "source": [
    "np.save(\"../1_data/processed_data_train.npy\", train)\n",
    "np.save(\"../1_data/processed_data_valid.npy\", valid)\n",
    "np.save(\"../1_data/processed_label_train.npy\", y_train)\n",
    "np.save(\"../1_data/processed_label_valid.npy\", y_valid)"
   ]
  },
  {
   "cell_type": "code",
   "execution_count": 15,
   "metadata": {},
   "outputs": [],
   "source": [
    "# train_data = np.load(\"../1_data/train_data.npy\")\n",
    "# train_label = np.load(\"../1_data/train_label.npy\")"
   ]
  },
  {
   "cell_type": "code",
   "execution_count": null,
   "metadata": {},
   "outputs": [],
   "source": []
  }
 ],
 "metadata": {
  "colab": {
   "collapsed_sections": [],
   "name": "train.ipynb",
   "provenance": []
  },
  "kernelspec": {
   "display_name": "Python 3 (ipykernel)",
   "language": "python",
   "name": "python3"
  },
  "language_info": {
   "codemirror_mode": {
    "name": "ipython",
    "version": 3
   },
   "file_extension": ".py",
   "mimetype": "text/x-python",
   "name": "python",
   "nbconvert_exporter": "python",
   "pygments_lexer": "ipython3",
   "version": "3.10.6"
  }
 },
 "nbformat": 4,
 "nbformat_minor": 4
}
