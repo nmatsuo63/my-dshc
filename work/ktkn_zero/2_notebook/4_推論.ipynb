{
 "cells": [
  {
   "cell_type": "markdown",
   "id": "62b72442-69e0-4b5e-9398-9587fac1b331",
   "metadata": {},
   "source": [
    "- ch08/half_float_network.pyを参考にする"
   ]
  },
  {
   "cell_type": "code",
   "execution_count": null,
   "id": "879ee050-fe81-4608-bdfd-b17a225749cd",
   "metadata": {},
   "outputs": [],
   "source": []
  }
 ],
 "metadata": {
  "kernelspec": {
   "display_name": "Python 3 (ipykernel)",
   "language": "python",
   "name": "python3"
  },
  "language_info": {
   "codemirror_mode": {
    "name": "ipython",
    "version": 3
   },
   "file_extension": ".py",
   "mimetype": "text/x-python",
   "name": "python",
   "nbconvert_exporter": "python",
   "pygments_lexer": "ipython3",
   "version": "3.10.6"
  }
 },
 "nbformat": 4,
 "nbformat_minor": 5
}
