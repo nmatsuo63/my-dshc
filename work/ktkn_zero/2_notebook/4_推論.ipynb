{
 "cells": [
  {
   "cell_type": "markdown",
   "id": "62b72442-69e0-4b5e-9398-9587fac1b331",
   "metadata": {},
   "source": [
    "- ch08/half_float_network.pyを参考にする"
   ]
  },
  {
   "cell_type": "code",
   "execution_count": 2,
   "id": "879ee050-fe81-4608-bdfd-b17a225749cd",
   "metadata": {},
   "outputs": [],
   "source": [
    "# coding: utf-8\n",
    "import sys, os\n",
    "sys.path.append(os.pardir)  # 親ディレクトリのファイルをインポートするための設定\n",
    "import numpy as np\n",
    "import matplotlib.pyplot as plt\n",
    "from common.deep_convnet import DeepConvNet"
   ]
  },
  {
   "cell_type": "markdown",
   "id": "43eb1034-2c42-41a4-8618-cb13735876cd",
   "metadata": {},
   "source": [
    "## データ準備"
   ]
  },
  {
   "cell_type": "code",
   "execution_count": 3,
   "id": "ebc771e8-e474-476e-b887-b658cf312d3f",
   "metadata": {},
   "outputs": [],
   "source": [
    "# train_data = np.load(\"../1_data/train_data.npy\")\n",
    "# train_label = np.load(\"../1_data/train_label.npy\")"
   ]
  },
  {
   "cell_type": "code",
   "execution_count": 11,
   "id": "1340ecb1-a0a9-4c30-b91f-735336779856",
   "metadata": {},
   "outputs": [
    {
     "name": "stdout",
     "output_type": "stream",
     "text": [
      "(1000, 1, 28, 28) (1000, 15)\n"
     ]
    }
   ],
   "source": [
    "# x_test = train_data[10:1010]\n",
    "# t_test = train_label[10:1010]\n",
    "# print(x_test.shape, t_test.shape)"
   ]
  },
  {
   "cell_type": "code",
   "execution_count": 12,
   "id": "40744d26-9599-45bf-b991-acd18f337431",
   "metadata": {},
   "outputs": [],
   "source": [
    "def makedataset():\n",
    "    \"\"\"\n",
    "    データセットをつくる関数です。\n",
    "    自由に編集してください。\n",
    "    \"\"\"\n",
    "    \n",
    "    # 次の行は変更しないこと\n",
    "    test_data= util.loaddata()\n",
    "    \n",
    "    # 以下は自由に編集しても構いません\n",
    "    # 必要な前処理をここに記述してください  \n",
    "    \n",
    "    # 正規化\n",
    "    test_data = test_data / test_data.max()\n",
    "    test_data = test_data.astype('float32')\n",
    "\n",
    "    # 配列形式変更\n",
    "    # 溝口さんより。全結合NNに入力する場合であり、CNNの場合は不要\n",
    "    # test_data = test_data.reshape(-1, 28*28)\n",
    "\n",
    "    return test_data"
   ]
  },
  {
   "cell_type": "markdown",
   "id": "ac30d9df-9002-4a23-8240-fc031db70b95",
   "metadata": {},
   "source": [
    "## 推論処理"
   ]
  },
  {
   "cell_type": "code",
   "execution_count": 8,
   "id": "d98324f1-8b17-448c-b4c6-24304ce317ba",
   "metadata": {},
   "outputs": [
    {
     "name": "stdout",
     "output_type": "stream",
     "text": [
      "ネットワーク生成完了\n"
     ]
    }
   ],
   "source": [
    "# # ネットワーク生成\n",
    "# network = DeepConvNet()\n",
    "# network.load_params(\"katakana_params.pkl\")\n",
    "# print(\"ネットワーク生成完了\")"
   ]
  },
  {
   "cell_type": "code",
   "execution_count": 14,
   "id": "8372efcf-9547-4814-bf47-65ae3643b142",
   "metadata": {},
   "outputs": [],
   "source": [
    "def func_predict(test_data, test_label):\n",
    "    \"\"\"\n",
    "    予測する関数\n",
    "    data : 画像データ\n",
    "    return loss, accuracy\n",
    "    引数とreturn以外は、自由に編集してください    \n",
    "    \"\"\"\n",
    "    \n",
    "    # 以下を自由に編集してください\n",
    "    model = DeepConvNet()\n",
    "    model.load_params(\"katakana_params.pkl\")\n",
    "    \n",
    "    accuracy = model.accuracy(test_data, test_label)\n",
    "    # accuracy(self, x, t, batch_size=100)\n",
    "    loss  = model.loss(test_data, test_label)\n",
    "    \n",
    "    return loss, accuracy # 編集不可"
   ]
  },
  {
   "cell_type": "code",
   "execution_count": 6,
   "id": "a70955b9-7c13-4f48-a520-789a72f10f4d",
   "metadata": {},
   "outputs": [
    {
     "name": "stdout",
     "output_type": "stream",
     "text": [
      "データをセット\n",
      "x_testのshape：(500, 1, 28, 28)\n",
      "t_testのshape：(500, 15)\n"
     ]
    }
   ],
   "source": [
    "def main():\n",
    "    \"\"\"\n",
    "    編集しないでください。\n",
    "    \"\"\"\n",
    "    # テスト用データをつくる\n",
    "    test_data = makedataset()\n",
    "\n",
    "    # 予測し精度を算出する\n",
    "    util.accuracy(func_predict, test_data)\n",
    "    \n",
    "    return\n",
    "\n",
    "\n",
    "if __name__==\"__main__\":\n",
    "    main()"
   ]
  },
  {
   "cell_type": "code",
   "execution_count": 9,
   "id": "f1ad54df-bf2f-4ea0-8473-59ae146744cf",
   "metadata": {},
   "outputs": [
    {
     "name": "stdout",
     "output_type": "stream",
     "text": [
      "caluculate accuracy (float64) ... \n",
      "0.626\n"
     ]
    }
   ],
   "source": [
    "# # 推論処理\n",
    "# print(\"caluculate accuracy (float64) ... \")\n",
    "# print(network.accuracy(x_test, t_test))\n"
   ]
  },
  {
   "cell_type": "code",
   "execution_count": 10,
   "id": "5dec0951-1716-4eea-b8c6-b580913d8285",
   "metadata": {},
   "outputs": [
    {
     "name": "stdout",
     "output_type": "stream",
     "text": [
      "caluculate accuracy (float16) ... \n",
      "0.624\n"
     ]
    }
   ],
   "source": [
    "# # 推論処理（float16に型変換することでメモリ軽量化）\n",
    "# x_test = x_test.astype(np.float16)\n",
    "# for param in network.params.values():\n",
    "#     param[...] = param.astype(np.float16)\n",
    "\n",
    "# print(\"caluculate accuracy (float16) ... \")\n",
    "# print(network.accuracy(x_test, t_test))\n"
   ]
  },
  {
   "cell_type": "code",
   "execution_count": null,
   "id": "a2b475c5-aa7a-489f-b1e8-f99581866cbd",
   "metadata": {},
   "outputs": [],
   "source": []
  }
 ],
 "metadata": {
  "kernelspec": {
   "display_name": "Python 3 (ipykernel)",
   "language": "python",
   "name": "python3"
  },
  "language_info": {
   "codemirror_mode": {
    "name": "ipython",
    "version": 3
   },
   "file_extension": ".py",
   "mimetype": "text/x-python",
   "name": "python",
   "nbconvert_exporter": "python",
   "pygments_lexer": "ipython3",
   "version": "3.10.6"
  }
 },
 "nbformat": 4,
 "nbformat_minor": 5
}
