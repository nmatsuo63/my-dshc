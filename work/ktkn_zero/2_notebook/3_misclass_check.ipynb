{
 "cells": [
  {
   "cell_type": "markdown",
   "id": "e4822bba-dc53-4482-b4a4-9695dc7b4046",
   "metadata": {},
   "source": [
    "- ch08/misclassified_mnist.pyを参考にする\n"
   ]
  },
  {
   "cell_type": "code",
   "execution_count": null,
   "id": "47bf267b-9d7e-45c8-bf55-1486971a936d",
   "metadata": {},
   "outputs": [],
   "source": []
  }
 ],
 "metadata": {
  "kernelspec": {
   "display_name": "Python 3 (ipykernel)",
   "language": "python",
   "name": "python3"
  },
  "language_info": {
   "codemirror_mode": {
    "name": "ipython",
    "version": 3
   },
   "file_extension": ".py",
   "mimetype": "text/x-python",
   "name": "python",
   "nbconvert_exporter": "python",
   "pygments_lexer": "ipython3",
   "version": "3.10.6"
  }
 },
 "nbformat": 4,
 "nbformat_minor": 5
}
