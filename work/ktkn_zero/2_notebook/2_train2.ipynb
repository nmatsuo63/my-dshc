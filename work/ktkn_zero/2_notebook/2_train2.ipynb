{
 "cells": [
  {
   "cell_type": "code",
   "execution_count": null,
   "id": "2b3e0bda-8e0e-4e09-aebd-37243da9f92d",
   "metadata": {},
   "outputs": [],
   "source": []
  },
  {
   "cell_type": "code",
   "execution_count": 1,
   "id": "5811dc6a-e6f5-478c-b477-4bd50e9f5a57",
   "metadata": {},
   "outputs": [],
   "source": [
    "import numpy as np\n",
    "import pandas as pd\n",
    "import matplotlib.pyplot as plt\n",
    "from sklearn.model_selection import train_test_split\n",
    "import pickle"
   ]
  },
  {
   "cell_type": "markdown",
   "id": "26ab163e-9c49-4e66-8aff-33ef77941574",
   "metadata": {},
   "source": [
    "## データ準備"
   ]
  },
  {
   "cell_type": "markdown",
   "id": "97c79b24-36a9-4948-a967-b6706f521230",
   "metadata": {},
   "source": [
    "### 訓練データ&検証データの読み込み"
   ]
  },
  {
   "cell_type": "code",
   "execution_count": 2,
   "id": "479348fe-1cbc-4b38-82dd-33bb7305f8f6",
   "metadata": {},
   "outputs": [],
   "source": [
    "train = np.load(\"../1_data/processed_data_train.npy\")\n",
    "valid = np.load(\"../1_data/processed_data_valid.npy\")\n",
    "y_train = np.load(\"../1_data/processed_label_train.npy\")\n",
    "y_valid = np.load(\"../1_data/processed_label_valid.npy\")"
   ]
  },
  {
   "cell_type": "code",
   "execution_count": 3,
   "id": "54c3b848-f373-4cb6-b7e9-fc921665c3f9",
   "metadata": {},
   "outputs": [
    {
     "name": "stdout",
     "output_type": "stream",
     "text": [
      "学習用データの形状：(4200, 1, 28, 28)\n",
      "学習用ラベルの形状：(4200, 15)\n",
      "検証用データの形状：(900, 1, 28, 28)\n",
      "検証用ラベルの形状：(900, 15)\n"
     ]
    }
   ],
   "source": [
    "print(f'学習用データの形状：{train.shape}')\n",
    "print(f'学習用ラベルの形状：{y_train.shape}')\n",
    "print(f'検証用データの形状：{valid.shape}')\n",
    "print(f'検証用ラベルの形状：{y_valid.shape}')"
   ]
  },
  {
   "cell_type": "markdown",
   "id": "e2e432d6-4e53-4948-9cb7-d4cc43d3377f",
   "metadata": {},
   "source": [
    "## モデル構築・学習"
   ]
  },
  {
   "cell_type": "code",
   "execution_count": 4,
   "id": "bab7eba6-cda9-43bf-ab76-687872ab8662",
   "metadata": {},
   "outputs": [],
   "source": [
    "from common.deep_convnet import DeepConvNet\n",
    "from common.trainer import Trainer\n"
   ]
  },
  {
   "cell_type": "code",
   "execution_count": 5,
   "id": "b6535dfc-cf4b-4e87-8769-2ad4496a4faa",
   "metadata": {},
   "outputs": [],
   "source": [
    "# sampled = 200 # 高速化のため\n",
    "# train = train[:sampled]\n",
    "# y_train = y_train[:sampled]"
   ]
  },
  {
   "cell_type": "code",
   "execution_count": 6,
   "id": "13de3425-e272-4e01-be47-e4303a23e382",
   "metadata": {},
   "outputs": [
    {
     "name": "stdout",
     "output_type": "stream",
     "text": [
      "訓練データをセット\n",
      "trainのshape：(4200, 1, 28, 28)\n",
      "y_trainのshape：(4200, 15)\n"
     ]
    }
   ],
   "source": [
    "print(\"訓練データをセット\")\n",
    "print(f'trainのshape：{train.shape}')\n",
    "print(f'y_trainのshape：{y_train.shape}')"
   ]
  },
  {
   "cell_type": "code",
   "execution_count": null,
   "id": "861c7bbc-bb4a-40e5-b108-89c2196135b2",
   "metadata": {},
   "outputs": [],
   "source": []
  },
  {
   "cell_type": "code",
   "execution_count": 7,
   "id": "4536162e-11ab-4d36-b5d6-618a2a899012",
   "metadata": {},
   "outputs": [
    {
     "name": "stdout",
     "output_type": "stream",
     "text": [
      "ネットワーク生成完了\n"
     ]
    }
   ],
   "source": [
    "# ネットワーク生成（モデル構築）\n",
    "network = DeepConvNet()  \n",
    "print(\"ネットワーク生成完了\")\n"
   ]
  },
  {
   "cell_type": "code",
   "execution_count": null,
   "id": "5afccac4-6493-42e8-b17e-79b977c1772c",
   "metadata": {
    "tags": []
   },
   "outputs": [],
   "source": [
    "# 学習\n",
    "trainer = Trainer(network, train, y_train, valid, y_valid,\n",
    "                  epochs=100, mini_batch_size=100,\n",
    "                  optimizer='RMSprop', optimizer_param={'lr':0.01, 'decay_rate':0.9},\n",
    "                  evaluate_sample_num_per_epoch=1000)\n",
    "\n",
    "# trainer = Trainer(network, train, y_train, valid, y_valid,\n",
    "#                   epochs=20, mini_batch_size=100,\n",
    "#                   optimizer='Adam', optimizer_param={'lr':0.001},\n",
    "#                   evaluate_sample_num_per_epoch=1000)\n",
    "\n",
    "trainer.train()"
   ]
  },
  {
   "cell_type": "code",
   "execution_count": null,
   "id": "17411e20-1bba-469f-9aec-612d9160f0d4",
   "metadata": {},
   "outputs": [],
   "source": [
    "train_acc = trainer.train_acc_list\n",
    "train_loss = trainer.train_loss_list\n",
    "valid_acc = trainer.test_acc_list"
   ]
  },
  {
   "cell_type": "code",
   "execution_count": null,
   "id": "0d4df226-9f51-4a25-997c-2ce8844f08af",
   "metadata": {},
   "outputs": [],
   "source": [
    "print(len(train_acc))\n",
    "print(len(train_loss))\n",
    "print(len(valid_acc))"
   ]
  },
  {
   "cell_type": "code",
   "execution_count": null,
   "id": "18187463-f35c-4cae-b60f-c53236e0797f",
   "metadata": {},
   "outputs": [],
   "source": [
    "# lossとaccuracyのグラフ化\n",
    "df_log = pd.DataFrame({\"train_loss\":train_loss,\n",
    "             # \"valid_loss\":valid_loss,\n",
    "             \"train_acc\":train_acc,\n",
    "             \"valid_acc\":valid_acc})\n",
    "\n",
    "df_log.plot(style=['r-', 'b-', 'b--'])\n",
    "plt.ylim([0,3])\n",
    "plt.ylabel(\"Accuracy or loss\")\n",
    "plt.xlabel(\"epochs\")\n",
    "plt.show()"
   ]
  },
  {
   "cell_type": "markdown",
   "id": "22a25b12-d13f-45e9-a7aa-aa84a26beac5",
   "metadata": {},
   "source": [
    "### 学習済みモデルの出力"
   ]
  },
  {
   "cell_type": "code",
   "execution_count": null,
   "id": "eef4637b-ffbd-44b7-859d-c4d22b9527bb",
   "metadata": {},
   "outputs": [],
   "source": [
    "# with open(\"katakana_model.pickle\", \"wb\") as f:\n",
    "#     pickle.dump(tnet, f)"
   ]
  },
  {
   "cell_type": "code",
   "execution_count": 14,
   "id": "2ab84420-35af-4491-8daa-047bedd78f0f",
   "metadata": {},
   "outputs": [
    {
     "name": "stdout",
     "output_type": "stream",
     "text": [
      "Saved Network Parameters!\n"
     ]
    }
   ],
   "source": [
    "network.save_params(\"94%_katakana_params.pkl\")\n",
    "print(\"Saved Network Parameters!\")"
   ]
  },
  {
   "cell_type": "code",
   "execution_count": null,
   "id": "3e4767d4-8385-4687-ba91-0fb73a9d7b14",
   "metadata": {},
   "outputs": [],
   "source": []
  }
 ],
 "metadata": {
  "kernelspec": {
   "display_name": "Python 3 (ipykernel)",
   "language": "python",
   "name": "python3"
  },
  "language_info": {
   "codemirror_mode": {
    "name": "ipython",
    "version": 3
   },
   "file_extension": ".py",
   "mimetype": "text/x-python",
   "name": "python",
   "nbconvert_exporter": "python",
   "pygments_lexer": "ipython3",
   "version": "3.10.6"
  }
 },
 "nbformat": 4,
 "nbformat_minor": 5
}
