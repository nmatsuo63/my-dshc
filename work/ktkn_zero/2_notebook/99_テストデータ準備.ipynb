{
 "cells": [
  {
   "cell_type": "markdown",
   "metadata": {},
   "source": [
    "# テストデータの作成\n",
    "手元で提出テストができるようにテストデータを作成する"
   ]
  },
  {
   "cell_type": "code",
   "execution_count": 1,
   "metadata": {},
   "outputs": [],
   "source": [
    "import numpy as np\n",
    "import pandas as pd\n",
    "import matplotlib.pyplot as plt\n",
    "from sklearn.model_selection import train_test_split\n",
    "import pickle"
   ]
  },
  {
   "cell_type": "markdown",
   "metadata": {
    "tags": []
   },
   "source": [
    "## データ準備"
   ]
  },
  {
   "cell_type": "markdown",
   "metadata": {},
   "source": [
    "### 訓練データの読み込み"
   ]
  },
  {
   "cell_type": "code",
   "execution_count": 2,
   "metadata": {},
   "outputs": [],
   "source": [
    "train_data = np.load(\"../1_data/train_data.npy\")\n",
    "train_label = np.load(\"../1_data/train_label.npy\")"
   ]
  },
  {
   "cell_type": "markdown",
   "metadata": {},
   "source": [
    "データの形状を確認する  \n",
    "形状は、それぞれ下記の通り\n",
    "- data：(Nデータ数, Cチャネル数, H高さ方向, W横方向)として出力\n",
    "- label：(Nデータ数、クラス数)"
   ]
  },
  {
   "cell_type": "code",
   "execution_count": 3,
   "metadata": {},
   "outputs": [
    {
     "name": "stdout",
     "output_type": "stream",
     "text": [
      "train_data.shape= (3000, 1, 28, 28)\n",
      "train_label.shape= (3000, 15)\n"
     ]
    }
   ],
   "source": [
    "print(\"train_data.shape=\", train_data.shape)\n",
    "print(\"train_label.shape=\", train_label.shape)"
   ]
  },
  {
   "cell_type": "markdown",
   "metadata": {},
   "source": [
    "データの中身を確認する  \n",
    "全部出力すると見づらいので、0番目のデータについて、縦横ともに5マス(0〜4）のみ表示"
   ]
  },
  {
   "cell_type": "code",
   "execution_count": 4,
   "metadata": {},
   "outputs": [],
   "source": [
    "test_data = train_data\n",
    "test_label = train_label"
   ]
  },
  {
   "cell_type": "code",
   "execution_count": 5,
   "metadata": {},
   "outputs": [
    {
     "name": "stdout",
     "output_type": "stream",
     "text": [
      "test_data.shape= (3000, 1, 28, 28)\n",
      "test_label.shape= (3000, 15)\n"
     ]
    }
   ],
   "source": [
    "print(\"test_data.shape=\", test_data.shape)\n",
    "print(\"test_label.shape=\", test_label.shape)"
   ]
  },
  {
   "cell_type": "code",
   "execution_count": 6,
   "metadata": {},
   "outputs": [
    {
     "name": "stderr",
     "output_type": "stream",
     "text": [
      "2022-09-29 19:37:56.862832: I tensorflow/core/platform/cpu_feature_guard.cc:193] This TensorFlow binary is optimized with oneAPI Deep Neural Network Library (oneDNN) to use the following CPU instructions in performance-critical operations:  AVX2 FMA\n",
      "To enable them in other operations, rebuild TensorFlow with the appropriate compiler flags.\n",
      "2022-09-29 19:37:57.038334: W tensorflow/stream_executor/platform/default/dso_loader.cc:64] Could not load dynamic library 'libcudart.so.11.0'; dlerror: libcudart.so.11.0: cannot open shared object file: No such file or directory\n",
      "2022-09-29 19:37:57.038408: I tensorflow/stream_executor/cuda/cudart_stub.cc:29] Ignore above cudart dlerror if you do not have a GPU set up on your machine.\n",
      "2022-09-29 19:37:57.068727: E tensorflow/stream_executor/cuda/cuda_blas.cc:2981] Unable to register cuBLAS factory: Attempting to register factory for plugin cuBLAS when one has already been registered\n",
      "2022-09-29 19:37:57.807600: W tensorflow/stream_executor/platform/default/dso_loader.cc:64] Could not load dynamic library 'libnvinfer.so.7'; dlerror: libnvinfer.so.7: cannot open shared object file: No such file or directory\n",
      "2022-09-29 19:37:57.807812: W tensorflow/stream_executor/platform/default/dso_loader.cc:64] Could not load dynamic library 'libnvinfer_plugin.so.7'; dlerror: libnvinfer_plugin.so.7: cannot open shared object file: No such file or directory\n",
      "2022-09-29 19:37:57.807835: W tensorflow/compiler/tf2tensorrt/utils/py_utils.cc:38] TF-TRT Warning: Cannot dlopen some TensorRT libraries. If you would like to use Nvidia GPU with TensorRT, please make sure the missing libraries mentioned above are installed properly.\n"
     ]
    }
   ],
   "source": [
    "from common.katakana_data import plot_katakana"
   ]
  },
  {
   "cell_type": "code",
   "execution_count": 7,
   "metadata": {},
   "outputs": [
    {
     "name": "stdout",
     "output_type": "stream",
     "text": [
      "[0 0 0 0 0 0 0 0 0 0 0 0 0 1 0]\n"
     ]
    },
    {
     "data": {
      "image/png": "[encoded data removed]",
      "text/plain": [
       "<Figure size 640x480 with 1 Axes>"
      ]
     },
     "metadata": {},
     "output_type": "display_data"
    }
   ],
   "source": [
    "plot_katakana(test_data, test_label, 1)"
   ]
  },
  {
   "cell_type": "code",
   "execution_count": 8,
   "metadata": {},
   "outputs": [],
   "source": [
    "# num_image = 1450 - len(test_data)\n",
    "# print(num_image)"
   ]
  },
  {
   "cell_type": "markdown",
   "metadata": {},
   "source": [
    "## データ拡張\n",
    "14500個のデータが必要なのでデータ拡張する"
   ]
  },
  {
   "cell_type": "code",
   "execution_count": 9,
   "metadata": {},
   "outputs": [],
   "source": [
    "# from keras.preprocessing.image import ImageDataGenerator"
   ]
  },
  {
   "cell_type": "code",
   "execution_count": 10,
   "metadata": {},
   "outputs": [],
   "source": [
    "params = {\n",
    "    'zoom_range': [0.8, 1.2],\n",
    "    'rotation_range': 20,\n",
    "    # 'vertical_flip': True,\n",
    "    # 'horizontal_flip': True,\n",
    "    # 'height_shift_range': 0.1,\n",
    "    # 'width_shift_range': 0.1,\n",
    "    'shear_range': 20,\n",
    "    # 'channel_shift_range': 127\n",
    "}"
   ]
  },
  {
   "cell_type": "code",
   "execution_count": 12,
   "metadata": {},
   "outputs": [
    {
     "name": "stdout",
     "output_type": "stream",
     "text": [
      "3000個のデータから11500個の水増しデータを作成します\n",
      "0個目の水増しデータを作成中【進捗率：0e+00%】\n",
      "200個目の水増しデータを作成中【進捗率：2e+00%】\n",
      "400個目の水増しデータを作成中【進捗率：3e+00%】\n",
      "600個目の水増しデータを作成中【進捗率：5e+00%】\n",
      "800個目の水増しデータを作成中【進捗率：7e+00%】\n",
      "1000個目の水増しデータを作成中【進捗率：9e+00%】\n",
      "1200個目の水増しデータを作成中【進捗率：1e+01%】\n",
      "1400個目の水増しデータを作成中【進捗率：1e+01%】\n",
      "1600個目の水増しデータを作成中【進捗率：1e+01%】\n",
      "1800個目の水増しデータを作成中【進捗率：2e+01%】\n",
      "2000個目の水増しデータを作成中【進捗率：2e+01%】\n",
      "2200個目の水増しデータを作成中【進捗率：2e+01%】\n",
      "2400個目の水増しデータを作成中【進捗率：2e+01%】\n",
      "2600個目の水増しデータを作成中【進捗率：2e+01%】\n",
      "2800個目の水増しデータを作成中【進捗率：2e+01%】\n",
      "3000個目の水増しデータを作成中【進捗率：3e+01%】\n",
      "3200個目の水増しデータを作成中【進捗率：3e+01%】\n",
      "3400個目の水増しデータを作成中【進捗率：3e+01%】\n",
      "3600個目の水増しデータを作成中【進捗率：3e+01%】\n",
      "3800個目の水増しデータを作成中【進捗率：3e+01%】\n",
      "4000個目の水増しデータを作成中【進捗率：3e+01%】\n",
      "4200個目の水増しデータを作成中【進捗率：4e+01%】\n",
      "4400個目の水増しデータを作成中【進捗率：4e+01%】\n",
      "4600個目の水増しデータを作成中【進捗率：4e+01%】\n",
      "4800個目の水増しデータを作成中【進捗率：4e+01%】\n",
      "5000個目の水増しデータを作成中【進捗率：4e+01%】\n",
      "5200個目の水増しデータを作成中【進捗率：5e+01%】\n",
      "5400個目の水増しデータを作成中【進捗率：5e+01%】\n",
      "5600個目の水増しデータを作成中【進捗率：5e+01%】\n",
      "5800個目の水増しデータを作成中【進捗率：5e+01%】\n",
      "6000個目の水増しデータを作成中【進捗率：5e+01%】\n",
      "6200個目の水増しデータを作成中【進捗率：5e+01%】\n",
      "6400個目の水増しデータを作成中【進捗率：6e+01%】\n",
      "6600個目の水増しデータを作成中【進捗率：6e+01%】\n",
      "6800個目の水増しデータを作成中【進捗率：6e+01%】\n",
      "7000個目の水増しデータを作成中【進捗率：6e+01%】\n",
      "7200個目の水増しデータを作成中【進捗率：6e+01%】\n",
      "7400個目の水増しデータを作成中【進捗率：6e+01%】\n",
      "7600個目の水増しデータを作成中【進捗率：7e+01%】\n",
      "7800個目の水増しデータを作成中【進捗率：7e+01%】\n",
      "8000個目の水増しデータを作成中【進捗率：7e+01%】\n",
      "8200個目の水増しデータを作成中【進捗率：7e+01%】\n",
      "8400個目の水増しデータを作成中【進捗率：7e+01%】\n",
      "8600個目の水増しデータを作成中【進捗率：7e+01%】\n",
      "8800個目の水増しデータを作成中【進捗率：8e+01%】\n",
      "9000個目の水増しデータを作成中【進捗率：8e+01%】\n",
      "9200個目の水増しデータを作成中【進捗率：8e+01%】\n",
      "9400個目の水増しデータを作成中【進捗率：8e+01%】\n",
      "9600個目の水増しデータを作成中【進捗率：8e+01%】\n",
      "9800個目の水増しデータを作成中【進捗率：9e+01%】\n",
      "10000個目の水増しデータを作成中【進捗率：9e+01%】\n",
      "10200個目の水増しデータを作成中【進捗率：9e+01%】\n",
      "10400個目の水増しデータを作成中【進捗率：9e+01%】\n",
      "10600個目の水増しデータを作成中【進捗率：9e+01%】\n",
      "10800個目の水増しデータを作成中【進捗率：9e+01%】\n",
      "11000個目の水増しデータを作成中【進捗率：1e+02%】\n",
      "11200個目の水増しデータを作成中【進捗率：1e+02%】\n",
      "11400個目の水増しデータを作成中【進捗率：1e+02%】\n"
     ]
    }
   ],
   "source": [
    "from common.katakana_data import data_augmentation\n",
    "\n",
    "# データ拡張の準備（パラメータ定義）\n",
    "augm_flag = True\n",
    "num_image = 14500 - len(test_data)\n",
    "\n",
    "# データ拡張の実行（flow）\n",
    "if augm_flag:\n",
    "    test_data, test_label = data_augmentation(test_data, test_label, params, num_image)"
   ]
  },
  {
   "cell_type": "code",
   "execution_count": 39,
   "metadata": {},
   "outputs": [],
   "source": [
    "# num_image = 1450 - len(test_data)\n",
    "# # num_image = 10\n",
    "# test_data, test_label = data_augmentation(test_data, test_label, params, num_image)"
   ]
  },
  {
   "cell_type": "code",
   "execution_count": 53,
   "metadata": {},
   "outputs": [
    {
     "name": "stdout",
     "output_type": "stream",
     "text": [
      "test_data.shape= (14500, 1, 28, 28)\n",
      "test_label.shape= (14500, 15)\n"
     ]
    }
   ],
   "source": [
    "print(\"test_data.shape=\", test_data.shape)\n",
    "print(\"test_label.shape=\", test_label.shape)"
   ]
  },
  {
   "cell_type": "code",
   "execution_count": 54,
   "metadata": {},
   "outputs": [
    {
     "name": "stdout",
     "output_type": "stream",
     "text": [
      "[0 0 0 0 0 0 0 0 0 0 1 0 0 0 0]\n"
     ]
    },
    {
     "data": {
      "image/png": "[encoded data removed]",
      "text/plain": [
       "<Figure size 640x480 with 1 Axes>"
      ]
     },
     "metadata": {},
     "output_type": "display_data"
    }
   ],
   "source": [
    "plot_katakana(test_data, test_label, 200)"
   ]
  },
  {
   "cell_type": "code",
   "execution_count": null,
   "metadata": {},
   "outputs": [],
   "source": []
  },
  {
   "cell_type": "code",
   "execution_count": null,
   "metadata": {},
   "outputs": [],
   "source": []
  },
  {
   "cell_type": "code",
   "execution_count": null,
   "metadata": {},
   "outputs": [],
   "source": []
  },
  {
   "cell_type": "markdown",
   "metadata": {},
   "source": [
    "### データの保存"
   ]
  },
  {
   "cell_type": "code",
   "execution_count": 55,
   "metadata": {},
   "outputs": [],
   "source": [
    "np.save(\"../1_data/test_data.npy\", test_data)\n",
    "np.save(\"../1_data/test_label.npy\", test_label)"
   ]
  },
  {
   "cell_type": "markdown",
   "metadata": {},
   "source": []
  },
  {
   "cell_type": "code",
   "execution_count": null,
   "metadata": {},
   "outputs": [],
   "source": []
  }
 ],
 "metadata": {
  "colab": {
   "collapsed_sections": [],
   "name": "train.ipynb",
   "provenance": []
  },
  "kernelspec": {
   "display_name": "Python 3 (ipykernel)",
   "language": "python",
   "name": "python3"
  },
  "language_info": {
   "codemirror_mode": {
    "name": "ipython",
    "version": 3
   },
   "file_extension": ".py",
   "mimetype": "text/x-python",
   "name": "python",
   "nbconvert_exporter": "python",
   "pygments_lexer": "ipython3",
   "version": "3.10.6"
  }
 },
 "nbformat": 4,
 "nbformat_minor": 4
}
